{
 "cells": [
  {
   "cell_type": "code",
   "execution_count": null,
   "metadata": {},
   "outputs": [],
   "source": [
    "import pandas as pd\n",
    "import numpy as np"
   ]
  },
  {
   "cell_type": "code",
   "execution_count": null,
   "metadata": {},
   "outputs": [],
   "source": [
    "circuits = pd.read_csv('../data/raw/circuits.csv')\n",
    "constructor_results = pd.read_csv('../data/raw/constructor_results.csv')\n",
    "constructor_standings = pd.read_csv('../data/raw/constructor_standings.csv')\n",
    "constructors = pd.read_csv('../data/raw/constructors.csv')\n",
    "driver_standings = pd.read_csv('../data/raw/driver_standings.csv')\n",
    "drivers = pd.read_csv('../data/raw/drivers.csv', parse_dates=[6])\n",
    "lap_times = pd.read_csv('../data/raw/lap_times.csv')\n",
    "pit_stops = pd.read_csv('../data/raw/pit_stops.csv')\n",
    "qualifying = pd.read_csv('../data/raw/qualifying.csv')\n",
    "races = pd.read_csv('../data/raw/races.csv', parse_dates=[5])\n",
    "results = pd.read_csv('../data/raw/results.csv')\n",
    "seasons = pd.read_csv('../data/raw/seasons.csv')\n",
    "status = pd.read_csv('../data/raw/status.csv')"
   ]
  },
  {
   "cell_type": "code",
   "execution_count": null,
   "metadata": {},
   "outputs": [],
   "source": [
    "result_with_dob = results.merge(drivers, left_on='driverId', right_on='driverId')\n",
    "results_with_dob_date = result_with_dob.merge(races, on = 'raceId', how = 'left')"
   ]
  },
  {
   "cell_type": "code",
   "execution_count": null,
   "metadata": {},
   "outputs": [],
   "source": [
    "#results_with_dob_date['ageAtRace'] = pd.to_datetime(results_with_dob_date['date']) - pd.to_datetime(results_with_dob_date['dob'])\n",
    "pd.to_datetime(results_with_dob_date['date'])\n",
    "pd.to_datetime(results_with_dob_date['dob'])"
   ]
  },
  {
   "cell_type": "code",
   "execution_count": null,
   "metadata": {},
   "outputs": [],
   "source": [
    "#Calculate age at race in days (timedelta)\n",
    "results_with_dob_date['ageAtRace'] = results_with_dob_date['date'] - results_with_dob_date['dob']"
   ]
  },
  {
   "cell_type": "code",
   "execution_count": null,
   "metadata": {},
   "outputs": [],
   "source": [
    "#Calculate how many days in f1 in days (timedelta)\n",
    "date_of_debut = results_with_dob_date.groupby('driverId')['date'].min().to_frame()\n",
    "date_of_debut = date_of_debut.merge(drivers, on = 'driverId', how = 'left').rename(columns={'date':'date_of_debut'})\n",
    "date_of_debut = date_of_debut[['driverId','date_of_debut']]\n",
    "date_of_debut['date_of_debut']\n",
    "df = results_with_dob_date.merge(date_of_debut, on = 'driverId', how = 'left')\n",
    "df['ageAtDebut'] = df['date_of_debut'] - df['dob']\n",
    "df['yearsExperience'] = df['date'] - df['date_of_debut']"
   ]
  },
  {
   "cell_type": "code",
   "execution_count": null,
   "metadata": {},
   "outputs": [],
   "source": [
    "#Drop columns\n",
    "df = df.drop(columns=['number_y', 'number_x', 'code', 'forename', 'surname', 'dob', 'url_x', 'time_y', 'url_y'])\n",
    "\n",
    "#Rename Columns\n",
    "df = df.rename(columns={\"grid\": \"gridStart\", \"name\": \"circuitName\", \"date_of_debut\" : \"dateOfDebut\", \"points\": \"pointsGained\"})"
   ]
  },
  {
   "cell_type": "code",
   "execution_count": null,
   "metadata": {},
   "outputs": [],
   "source": [
    "#Add is racing at home feature\n",
    "df['racingAtHome'] = df.apply(lambda row: row.nationality in row.circuitName, axis=1)"
   ]
  },
  {
   "cell_type": "code",
   "execution_count": null,
   "metadata": {},
   "outputs": [],
   "source": [
    "#Convert ages from days to years\n",
    "df['ageAtRace'] = df.apply(lambda row: row.ageAtRace / pd.Timedelta('365 days'), axis=1)\n",
    "df['ageAtDebut'] = df.apply(lambda row: row.ageAtDebut / pd.Timedelta('365 days'), axis=1)\n",
    "df['yearsExperience'] = df.apply(lambda row: row.yearsExperience / pd.Timedelta('365 days'), axis=1)"
   ]
  },
  {
   "cell_type": "code",
   "execution_count": null,
   "metadata": {},
   "outputs": [],
   "source": [
    "#Add starts in first 2 places on the grid\n",
    "df['startsFrontRow'] = df['gridStart'] <= 2"
   ]
  },
  {
   "cell_type": "code",
   "execution_count": null,
   "metadata": {},
   "outputs": [],
   "source": [
    "#Merge with driver standings\n",
    "driver_standings = driver_standings.rename(columns={\"points\": \"driverStandingsPoints\", \"position\": \"driverStandingsPosition\", \"wins\" : \"driverStandingsWins\"})\n",
    "driver_standings = driver_standings.drop(columns=['positionText'])\n",
    "df = df.merge(driver_standings, on = ['raceId','driverId'], how = 'left')"
   ]
  },
  {
   "cell_type": "code",
   "execution_count": null,
   "metadata": {},
   "outputs": [],
   "source": [
    "#Get driver standings information before race\n",
    "df['driverStandingsPoints'] = df.groupby(['year','driverId'])['driverStandingsPoints'].shift(fill_value=0)\n",
    "df['driverStandingsPosition'] = df.groupby(['year','driverId'])['driverStandingsPosition'].shift(fill_value=0)\n",
    "df['driverStandingsWins'] = df.groupby(['year','driverId'])['driverStandingsWins'].shift(fill_value=0)\n",
    "df['lastRaceRank'] = df.groupby(['year','driverId'])['rank'].shift()"
   ]
  },
  {
   "cell_type": "code",
   "execution_count": null,
   "metadata": {},
   "outputs": [],
   "source": [
    "#Merge with constructor standings\n",
    "constructor_standings = constructor_standings.rename(columns={\"points\": \"constructorStandingsPoints\", \"position\": \"constructorStandingsPosition\", \"wins\" : \"constructorStandingsWins\"})\n",
    "constructor_standings = constructor_standings.drop(columns=['positionText'])\n",
    "df = df.merge(constructor_standings, on = ['raceId','constructorId'], how = 'left')"
   ]
  },
  {
   "cell_type": "code",
   "execution_count": null,
   "metadata": {},
   "outputs": [],
   "source": [
    "#Get constructor standings information before race\n",
    "df['constructorStandingsPoints'] = df.groupby(['year','driverId'])['constructorStandingsPoints'].shift(fill_value=0)\n",
    "df['constructorStandingsPosition'] = df.groupby(['year','driverId'])['constructorStandingsPosition'].shift(fill_value=0)\n",
    "df['constructorStandingsWins'] = df.groupby(['year','driverId'])['constructorStandingsWins'].shift(fill_value=0)"
   ]
  },
  {
   "cell_type": "code",
   "execution_count": null,
   "metadata": {},
   "outputs": [],
   "source": [
    "#Get previous race grid and final race positions\n",
    "df['previousRaceGridStart'] = df.groupby(['year','driverId'])['gridStart'].shift()\n",
    "df['previousRacePosition'] = df.groupby(['year','driverId'])['positionText'].shift()"
   ]
  },
  {
   "cell_type": "code",
   "execution_count": null,
   "metadata": {},
   "outputs": [],
   "source": [
    "#Add status for each row\n",
    "df = df.merge(status, on = ['statusId'], how = 'left')\n",
    "#Add finished race feature\n",
    "df['finished'] = (df['positionText']) != 'R'"
   ]
  },
  {
   "cell_type": "code",
   "execution_count": null,
   "metadata": {},
   "outputs": [],
   "source": [
    "#Get all historic features up until current row date\n",
    "for date in df.date.unique():\n",
    "    #Races won by driver\n",
    "    races_won_by_driver = df[df.date < date].groupby('driverId')['positionText'].apply(lambda x: (x==1).sum()).reset_index(name='racesWon')\n",
    "    races_won_by_driver['date'] = date\n",
    "    dfaux = df[df['date'] == date].copy()\n",
    "    dfaux['racesWon'] = 'to_delete'\n",
    "    dfaux = dfaux.drop('racesWon', axis = 1)\n",
    "    df.loc[df['date'] == date, 'racesWon'] = dfaux.merge(races_won_by_driver, on=['date','driverId'], how='left')['racesWon'].values\n",
    "    #Number of races retired\n",
    "    races_retired_by_driver = df[df.date < date].groupby('driverId')['positionText'].apply(lambda x: (x=='R').sum()).reset_index(name='racesRetired')\n",
    "    races_retired_by_driver['date'] = date\n",
    "    dfaux = df[df['date'] == date].copy()\n",
    "    dfaux['racesRetired'] = 'to_delete'\n",
    "    dfaux = dfaux.drop('racesRetired', axis = 1)\n",
    "    df.loc[df['date'] == date, 'racesRetired'] = dfaux.merge(races_retired_by_driver, on=['date','driverId'], how='left')['racesRetired'].values\n",
    "    #Number of races finished\n",
    "    races_finished_by_driver = df[df.date < date].groupby('driverId')['positionText'].apply(lambda x: (x!='R').sum()).reset_index(name='racesFinished')\n",
    "    races_finished_by_driver['date'] = date\n",
    "    dfaux = df[df['date'] == date].copy()\n",
    "    dfaux['racesFinished'] = 'to_delete'\n",
    "    dfaux = dfaux.drop('racesFinished', axis = 1)\n",
    "    df.loc[df['date'] == date, 'racesFinished'] = dfaux.merge(races_finished_by_driver, on=['date','driverId'], how='left')['racesFinished'].values\n",
    "    #Number of pole positions\n",
    "    pole_positions_by_driver = df[df.date < date].groupby('driverId')['gridStart'].apply(lambda x: (x=='1').sum()).reset_index(name='polePositions')\n",
    "    pole_positions_by_driver['date'] = date\n",
    "    dfaux = df[df['date'] == date].copy()\n",
    "    dfaux['polePositions'] = 'to_delete'\n",
    "    dfaux = dfaux.drop('polePositions', axis = 1)\n",
    "    df.loc[df['date'] == date, 'polePositions'] = dfaux.merge(pole_positions_by_driver, on=['date','driverId'], how='left')['polePositions'].values\n",
    "    #Constructors races won\n",
    "    races_won_by_constructor = df[df.date < date].groupby('constructorId')['positionText'].apply(lambda x: (x=='1').sum()).reset_index(name='racesWonByConstructor')\n",
    "    races_won_by_constructor['date'] = date\n",
    "    dfaux = df[df['date'] == date].copy()\n",
    "    dfaux['racesWonByConstructor'] = 'to_delete'\n",
    "    dfaux = dfaux.drop('racesWonByConstructor', axis = 1)\n",
    "    df.loc[df['date'] == date, 'racesWonByConstructor'] = dfaux.merge(races_won_by_constructor, on=['date','constructorId'], how='left')['racesWonByConstructor'].values\n",
    "    #Constructor times retired\n",
    "    races_retired_by_constructor = df[df.date < date].groupby('constructorId')['positionText'].apply(lambda x: (x=='R').sum()).reset_index(name='racesRetiredByConstructor')\n",
    "    races_retired_by_constructor['date'] = date\n",
    "    dfaux = df[df['date'] == date].copy()\n",
    "    dfaux['racesRetiredByConstructor'] = 'to_delete'\n",
    "    dfaux = dfaux.drop('racesRetiredByConstructor', axis = 1)\n",
    "    df.loc[df['date'] == date, 'racesRetiredByConstructor'] = dfaux.merge(races_retired_by_constructor, on=['date','constructorId'], how='left')['racesRetiredByConstructor'].values"
   ]
  },
  {
   "cell_type": "code",
   "execution_count": null,
   "metadata": {},
   "outputs": [],
   "source": [
    "#Percent diference between drivers qualifying time and best time \n",
    "quali_aux = pd.merge(df[['raceId','driverId']], qualifying[['bestLap','raceId','driverId']], on = ['raceId','driverId'], how = 'left')\n",
    "quali_aux_best = quali_aux.groupby(['raceId'], as_index=False)['bestLap'].min()\n",
    "df = df.merge(quali_aux, on = ['raceId','driverId'], how = 'left')\n",
    "df = df.merge(quali_aux_best, on = ['raceId'], how = 'left')\n",
    "df['percentageOfBestQuali'] = (df['bestLap_x'] / df['bestLap_y'])*100\n",
    "df = df.drop(columns=['bestLap_x', 'bestLap_y'])"
   ]
  },
  {
   "cell_type": "code",
   "execution_count": null,
   "metadata": {},
   "outputs": [],
   "source": [
    "qualifying.loc[qualifying['constructorId'] == 1].head()"
   ]
  },
  {
   "cell_type": "code",
   "execution_count": null,
   "metadata": {},
   "outputs": [],
   "source": [
    "df.head()"
   ]
  },
  {
   "cell_type": "code",
   "execution_count": null,
   "metadata": {},
   "outputs": [],
   "source": [
    "df.to_csv('../data/processed/0.1-initial-exploration.csv')"
   ]
  }
 ],
 "metadata": {
  "language_info": {
   "name": "python"
  },
  "orig_nbformat": 4
 },
 "nbformat": 4,
 "nbformat_minor": 2
}
