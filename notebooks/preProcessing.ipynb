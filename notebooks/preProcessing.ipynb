{
 "cells": [
  {
   "cell_type": "code",
   "execution_count": 1,
   "metadata": {},
   "outputs": [],
   "source": [
    "import pandas as pd\n",
    "import matplotlib.pyplot as plt\n",
    "import seaborn as sb"
   ]
  },
  {
   "cell_type": "code",
   "execution_count": 10,
   "metadata": {},
   "outputs": [],
   "source": [
    "df = pd.read_csv('../data/processed/0.1-initial-exploration.csv')"
   ]
  },
  {
   "cell_type": "markdown",
   "metadata": {},
   "source": [
    "\"\"statusId,driverRef, nationality,year,round,circuitId,circuitName,date,ageAtRace,dateOfDebut,ageAtDebut,yearsExperience,racingAtHome,startsFrontRow\"\" \n",
    "removed:\n",
    "- StatusId\n",
    "- DriverRef\n",
    "- Nationality\n",
    "- Year\n",
    "- CircuitName\n",
    "- Date\n",
    "- DateOfDebut\n",
    "\n",
    "##\n",
    "- How to handle missing values --> No missing values in features used\n",
    "- Encoding variables --> Necessary circuitId. Startsfront, racing at home true/false\n",
    "- Data analysis, distributions\n",
    "- Correlations with final position --> See below\n",
    "\n",
    "Not used features:\n",
    "StatusId, driverRef, CircuitId, cirCuitName, date, "
   ]
  },
  {
   "cell_type": "code",
   "execution_count": 11,
   "metadata": {},
   "outputs": [],
   "source": [
    "df = df.loc[:,['positionOrder', 'driverRef', 'round', 'circuitId', 'date'\n",
    ",'ageAtRace','ageAtDebut','yearsExperience','racingAtHome','startsFrontRow']]"
   ]
  },
  {
   "cell_type": "code",
   "execution_count": 18,
   "metadata": {},
   "outputs": [],
   "source": [
    "df.loc[:, 'positionOrder'] = pd.to_numeric(df.loc[:, 'positionOrder'], errors='coerce')\n",
    "df.loc[:, 'ageAtRace'] = pd.to_numeric(df.loc[:, 'ageAtRace'], errors='coerce')\n",
    "df.loc[:, 'ageAtDebut'] = pd.to_numeric(df.loc[:, 'ageAtDebut'], errors='coerce')\n",
    "df.loc[:, 'yearsExperience'] = pd.to_numeric(df.loc[:, 'yearsExperience'], errors='coerce')\n"
   ]
  },
  {
   "cell_type": "code",
   "execution_count": 19,
   "metadata": {},
   "outputs": [
    {
     "name": "stdout",
     "output_type": "stream",
     "text": [
      "               positionOrder  ageAtRace\n",
      "positionOrder       1.000000  -0.036287\n",
      "ageAtRace          -0.036287   1.000000\n",
      "\n",
      "\n",
      "                 positionOrder  yearsExperience\n",
      "positionOrder         1.000000        -0.191521\n",
      "yearsExperience      -0.191521         1.000000\n",
      "\n",
      "\n",
      "               positionOrder  racingAtHome\n",
      "positionOrder       1.000000      0.024985\n",
      "racingAtHome        0.024985      1.000000\n",
      "\n",
      "\n",
      "               positionOrder  ageAtDebut\n",
      "positionOrder       1.000000    0.126921\n",
      "ageAtDebut          0.126921    1.000000\n",
      "\n",
      "\n",
      "                positionOrder  startsFrontRow\n",
      "positionOrder        1.000000        0.130623\n",
      "startsFrontRow       0.130623        1.000000\n",
      "\n",
      "\n"
     ]
    }
   ],
   "source": [
    "var = ['ageAtRace', 'yearsExperience', 'racingAtHome', 'ageAtDebut', 'startsFrontRow']\n",
    "for names in var:\n",
    "    print(df.loc[:, ['positionOrder', names]].corr())\n",
    "    print('\\n')"
   ]
  },
  {
   "cell_type": "code",
   "execution_count": 82,
   "metadata": {},
   "outputs": [
    {
     "name": "stdout",
     "output_type": "stream",
     "text": [
      "0         1\n",
      "1         2\n",
      "2         3\n",
      "3         4\n",
      "4         5\n",
      "5         6\n",
      "7         8\n",
      "8         9\n",
      "9        10\n",
      "10       11\n",
      "11       12\n",
      "12       13\n",
      "13       14\n",
      "14       15\n",
      "15       16\n",
      "16       17\n",
      "17       18\n",
      "18        1\n",
      "19        2\n",
      "20        3\n",
      "21        4\n",
      "22        5\n",
      "23        6\n",
      "24        7\n",
      "25        8\n",
      "26        9\n",
      "27       10\n",
      "28       11\n",
      "29       12\n",
      "30       13\n",
      "         ..\n",
      "25518     5\n",
      "25519     6\n",
      "25520     7\n",
      "25521     8\n",
      "25522     9\n",
      "25523    10\n",
      "25524    11\n",
      "25525    12\n",
      "25526    13\n",
      "25527    14\n",
      "25529    16\n",
      "25530    17\n",
      "25532    19\n",
      "25533    20\n",
      "25535     2\n",
      "25536     3\n",
      "25537     4\n",
      "25538     5\n",
      "25539     6\n",
      "25540     7\n",
      "25541     8\n",
      "25542     9\n",
      "25543    10\n",
      "25545    12\n",
      "25548    15\n",
      "25549    16\n",
      "25550    17\n",
      "25551    18\n",
      "25552    19\n",
      "25553    20\n",
      "Name: round, Length: 14668, dtype: int64\n"
     ]
    }
   ],
   "source": [
    "print(df.loc[:, 'round'])"
   ]
  },
  {
   "cell_type": "code",
   "execution_count": null,
   "metadata": {},
   "outputs": [],
   "source": []
  }
 ],
 "metadata": {
  "interpreter": {
   "hash": "386724624423fb0b0f371b855dfad0dd762ae8e35f3dd44b249eae8c8d26fbb4"
  },
  "kernelspec": {
   "display_name": "Python 3.6.8 64-bit",
   "language": "python",
   "name": "python3"
  },
  "language_info": {
   "codemirror_mode": {
    "name": "ipython",
    "version": 3
   },
   "file_extension": ".py",
   "mimetype": "text/x-python",
   "name": "python",
   "nbconvert_exporter": "python",
   "pygments_lexer": "ipython3",
   "version": "3.6.8"
  },
  "orig_nbformat": 4
 },
 "nbformat": 4,
 "nbformat_minor": 2
}
