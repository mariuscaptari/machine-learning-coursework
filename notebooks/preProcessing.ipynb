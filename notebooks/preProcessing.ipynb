{
 "cells": [
  {
   "cell_type": "code",
   "execution_count": 23,
   "metadata": {},
   "outputs": [],
   "source": [
    "import pandas as pd\n",
    "import matplotlib.pyplot as plt\n",
    "import seaborn as sb"
   ]
  },
  {
   "cell_type": "code",
   "execution_count": 59,
   "metadata": {},
   "outputs": [],
   "source": [
    "df = pd.read_csv('../data/processed/0.1-initial-exploration.csv')"
   ]
  },
  {
   "cell_type": "markdown",
   "metadata": {},
   "source": [
    "\"\"statusId,driverRef, nationality,year,round,circuitId,circuitName,date,ageAtRace,dateOfDebut,ageAtDebut,yearsExperience,racingAtHome,startsFrontRow\"\" \n",
    "\n",
    "- How to handle missing values --> Removed rows to determine correlations\n",
    "- Encoding variables --> No encoding necessary, startsfront, racing at home true/false\n",
    "- Data analysis, distributions\n",
    "- Correlations with final position\n",
    "\n",
    "Not used features:\n",
    "StatusId, driverRef, CircuitId, cirCuitName, date, "
   ]
  },
  {
   "cell_type": "code",
   "execution_count": 60,
   "metadata": {},
   "outputs": [],
   "source": [
    "df = df.loc[:,['position', 'driverRef', 'round', 'circuitId', 'date'\n",
    ",'ageAtRace','ageAtDebut','yearsExperience','racingAtHome','startsFrontRow']]"
   ]
  },
  {
   "cell_type": "code",
   "execution_count": 61,
   "metadata": {},
   "outputs": [],
   "source": [
    "df.loc[:, 'position'] = pd.to_numeric(df.loc[:, 'position'], errors='coerce')\n",
    "df.loc[:, 'ageAtRace'] = pd.to_numeric(df.loc[:, 'ageAtRace'], errors='coerce')\n",
    "df.loc[:, 'ageAtDebut'] = pd.to_numeric(df.loc[:, 'ageAtDebut'], errors='coerce')\n",
    "df.loc[:, 'yearsExperience'] = pd.to_numeric(df.loc[:, 'yearsExperience'], errors='coerce')\n",
    "\n",
    "df = df[df['position'].notna()]\n"
   ]
  },
  {
   "cell_type": "code",
   "execution_count": 71,
   "metadata": {},
   "outputs": [
    {
     "data": {
      "text/plain": [
       "<matplotlib.collections.PathCollection at 0x174cbaca358>"
      ]
     },
     "execution_count": 71,
     "metadata": {},
     "output_type": "execute_result"
    },
    {
     "data": {
      "image/png": "[encoded data removed]",
      "text/plain": [
       "<Figure size 432x288 with 1 Axes>"
      ]
     },
     "metadata": {
      "needs_background": "light"
     },
     "output_type": "display_data"
    }
   ],
   "source": [
    "plt.scatter(df.loc[:, 'position'], df.loc[:,'ageAtRace'])"
   ]
  },
  {
   "cell_type": "code",
   "execution_count": null,
   "metadata": {},
   "outputs": [],
   "source": []
  }
 ],
 "metadata": {
  "interpreter": {
   "hash": "386724624423fb0b0f371b855dfad0dd762ae8e35f3dd44b249eae8c8d26fbb4"
  },
  "kernelspec": {
   "display_name": "Python 3.6.8 64-bit",
   "language": "python",
   "name": "python3"
  },
  "language_info": {
   "codemirror_mode": {
    "name": "ipython",
    "version": 3
   },
   "file_extension": ".py",
   "mimetype": "text/x-python",
   "name": "python",
   "nbconvert_exporter": "python",
   "pygments_lexer": "ipython3",
   "version": "3.6.8"
  },
  "orig_nbformat": 4
 },
 "nbformat": 4,
 "nbformat_minor": 2
}
