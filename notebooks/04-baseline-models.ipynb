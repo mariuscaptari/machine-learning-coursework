{
 "cells": [
  {
   "cell_type": "code",
   "execution_count": 1,
   "metadata": {},
   "outputs": [],
   "source": [
    "import pandas as pd\n",
    "import numpy as np\n",
    "\n",
    "from collections import OrderedDict\n",
    "\n",
    "from sklearn.model_selection import GridSearchCV\n",
    "from sklearn.pipeline import Pipeline\n",
    "from sklearn.preprocessing import OneHotEncoder\n",
    "from sklearn.compose import ColumnTransformer\n",
    "from sklearn.model_selection import GridSearchCV\n",
    "from sklearn.preprocessing import StandardScaler, MinMaxScaler\n",
    "from sklearn.model_selection import TimeSeriesSplit\n",
    "\n",
    "\n",
    "from sklearn.linear_model import LinearRegression\n",
    "from sklearn.linear_model import Ridge\n",
    "\n",
    "from sklearn import set_config\n",
    "set_config(display='diagram')"
   ]
  },
  {
   "cell_type": "code",
   "execution_count": 2,
   "metadata": {},
   "outputs": [],
   "source": [
    "df_all = pd.read_csv('../data/processed/0.3-feature-processing.csv', index_col=0)\n",
    "df = df_all[df_all['year'] > 1980]"
   ]
  },
  {
   "cell_type": "code",
   "execution_count": 3,
   "metadata": {},
   "outputs": [],
   "source": [
    "df = df.sort_values(by=['date']).reset_index(drop=True)"
   ]
  },
  {
   "cell_type": "code",
   "execution_count": 4,
   "metadata": {},
   "outputs": [],
   "source": [
    "# df = df.drop(['year','round','date'],1)"
   ]
  },
  {
   "cell_type": "markdown",
   "metadata": {},
   "source": [
    "**Group by race (year,round)**"
   ]
  },
  {
   "cell_type": "code",
   "execution_count": 5,
   "metadata": {},
   "outputs": [],
   "source": [
    "# groups_year = df.groupby(['year','round']).groups\n",
    "\n",
    "# new_groups_year = dict((str(key[0])+'-'+str(key[1]), value.tolist()) for (key, value) in groups_year.items())\n",
    "# new_groups_year = OrderedDict(new_groups_year)\n",
    "\n",
    "# sorted_groups = [value for (_, value) in sorted(groups_year.items())] "
   ]
  },
  {
   "cell_type": "markdown",
   "metadata": {},
   "source": [
    "**Define train/test splits based on year and round of the race**"
   ]
  },
  {
   "cell_type": "code",
   "execution_count": 6,
   "metadata": {},
   "outputs": [],
   "source": [
    "# list(new_groups_year.keys()).index('2019-21')"
   ]
  },
  {
   "cell_type": "code",
   "execution_count": 7,
   "metadata": {},
   "outputs": [],
   "source": [
    "# sorted_groups = [value for (_, value) in sorted(new_groups_year.items())] "
   ]
  },
  {
   "cell_type": "markdown",
   "metadata": {},
   "source": [
    "**Add to cross validation iterable list of race from 2019 round 1 to 2019 round 21 (first to last race)**"
   ]
  },
  {
   "cell_type": "code",
   "execution_count": 8,
   "metadata": {},
   "outputs": [],
   "source": [
    "# cv = []\n",
    "# for idx in range(655,675):\n",
    "#     cv.append((sum(sorted_groups[:idx], []), sorted_groups[idx]))\n",
    "\n",
    "# cv = [(sum(sorted_groups[:655], []), sorted_groups[655])]"
   ]
  },
  {
   "cell_type": "code",
   "execution_count": 9,
   "metadata": {},
   "outputs": [],
   "source": [
    "one_hot_encoder = ColumnTransformer([\n",
    "    ('one_hot', OneHotEncoder(drop='first'), ['driverId','circuitId','constructorId'])], \n",
    "    remainder='passthrough')"
   ]
  },
  {
   "cell_type": "code",
   "execution_count": 10,
   "metadata": {},
   "outputs": [],
   "source": [
    "pipeline = Pipeline([\n",
    "    # ('one_hot', one_hot_encoder),\n",
    "    # ('scaller', StandardScaler(with_mean=False)),\n",
    "    # ('pca', PCA()),\n",
    "    ('model', Ridge())\n",
    "])\n",
    "param_grid = {\n",
    "    'model__alpha': np.arange(0, 0.2, 0.01),\n",
    "    'model_random_state': 42\n",
    "}"
   ]
  },
  {
   "cell_type": "code",
   "execution_count": 11,
   "metadata": {},
   "outputs": [
    {
     "data": {
      "text/html": [
       "<style>#sk-a3073e3a-a112-4b95-9773-763119ede5a5 {color: black;background-color: white;}#sk-a3073e3a-a112-4b95-9773-763119ede5a5 pre{padding: 0;}#sk-a3073e3a-a112-4b95-9773-763119ede5a5 div.sk-toggleable {background-color: white;}#sk-a3073e3a-a112-4b95-9773-763119ede5a5 label.sk-toggleable__label {cursor: pointer;display: block;width: 100%;margin-bottom: 0;padding: 0.3em;box-sizing: border-box;text-align: center;}#sk-a3073e3a-a112-4b95-9773-763119ede5a5 div.sk-toggleable__content {max-height: 0;max-width: 0;overflow: hidden;text-align: left;background-color: #f0f8ff;}#sk-a3073e3a-a112-4b95-9773-763119ede5a5 div.sk-toggleable__content pre {margin: 0.2em;color: black;border-radius: 0.25em;background-color: #f0f8ff;}#sk-a3073e3a-a112-4b95-9773-763119ede5a5 input.sk-toggleable__control:checked~div.sk-toggleable__content {max-height: 200px;max-width: 100%;overflow: auto;}#sk-a3073e3a-a112-4b95-9773-763119ede5a5 div.sk-estimator input.sk-toggleable__control:checked~label.sk-toggleable__label {background-color: #d4ebff;}#sk-a3073e3a-a112-4b95-9773-763119ede5a5 div.sk-label input.sk-toggleable__control:checked~label.sk-toggleable__label {background-color: #d4ebff;}#sk-a3073e3a-a112-4b95-9773-763119ede5a5 input.sk-hidden--visually {border: 0;clip: rect(1px 1px 1px 1px);clip: rect(1px, 1px, 1px, 1px);height: 1px;margin: -1px;overflow: hidden;padding: 0;position: absolute;width: 1px;}#sk-a3073e3a-a112-4b95-9773-763119ede5a5 div.sk-estimator {font-family: monospace;background-color: #f0f8ff;border: 1px dotted black;border-radius: 0.25em;box-sizing: border-box;margin-bottom: 0.5em;}#sk-a3073e3a-a112-4b95-9773-763119ede5a5 div.sk-estimator:hover {background-color: #d4ebff;}#sk-a3073e3a-a112-4b95-9773-763119ede5a5 div.sk-parallel-item::after {content: \"\";width: 100%;border-bottom: 1px solid gray;flex-grow: 1;}#sk-a3073e3a-a112-4b95-9773-763119ede5a5 div.sk-label:hover label.sk-toggleable__label {background-color: #d4ebff;}#sk-a3073e3a-a112-4b95-9773-763119ede5a5 div.sk-serial::before {content: \"\";position: absolute;border-left: 1px solid gray;box-sizing: border-box;top: 2em;bottom: 0;left: 50%;}#sk-a3073e3a-a112-4b95-9773-763119ede5a5 div.sk-serial {display: flex;flex-direction: column;align-items: center;background-color: white;padding-right: 0.2em;padding-left: 0.2em;}#sk-a3073e3a-a112-4b95-9773-763119ede5a5 div.sk-item {z-index: 1;}#sk-a3073e3a-a112-4b95-9773-763119ede5a5 div.sk-parallel {display: flex;align-items: stretch;justify-content: center;background-color: white;}#sk-a3073e3a-a112-4b95-9773-763119ede5a5 div.sk-parallel::before {content: \"\";position: absolute;border-left: 1px solid gray;box-sizing: border-box;top: 2em;bottom: 0;left: 50%;}#sk-a3073e3a-a112-4b95-9773-763119ede5a5 div.sk-parallel-item {display: flex;flex-direction: column;position: relative;background-color: white;}#sk-a3073e3a-a112-4b95-9773-763119ede5a5 div.sk-parallel-item:first-child::after {align-self: flex-end;width: 50%;}#sk-a3073e3a-a112-4b95-9773-763119ede5a5 div.sk-parallel-item:last-child::after {align-self: flex-start;width: 50%;}#sk-a3073e3a-a112-4b95-9773-763119ede5a5 div.sk-parallel-item:only-child::after {width: 0;}#sk-a3073e3a-a112-4b95-9773-763119ede5a5 div.sk-dashed-wrapped {border: 1px dashed gray;margin: 0 0.4em 0.5em 0.4em;box-sizing: border-box;padding-bottom: 0.4em;background-color: white;position: relative;}#sk-a3073e3a-a112-4b95-9773-763119ede5a5 div.sk-label label {font-family: monospace;font-weight: bold;background-color: white;display: inline-block;line-height: 1.2em;}#sk-a3073e3a-a112-4b95-9773-763119ede5a5 div.sk-label-container {position: relative;z-index: 2;text-align: center;}#sk-a3073e3a-a112-4b95-9773-763119ede5a5 div.sk-container {display: inline-block;position: relative;}</style><div id=\"sk-a3073e3a-a112-4b95-9773-763119ede5a5\" class\"sk-top-container\"><div class=\"sk-container\"><div class=\"sk-item sk-dashed-wrapped\"><div class=\"sk-label-container\"><div class=\"sk-label sk-toggleable\"><input class=\"sk-toggleable__control sk-hidden--visually\" id=\"d7f03e7a-d3d7-4a06-b8e0-f56b82c83984\" type=\"checkbox\" ><label class=\"sk-toggleable__label\" for=\"d7f03e7a-d3d7-4a06-b8e0-f56b82c83984\">Pipeline</label><div class=\"sk-toggleable__content\"><pre>Pipeline(steps=[('model', Ridge())])</pre></div></div></div><div class=\"sk-serial\"><div class=\"sk-item\"><div class=\"sk-estimator sk-toggleable\"><input class=\"sk-toggleable__control sk-hidden--visually\" id=\"bb558f7b-fec5-40f8-9406-2ef8b7706c1f\" type=\"checkbox\" ><label class=\"sk-toggleable__label\" for=\"bb558f7b-fec5-40f8-9406-2ef8b7706c1f\">Ridge</label><div class=\"sk-toggleable__content\"><pre>Ridge()</pre></div></div></div></div></div></div></div>"
      ],
      "text/plain": [
       "Pipeline(steps=[('model', Ridge())])"
      ]
     },
     "execution_count": 11,
     "metadata": {},
     "output_type": "execute_result"
    }
   ],
   "source": [
    "pipeline"
   ]
  },
  {
   "cell_type": "code",
   "execution_count": 12,
   "metadata": {},
   "outputs": [
    {
     "data": {
      "text/plain": [
       "{'memory': None,\n",
       " 'steps': [('model', Ridge())],\n",
       " 'verbose': False,\n",
       " 'model': Ridge(),\n",
       " 'model__alpha': 1.0,\n",
       " 'model__copy_X': True,\n",
       " 'model__fit_intercept': True,\n",
       " 'model__max_iter': None,\n",
       " 'model__normalize': 'deprecated',\n",
       " 'model__positive': False,\n",
       " 'model__random_state': None,\n",
       " 'model__solver': 'auto',\n",
       " 'model__tol': 0.001}"
      ]
     },
     "execution_count": 12,
     "metadata": {},
     "output_type": "execute_result"
    }
   ],
   "source": [
    "pipeline.get_params()"
   ]
  },
  {
   "cell_type": "code",
   "execution_count": 13,
   "metadata": {},
   "outputs": [
    {
     "name": "stdout",
     "output_type": "stream",
     "text": [
      "TRAIN: [    0     1     2 ... 16886 16887 16888] TEST: [16889 16890 16891 16892 16893 16894 16895 16896 16897 16898 16899 16900\n",
      " 16901 16902 16903 16904 16905 16906 16907 16908]\n",
      "TRAIN: [    0     1     2 ... 16906 16907 16908] TEST: [16909 16910 16911 16912 16913 16914 16915 16916 16917 16918 16919 16920\n",
      " 16921 16922 16923 16924 16925 16926 16927 16928]\n",
      "TRAIN: [    0     1     2 ... 16926 16927 16928] TEST: [16929 16930 16931 16932 16933 16934 16935 16936 16937 16938 16939 16940\n",
      " 16941 16942 16943 16944 16945 16946 16947 16948]\n",
      "TRAIN: [    0     1     2 ... 16946 16947 16948] TEST: [16949 16950 16951 16952 16953 16954 16955 16956 16957 16958 16959 16960\n",
      " 16961 16962 16963 16964 16965 16966 16967 16968]\n",
      "TRAIN: [    0     1     2 ... 16966 16967 16968] TEST: [16969 16970 16971 16972 16973 16974 16975 16976 16977 16978 16979 16980\n",
      " 16981 16982 16983 16984 16985 16986 16987 16988]\n",
      "TRAIN: [    0     1     2 ... 16986 16987 16988] TEST: [16989 16990 16991 16992 16993 16994 16995 16996 16997 16998 16999 17000\n",
      " 17001 17002 17003 17004 17005 17006 17007 17008]\n",
      "TRAIN: [    0     1     2 ... 17006 17007 17008] TEST: [17009 17010 17011 17012 17013 17014 17015 17016 17017 17018 17019 17020\n",
      " 17021 17022 17023 17024 17025 17026 17027 17028]\n",
      "TRAIN: [    0     1     2 ... 17026 17027 17028] TEST: [17029 17030 17031 17032 17033 17034 17035 17036 17037 17038 17039 17040\n",
      " 17041 17042 17043 17044 17045 17046 17047 17048]\n",
      "TRAIN: [    0     1     2 ... 17046 17047 17048] TEST: [17049 17050 17051 17052 17053 17054 17055 17056 17057 17058 17059 17060\n",
      " 17061 17062 17063 17064 17065 17066 17067 17068]\n",
      "TRAIN: [    0     1     2 ... 17066 17067 17068] TEST: [17069 17070 17071 17072 17073 17074 17075 17076 17077 17078 17079 17080\n",
      " 17081 17082 17083 17084 17085 17086 17087 17088]\n",
      "Fitting 10 folds for each of 20 candidates, totalling 200 fits\n",
      "Best parameters:\n",
      " {'model__alpha': 0.0}\n",
      "Best mean score in cross-validation:\n",
      " -20.273\n"
     ]
    }
   ],
   "source": [
    "# X = df.loc[:, df.columns != 'positionOrder']\n",
    "X = df[['gridStart','lastRaceRank']]\n",
    "y = df['positionOrder']\n",
    "\n",
    "tscv = TimeSeriesSplit(n_splits=10, test_size=20)\n",
    "\n",
    "for train_index, test_index in tscv.split(X):\n",
    "    print(\"TRAIN:\", train_index, \"TEST:\", test_index)\n",
    "    X_train, X_test = X.iloc[train_index], X.iloc[test_index]\n",
    "    y_train, y_test = y.iloc[train_index], y.iloc[test_index]\n",
    "\n",
    "model = GridSearchCV(\n",
    "    estimator = pipeline,\n",
    "    param_grid = param_grid,\n",
    "    cv=tscv,\n",
    "    n_jobs=-1,\n",
    "    scoring='neg_mean_squared_error',\n",
    "    verbose=1\n",
    ")\n",
    "\n",
    "\n",
    "model.fit(X,y)\n",
    "\n",
    "print('Best parameters:\\n', model.best_params_)\n",
    "print('Best mean score in cross-validation:\\n', round(model.best_score_,3))\n"
   ]
  },
  {
   "cell_type": "code",
   "execution_count": 24,
   "metadata": {},
   "outputs": [
    {
     "ename": "AttributeError",
     "evalue": "'GridSearchCV' object has no attribute 'coef_'",
     "output_type": "error",
     "traceback": [
      "\u001b[0;31m---------------------------------------------------------------------------\u001b[0m",
      "\u001b[0;31mAttributeError\u001b[0m                            Traceback (most recent call last)",
      "\u001b[0;32m/var/folders/ww/g01k38ln5rx5dm_b_qtwpdkc0000gn/T/ipykernel_5377/2510990618.py\u001b[0m in \u001b[0;36m<module>\u001b[0;34m\u001b[0m\n\u001b[0;32m----> 1\u001b[0;31m \u001b[0mmodel\u001b[0m\u001b[0;34m.\u001b[0m\u001b[0mcoef_\u001b[0m\u001b[0;34m[\u001b[0m\u001b[0;36m0\u001b[0m\u001b[0;34m]\u001b[0m\u001b[0;34m\u001b[0m\u001b[0;34m\u001b[0m\u001b[0m\n\u001b[0m",
      "\u001b[0;31mAttributeError\u001b[0m: 'GridSearchCV' object has no attribute 'coef_'"
     ]
    }
   ],
   "source": []
  },
  {
   "cell_type": "code",
   "execution_count": 14,
   "metadata": {},
   "outputs": [
    {
     "data": {
      "text/plain": [
       "Index(['driverId', 'constructorId', 'gridStart', 'positionOrder', 'year',\n",
       "       'round', 'circuitId', 'date', 'ageAtRace', 'ageAtDebut',\n",
       "       'yearsExperience', 'racingAtHome', 'driverStandingsPoints',\n",
       "       'driverStandingsPosition', 'driverStandingsWins', 'lastRaceRank',\n",
       "       'constructorStandingsPoints', 'constructorStandingsPosition',\n",
       "       'constructorStandingsWins', 'previousRaceGridStart',\n",
       "       'previousRacePosition', 'racesWon', 'racesRetired', 'racesFinished',\n",
       "       'polePositions', 'racesWonByConstructor', 'racesRetiredByConstructor',\n",
       "       'percentageOfBestQuali'],\n",
       "      dtype='object')"
      ]
     },
     "execution_count": 14,
     "metadata": {},
     "output_type": "execute_result"
    }
   ],
   "source": [
    "df.columns"
   ]
  },
  {
   "cell_type": "code",
   "execution_count": 15,
   "metadata": {},
   "outputs": [],
   "source": [
    "one_hot_columns = ['driverId','circuitId']"
   ]
  },
  {
   "cell_type": "code",
   "execution_count": 16,
   "metadata": {},
   "outputs": [],
   "source": [
    "df = df[['gridStart','year','round','positionOrder']]"
   ]
  },
  {
   "cell_type": "code",
   "execution_count": 17,
   "metadata": {},
   "outputs": [],
   "source": [
    "df_train=df[(df['year'] <= 2021) & (df['round']<19)]\n",
    "df_validation=df[(df['year'] == 2021) & (df['round']==19)]"
   ]
  },
  {
   "cell_type": "code",
   "execution_count": 18,
   "metadata": {},
   "outputs": [
    {
     "data": {
      "text/html": [
       "<div>\n",
       "<style scoped>\n",
       "    .dataframe tbody tr th:only-of-type {\n",
       "        vertical-align: middle;\n",
       "    }\n",
       "\n",
       "    .dataframe tbody tr th {\n",
       "        vertical-align: top;\n",
       "    }\n",
       "\n",
       "    .dataframe thead th {\n",
       "        text-align: right;\n",
       "    }\n",
       "</style>\n",
       "<table border=\"1\" class=\"dataframe\">\n",
       "  <thead>\n",
       "    <tr style=\"text-align: right;\">\n",
       "      <th></th>\n",
       "      <th>gridStart</th>\n",
       "      <th>year</th>\n",
       "      <th>round</th>\n",
       "      <th>positionOrder</th>\n",
       "    </tr>\n",
       "  </thead>\n",
       "  <tbody>\n",
       "    <tr>\n",
       "      <th>0</th>\n",
       "      <td>7</td>\n",
       "      <td>1981</td>\n",
       "      <td>1</td>\n",
       "      <td>19</td>\n",
       "    </tr>\n",
       "    <tr>\n",
       "      <th>1</th>\n",
       "      <td>25</td>\n",
       "      <td>1981</td>\n",
       "      <td>1</td>\n",
       "      <td>28</td>\n",
       "    </tr>\n",
       "    <tr>\n",
       "      <th>2</th>\n",
       "      <td>25</td>\n",
       "      <td>1981</td>\n",
       "      <td>1</td>\n",
       "      <td>27</td>\n",
       "    </tr>\n",
       "  </tbody>\n",
       "</table>\n",
       "</div>"
      ],
      "text/plain": [
       "   gridStart  year  round  positionOrder\n",
       "0          7  1981      1             19\n",
       "1         25  1981      1             28\n",
       "2         25  1981      1             27"
      ]
     },
     "execution_count": 18,
     "metadata": {},
     "output_type": "execute_result"
    }
   ],
   "source": [
    "df_train.head(3)"
   ]
  },
  {
   "cell_type": "code",
   "execution_count": 19,
   "metadata": {},
   "outputs": [
    {
     "data": {
      "text/plain": [
       "0.33956727142582255"
      ]
     },
     "execution_count": 19,
     "metadata": {},
     "output_type": "execute_result"
    }
   ],
   "source": [
    "reg = LinearRegression().fit(df_train.iloc[:,:-3], df_train.iloc[:,-1:])\n",
    "reg.score(df_train.iloc[:,:-3], df_train.iloc[:,-1:])"
   ]
  },
  {
   "cell_type": "code",
   "execution_count": 20,
   "metadata": {},
   "outputs": [],
   "source": [
    "prediction = reg.predict(df_validation.iloc[:,:-3])\n",
    "df_prediction = pd.DataFrame(data=prediction,columns=['predictedOrder'])\n",
    "df_validation = df_validation.reset_index(drop=True)"
   ]
  },
  {
   "cell_type": "code",
   "execution_count": 21,
   "metadata": {},
   "outputs": [],
   "source": [
    "df_compare = pd.concat([df_validation, df_prediction], axis=1)"
   ]
  },
  {
   "cell_type": "code",
   "execution_count": 22,
   "metadata": {},
   "outputs": [
    {
     "data": {
      "text/html": [
       "<div>\n",
       "<style scoped>\n",
       "    .dataframe tbody tr th:only-of-type {\n",
       "        vertical-align: middle;\n",
       "    }\n",
       "\n",
       "    .dataframe tbody tr th {\n",
       "        vertical-align: top;\n",
       "    }\n",
       "\n",
       "    .dataframe thead th {\n",
       "        text-align: right;\n",
       "    }\n",
       "</style>\n",
       "<table border=\"1\" class=\"dataframe\">\n",
       "  <thead>\n",
       "    <tr style=\"text-align: right;\">\n",
       "      <th></th>\n",
       "      <th>gridStart</th>\n",
       "      <th>year</th>\n",
       "      <th>round</th>\n",
       "      <th>positionOrder</th>\n",
       "      <th>predictedOrder</th>\n",
       "    </tr>\n",
       "  </thead>\n",
       "  <tbody>\n",
       "    <tr>\n",
       "      <th>0</th>\n",
       "      <td>7</td>\n",
       "      <td>2021</td>\n",
       "      <td>19</td>\n",
       "      <td>7</td>\n",
       "      <td>9.399022</td>\n",
       "    </tr>\n",
       "    <tr>\n",
       "      <th>1</th>\n",
       "      <td>6</td>\n",
       "      <td>2021</td>\n",
       "      <td>19</td>\n",
       "      <td>5</td>\n",
       "      <td>8.786607</td>\n",
       "    </tr>\n",
       "    <tr>\n",
       "      <th>2</th>\n",
       "      <td>19</td>\n",
       "      <td>2021</td>\n",
       "      <td>19</td>\n",
       "      <td>17</td>\n",
       "      <td>16.748005</td>\n",
       "    </tr>\n",
       "    <tr>\n",
       "      <th>3</th>\n",
       "      <td>14</td>\n",
       "      <td>2021</td>\n",
       "      <td>19</td>\n",
       "      <td>20</td>\n",
       "      <td>13.685929</td>\n",
       "    </tr>\n",
       "    <tr>\n",
       "      <th>4</th>\n",
       "      <td>16</td>\n",
       "      <td>2021</td>\n",
       "      <td>19</td>\n",
       "      <td>16</td>\n",
       "      <td>14.910759</td>\n",
       "    </tr>\n",
       "    <tr>\n",
       "      <th>5</th>\n",
       "      <td>15</td>\n",
       "      <td>2021</td>\n",
       "      <td>19</td>\n",
       "      <td>15</td>\n",
       "      <td>14.298344</td>\n",
       "    </tr>\n",
       "    <tr>\n",
       "      <th>6</th>\n",
       "      <td>18</td>\n",
       "      <td>2021</td>\n",
       "      <td>19</td>\n",
       "      <td>18</td>\n",
       "      <td>16.135590</td>\n",
       "    </tr>\n",
       "    <tr>\n",
       "      <th>7</th>\n",
       "      <td>17</td>\n",
       "      <td>2021</td>\n",
       "      <td>19</td>\n",
       "      <td>13</td>\n",
       "      <td>15.523175</td>\n",
       "    </tr>\n",
       "    <tr>\n",
       "      <th>8</th>\n",
       "      <td>13</td>\n",
       "      <td>2021</td>\n",
       "      <td>19</td>\n",
       "      <td>14</td>\n",
       "      <td>13.073514</td>\n",
       "    </tr>\n",
       "    <tr>\n",
       "      <th>9</th>\n",
       "      <td>5</td>\n",
       "      <td>2021</td>\n",
       "      <td>19</td>\n",
       "      <td>10</td>\n",
       "      <td>8.174192</td>\n",
       "    </tr>\n",
       "    <tr>\n",
       "      <th>10</th>\n",
       "      <td>2</td>\n",
       "      <td>2021</td>\n",
       "      <td>19</td>\n",
       "      <td>2</td>\n",
       "      <td>6.336946</td>\n",
       "    </tr>\n",
       "    <tr>\n",
       "      <th>11</th>\n",
       "      <td>10</td>\n",
       "      <td>2021</td>\n",
       "      <td>19</td>\n",
       "      <td>1</td>\n",
       "      <td>11.236268</td>\n",
       "    </tr>\n",
       "    <tr>\n",
       "      <th>12</th>\n",
       "      <td>12</td>\n",
       "      <td>2021</td>\n",
       "      <td>19</td>\n",
       "      <td>9</td>\n",
       "      <td>12.461098</td>\n",
       "    </tr>\n",
       "    <tr>\n",
       "      <th>13</th>\n",
       "      <td>20</td>\n",
       "      <td>2021</td>\n",
       "      <td>19</td>\n",
       "      <td>12</td>\n",
       "      <td>17.360420</td>\n",
       "    </tr>\n",
       "    <tr>\n",
       "      <th>14</th>\n",
       "      <td>9</td>\n",
       "      <td>2021</td>\n",
       "      <td>19</td>\n",
       "      <td>11</td>\n",
       "      <td>10.623853</td>\n",
       "    </tr>\n",
       "    <tr>\n",
       "      <th>15</th>\n",
       "      <td>8</td>\n",
       "      <td>2021</td>\n",
       "      <td>19</td>\n",
       "      <td>8</td>\n",
       "      <td>10.011437</td>\n",
       "    </tr>\n",
       "    <tr>\n",
       "      <th>16</th>\n",
       "      <td>11</td>\n",
       "      <td>2021</td>\n",
       "      <td>19</td>\n",
       "      <td>19</td>\n",
       "      <td>11.848683</td>\n",
       "    </tr>\n",
       "    <tr>\n",
       "      <th>17</th>\n",
       "      <td>1</td>\n",
       "      <td>2021</td>\n",
       "      <td>19</td>\n",
       "      <td>3</td>\n",
       "      <td>5.724531</td>\n",
       "    </tr>\n",
       "    <tr>\n",
       "      <th>18</th>\n",
       "      <td>3</td>\n",
       "      <td>2021</td>\n",
       "      <td>19</td>\n",
       "      <td>6</td>\n",
       "      <td>6.949361</td>\n",
       "    </tr>\n",
       "    <tr>\n",
       "      <th>19</th>\n",
       "      <td>4</td>\n",
       "      <td>2021</td>\n",
       "      <td>19</td>\n",
       "      <td>4</td>\n",
       "      <td>7.561776</td>\n",
       "    </tr>\n",
       "  </tbody>\n",
       "</table>\n",
       "</div>"
      ],
      "text/plain": [
       "    gridStart  year  round  positionOrder  predictedOrder\n",
       "0           7  2021     19              7        9.399022\n",
       "1           6  2021     19              5        8.786607\n",
       "2          19  2021     19             17       16.748005\n",
       "3          14  2021     19             20       13.685929\n",
       "4          16  2021     19             16       14.910759\n",
       "5          15  2021     19             15       14.298344\n",
       "6          18  2021     19             18       16.135590\n",
       "7          17  2021     19             13       15.523175\n",
       "8          13  2021     19             14       13.073514\n",
       "9           5  2021     19             10        8.174192\n",
       "10          2  2021     19              2        6.336946\n",
       "11         10  2021     19              1       11.236268\n",
       "12         12  2021     19              9       12.461098\n",
       "13         20  2021     19             12       17.360420\n",
       "14          9  2021     19             11       10.623853\n",
       "15          8  2021     19              8       10.011437\n",
       "16         11  2021     19             19       11.848683\n",
       "17          1  2021     19              3        5.724531\n",
       "18          3  2021     19              6        6.949361\n",
       "19          4  2021     19              4        7.561776"
      ]
     },
     "execution_count": 22,
     "metadata": {},
     "output_type": "execute_result"
    }
   ],
   "source": [
    "df_compare.head(20)"
   ]
  }
 ],
 "metadata": {
  "interpreter": {
   "hash": "5675cb18eb1443b8369002c5f545df601e18a8d4e2c974b1cb42f0d4601b5184"
  },
  "kernelspec": {
   "display_name": "Python 3.9.7 64-bit ('machine-learning': conda)",
   "language": "python",
   "name": "python3"
  },
  "language_info": {
   "codemirror_mode": {
    "name": "ipython",
    "version": 3
   },
   "file_extension": ".py",
   "mimetype": "text/x-python",
   "name": "python",
   "nbconvert_exporter": "python",
   "pygments_lexer": "ipython3",
   "version": "3.9.7"
  },
  "orig_nbformat": 4
 },
 "nbformat": 4,
 "nbformat_minor": 2
}
