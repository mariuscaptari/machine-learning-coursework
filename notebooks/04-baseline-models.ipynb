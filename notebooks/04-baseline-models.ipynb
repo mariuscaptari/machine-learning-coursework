{
 "cells": [
  {
   "cell_type": "code",
   "execution_count": 4,
   "metadata": {},
   "outputs": [],
   "source": [
    "import pandas as pd\n",
    "import numpy as np\n",
    "from collections import OrderedDict\n",
    "\n",
    "from sklearn.model_selection import TimeSeriesSplit\n",
    "\n",
    "from sklearn.linear_model import LinearRegression"
   ]
  },
  {
   "cell_type": "code",
   "execution_count": 2,
   "metadata": {},
   "outputs": [],
   "source": [
    "df_all = pd.read_csv('../data/processed/0.3-feature-processing.csv', index_col=0)\n",
    "df = df_all[df_all['year'] > 1980]"
   ]
  },
  {
   "cell_type": "markdown",
   "metadata": {},
   "source": [
    "**Group by race (year,round)**"
   ]
  },
  {
   "cell_type": "code",
   "execution_count": 5,
   "metadata": {},
   "outputs": [],
   "source": [
    "groups_year = df.groupby(['year','round']).groups\n",
    "groups_year = OrderedDict(groups_year)"
   ]
  },
  {
   "cell_type": "markdown",
   "metadata": {},
   "source": [
    "**Define train/test splits based on year and round of the race**"
   ]
  },
  {
   "cell_type": "code",
   "execution_count": 14,
   "metadata": {},
   "outputs": [
    {
     "data": {
      "text/plain": [
       "655"
      ]
     },
     "execution_count": 14,
     "metadata": {},
     "output_type": "execute_result"
    }
   ],
   "source": [
    "list(groups_year.keys()).index((2019,1))"
   ]
  },
  {
   "cell_type": "code",
   "execution_count": 11,
   "metadata": {},
   "outputs": [],
   "source": [
    "sorted_groups = [value for (_, value) in sorted(groups_year.items())] "
   ]
  },
  {
   "cell_type": "code",
   "execution_count": 14,
   "metadata": {},
   "outputs": [
    {
     "data": {
      "text/plain": [
       "715"
      ]
     },
     "execution_count": 14,
     "metadata": {},
     "output_type": "execute_result"
    }
   ],
   "source": [
    "len(sorted_groups)"
   ]
  },
  {
   "cell_type": "code",
   "execution_count": 15,
   "metadata": {},
   "outputs": [],
   "source": [
    "cv = 'undefined'"
   ]
  },
  {
   "cell_type": "code",
   "execution_count": 7,
   "metadata": {},
   "outputs": [
    {
     "data": {
      "text/plain": [
       "Index(['driverId', 'gridStart', 'positionOrder', 'year', 'round', 'circuitId',\n",
       "       'ageAtRace', 'ageAtDebut', 'yearsExperience', 'racingAtHome',\n",
       "       'driverStandingsPoints', 'driverStandingsPosition',\n",
       "       'driverStandingsWins', 'lastRaceRank', 'constructorStandingsPoints',\n",
       "       'constructorStandingsPosition', 'constructorStandingsWins',\n",
       "       'previousRaceGridStart', 'previousRacePosition', 'racesWon',\n",
       "       'racesRetired', 'racesFinished', 'polePositions',\n",
       "       'racesWonByConstructor', 'racesRetiredByConstructor',\n",
       "       'percentageOfBestQuali'],\n",
       "      dtype='object')"
      ]
     },
     "execution_count": 7,
     "metadata": {},
     "output_type": "execute_result"
    }
   ],
   "source": [
    "df.columns"
   ]
  },
  {
   "cell_type": "code",
   "execution_count": 8,
   "metadata": {},
   "outputs": [],
   "source": [
    "one_hot_columns = ['driverId','circuitId']"
   ]
  },
  {
   "cell_type": "code",
   "execution_count": 3,
   "metadata": {},
   "outputs": [],
   "source": [
    "df = df[['gridStart','year','round','positionOrder']]"
   ]
  },
  {
   "cell_type": "code",
   "execution_count": 4,
   "metadata": {},
   "outputs": [],
   "source": [
    "df_train=df[(df['year'] <= 2021) & (df['round']<19)]\n",
    "df_validation=df[(df['year'] == 2021) & (df['round']==19)]"
   ]
  },
  {
   "cell_type": "code",
   "execution_count": 5,
   "metadata": {},
   "outputs": [
    {
     "data": {
      "text/html": [
       "<div>\n",
       "<style scoped>\n",
       "    .dataframe tbody tr th:only-of-type {\n",
       "        vertical-align: middle;\n",
       "    }\n",
       "\n",
       "    .dataframe tbody tr th {\n",
       "        vertical-align: top;\n",
       "    }\n",
       "\n",
       "    .dataframe thead th {\n",
       "        text-align: right;\n",
       "    }\n",
       "</style>\n",
       "<table border=\"1\" class=\"dataframe\">\n",
       "  <thead>\n",
       "    <tr style=\"text-align: right;\">\n",
       "      <th></th>\n",
       "      <th>gridStart</th>\n",
       "      <th>year</th>\n",
       "      <th>round</th>\n",
       "      <th>positionOrder</th>\n",
       "    </tr>\n",
       "  </thead>\n",
       "  <tbody>\n",
       "    <tr>\n",
       "      <th>0</th>\n",
       "      <td>1</td>\n",
       "      <td>2008</td>\n",
       "      <td>1</td>\n",
       "      <td>1</td>\n",
       "    </tr>\n",
       "    <tr>\n",
       "      <th>1</th>\n",
       "      <td>9</td>\n",
       "      <td>2008</td>\n",
       "      <td>2</td>\n",
       "      <td>5</td>\n",
       "    </tr>\n",
       "    <tr>\n",
       "      <th>2</th>\n",
       "      <td>3</td>\n",
       "      <td>2008</td>\n",
       "      <td>3</td>\n",
       "      <td>13</td>\n",
       "    </tr>\n",
       "  </tbody>\n",
       "</table>\n",
       "</div>"
      ],
      "text/plain": [
       "   gridStart  year  round  positionOrder\n",
       "0          1  2008      1              1\n",
       "1          9  2008      2              5\n",
       "2          3  2008      3             13"
      ]
     },
     "execution_count": 5,
     "metadata": {},
     "output_type": "execute_result"
    }
   ],
   "source": [
    "df_train.head(3)"
   ]
  },
  {
   "cell_type": "code",
   "execution_count": 6,
   "metadata": {},
   "outputs": [
    {
     "data": {
      "text/plain": [
       "0.028457020490752383"
      ]
     },
     "execution_count": 6,
     "metadata": {},
     "output_type": "execute_result"
    }
   ],
   "source": [
    "reg = LinearRegression().fit(df_train.iloc[:,:-3], df_train.iloc[:,-1:])\n",
    "reg.score(df_train.iloc[:,:-3], df_train.iloc[:,-1:])"
   ]
  },
  {
   "cell_type": "code",
   "execution_count": 7,
   "metadata": {},
   "outputs": [],
   "source": [
    "prediction = reg.predict(df_validation.iloc[:,:-3])\n",
    "df_prediction = pd.DataFrame(data=prediction,columns=['predictedOrder'])\n",
    "df_validation = df_validation.reset_index(drop=True)"
   ]
  },
  {
   "cell_type": "code",
   "execution_count": 8,
   "metadata": {},
   "outputs": [],
   "source": [
    "df_compare = pd.concat([df_validation, df_prediction], axis=1)"
   ]
  },
  {
   "cell_type": "code",
   "execution_count": 9,
   "metadata": {},
   "outputs": [
    {
     "data": {
      "text/html": [
       "<div>\n",
       "<style scoped>\n",
       "    .dataframe tbody tr th:only-of-type {\n",
       "        vertical-align: middle;\n",
       "    }\n",
       "\n",
       "    .dataframe tbody tr th {\n",
       "        vertical-align: top;\n",
       "    }\n",
       "\n",
       "    .dataframe thead th {\n",
       "        text-align: right;\n",
       "    }\n",
       "</style>\n",
       "<table border=\"1\" class=\"dataframe\">\n",
       "  <thead>\n",
       "    <tr style=\"text-align: right;\">\n",
       "      <th></th>\n",
       "      <th>gridStart</th>\n",
       "      <th>year</th>\n",
       "      <th>round</th>\n",
       "      <th>positionOrder</th>\n",
       "      <th>predictedOrder</th>\n",
       "    </tr>\n",
       "  </thead>\n",
       "  <tbody>\n",
       "    <tr>\n",
       "      <th>0</th>\n",
       "      <td>10</td>\n",
       "      <td>2021</td>\n",
       "      <td>19</td>\n",
       "      <td>1</td>\n",
       "      <td>12.690997</td>\n",
       "    </tr>\n",
       "    <tr>\n",
       "      <th>1</th>\n",
       "      <td>12</td>\n",
       "      <td>2021</td>\n",
       "      <td>19</td>\n",
       "      <td>9</td>\n",
       "      <td>13.056627</td>\n",
       "    </tr>\n",
       "    <tr>\n",
       "      <th>2</th>\n",
       "      <td>0</td>\n",
       "      <td>2021</td>\n",
       "      <td>19</td>\n",
       "      <td>12</td>\n",
       "      <td>10.862848</td>\n",
       "    </tr>\n",
       "    <tr>\n",
       "      <th>3</th>\n",
       "      <td>9</td>\n",
       "      <td>2021</td>\n",
       "      <td>19</td>\n",
       "      <td>11</td>\n",
       "      <td>12.508183</td>\n",
       "    </tr>\n",
       "    <tr>\n",
       "      <th>4</th>\n",
       "      <td>4</td>\n",
       "      <td>2021</td>\n",
       "      <td>19</td>\n",
       "      <td>4</td>\n",
       "      <td>11.594108</td>\n",
       "    </tr>\n",
       "    <tr>\n",
       "      <th>5</th>\n",
       "      <td>11</td>\n",
       "      <td>2021</td>\n",
       "      <td>19</td>\n",
       "      <td>19</td>\n",
       "      <td>12.873812</td>\n",
       "    </tr>\n",
       "    <tr>\n",
       "      <th>6</th>\n",
       "      <td>1</td>\n",
       "      <td>2021</td>\n",
       "      <td>19</td>\n",
       "      <td>3</td>\n",
       "      <td>11.045663</td>\n",
       "    </tr>\n",
       "    <tr>\n",
       "      <th>7</th>\n",
       "      <td>3</td>\n",
       "      <td>2021</td>\n",
       "      <td>19</td>\n",
       "      <td>6</td>\n",
       "      <td>11.411293</td>\n",
       "    </tr>\n",
       "    <tr>\n",
       "      <th>8</th>\n",
       "      <td>2</td>\n",
       "      <td>2021</td>\n",
       "      <td>19</td>\n",
       "      <td>2</td>\n",
       "      <td>11.228478</td>\n",
       "    </tr>\n",
       "    <tr>\n",
       "      <th>9</th>\n",
       "      <td>8</td>\n",
       "      <td>2021</td>\n",
       "      <td>19</td>\n",
       "      <td>8</td>\n",
       "      <td>12.325368</td>\n",
       "    </tr>\n",
       "    <tr>\n",
       "      <th>10</th>\n",
       "      <td>13</td>\n",
       "      <td>2021</td>\n",
       "      <td>19</td>\n",
       "      <td>14</td>\n",
       "      <td>13.239442</td>\n",
       "    </tr>\n",
       "    <tr>\n",
       "      <th>11</th>\n",
       "      <td>14</td>\n",
       "      <td>2021</td>\n",
       "      <td>19</td>\n",
       "      <td>20</td>\n",
       "      <td>13.422257</td>\n",
       "    </tr>\n",
       "    <tr>\n",
       "      <th>12</th>\n",
       "      <td>7</td>\n",
       "      <td>2021</td>\n",
       "      <td>19</td>\n",
       "      <td>7</td>\n",
       "      <td>12.142553</td>\n",
       "    </tr>\n",
       "    <tr>\n",
       "      <th>13</th>\n",
       "      <td>6</td>\n",
       "      <td>2021</td>\n",
       "      <td>19</td>\n",
       "      <td>5</td>\n",
       "      <td>11.959738</td>\n",
       "    </tr>\n",
       "    <tr>\n",
       "      <th>14</th>\n",
       "      <td>5</td>\n",
       "      <td>2021</td>\n",
       "      <td>19</td>\n",
       "      <td>10</td>\n",
       "      <td>11.776923</td>\n",
       "    </tr>\n",
       "    <tr>\n",
       "      <th>15</th>\n",
       "      <td>17</td>\n",
       "      <td>2021</td>\n",
       "      <td>19</td>\n",
       "      <td>13</td>\n",
       "      <td>13.970702</td>\n",
       "    </tr>\n",
       "    <tr>\n",
       "      <th>16</th>\n",
       "      <td>16</td>\n",
       "      <td>2021</td>\n",
       "      <td>19</td>\n",
       "      <td>16</td>\n",
       "      <td>13.787887</td>\n",
       "    </tr>\n",
       "    <tr>\n",
       "      <th>17</th>\n",
       "      <td>15</td>\n",
       "      <td>2021</td>\n",
       "      <td>19</td>\n",
       "      <td>15</td>\n",
       "      <td>13.605072</td>\n",
       "    </tr>\n",
       "    <tr>\n",
       "      <th>18</th>\n",
       "      <td>18</td>\n",
       "      <td>2021</td>\n",
       "      <td>19</td>\n",
       "      <td>18</td>\n",
       "      <td>14.153517</td>\n",
       "    </tr>\n",
       "    <tr>\n",
       "      <th>19</th>\n",
       "      <td>19</td>\n",
       "      <td>2021</td>\n",
       "      <td>19</td>\n",
       "      <td>17</td>\n",
       "      <td>14.336331</td>\n",
       "    </tr>\n",
       "  </tbody>\n",
       "</table>\n",
       "</div>"
      ],
      "text/plain": [
       "    gridStart  year  round  positionOrder  predictedOrder\n",
       "0          10  2021     19              1       12.690997\n",
       "1          12  2021     19              9       13.056627\n",
       "2           0  2021     19             12       10.862848\n",
       "3           9  2021     19             11       12.508183\n",
       "4           4  2021     19              4       11.594108\n",
       "5          11  2021     19             19       12.873812\n",
       "6           1  2021     19              3       11.045663\n",
       "7           3  2021     19              6       11.411293\n",
       "8           2  2021     19              2       11.228478\n",
       "9           8  2021     19              8       12.325368\n",
       "10         13  2021     19             14       13.239442\n",
       "11         14  2021     19             20       13.422257\n",
       "12          7  2021     19              7       12.142553\n",
       "13          6  2021     19              5       11.959738\n",
       "14          5  2021     19             10       11.776923\n",
       "15         17  2021     19             13       13.970702\n",
       "16         16  2021     19             16       13.787887\n",
       "17         15  2021     19             15       13.605072\n",
       "18         18  2021     19             18       14.153517\n",
       "19         19  2021     19             17       14.336331"
      ]
     },
     "execution_count": 9,
     "metadata": {},
     "output_type": "execute_result"
    }
   ],
   "source": [
    "df_compare.head(20)"
   ]
  }
 ],
 "metadata": {
  "interpreter": {
   "hash": "5675cb18eb1443b8369002c5f545df601e18a8d4e2c974b1cb42f0d4601b5184"
  },
  "kernelspec": {
   "display_name": "Python 3.9.7 64-bit ('machine-learning': conda)",
   "language": "python",
   "name": "python3"
  },
  "language_info": {
   "codemirror_mode": {
    "name": "ipython",
    "version": 3
   },
   "file_extension": ".py",
   "mimetype": "text/x-python",
   "name": "python",
   "nbconvert_exporter": "python",
   "pygments_lexer": "ipython3",
   "version": "3.9.7"
  },
  "orig_nbformat": 4
 },
 "nbformat": 4,
 "nbformat_minor": 2
}
