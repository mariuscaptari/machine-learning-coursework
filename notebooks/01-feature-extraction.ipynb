{
 "cells": [
  {
   "cell_type": "code",
   "execution_count": 1,
   "metadata": {},
   "outputs": [],
   "source": [
    "import pandas as pd\n",
    "from tqdm import tqdm\n",
    "from datetime import datetime"
   ]
  },
  {
   "cell_type": "markdown",
   "metadata": {},
   "source": [
    "**Import all csvs and store into seppareta dataframes**"
   ]
  },
  {
   "cell_type": "code",
   "execution_count": 2,
   "metadata": {},
   "outputs": [],
   "source": [
    "circuits = pd.read_csv('../data/raw/circuits.csv')\n",
    "constructor_results = pd.read_csv('../data/raw/constructor_results.csv')\n",
    "constructor_standings = pd.read_csv('../data/raw/constructor_standings.csv')\n",
    "constructors = pd.read_csv('../data/raw/constructors.csv')\n",
    "driver_standings = pd.read_csv('../data/raw/driver_standings.csv')\n",
    "drivers = pd.read_csv('../data/raw/drivers.csv', parse_dates=[6])\n",
    "lap_times = pd.read_csv('../data/raw/lap_times.csv')\n",
    "pit_stops = pd.read_csv('../data/raw/pit_stops.csv')\n",
    "qualifying = pd.read_csv('../data/raw/qualifying.csv')\n",
    "races = pd.read_csv('../data/raw/races.csv', parse_dates=[5])\n",
    "results = pd.read_csv('../data/raw/results.csv')\n",
    "seasons = pd.read_csv('../data/raw/seasons.csv')\n",
    "status = pd.read_csv('../data/raw/status.csv')"
   ]
  },
  {
   "cell_type": "markdown",
   "metadata": {},
   "source": [
    "**Merge results with drivers**"
   ]
  },
  {
   "cell_type": "code",
   "execution_count": 3,
   "metadata": {},
   "outputs": [
    {
     "data": {
      "text/plain": [
       "0       1985-01-07\n",
       "1       1985-01-07\n",
       "2       1985-01-07\n",
       "3       1985-01-07\n",
       "4       1985-01-07\n",
       "           ...    \n",
       "25394   1999-03-02\n",
       "25395   1999-03-02\n",
       "25396   1999-03-02\n",
       "25397   1999-03-02\n",
       "25398   1999-03-02\n",
       "Name: dob, Length: 25399, dtype: datetime64[ns]"
      ]
     },
     "execution_count": 3,
     "metadata": {},
     "output_type": "execute_result"
    }
   ],
   "source": [
    "result_with_dob = results.merge(drivers, left_on='driverId', right_on='driverId')\n",
    "results_with_dob_date = result_with_dob.merge(races, on = 'raceId', how = 'left')\n",
    "pd.to_datetime(results_with_dob_date['date'])\n",
    "pd.to_datetime(results_with_dob_date['dob'])"
   ]
  },
  {
   "cell_type": "markdown",
   "metadata": {},
   "source": [
    "**Calculate age at race in days (timedelta)**"
   ]
  },
  {
   "cell_type": "code",
   "execution_count": 4,
   "metadata": {},
   "outputs": [],
   "source": [
    "results_with_dob_date['ageAtRace'] = results_with_dob_date['date'] - results_with_dob_date['dob']"
   ]
  },
  {
   "cell_type": "markdown",
   "metadata": {},
   "source": [
    "**Calculate how many days in f1 in days (timedelta)**"
   ]
  },
  {
   "cell_type": "code",
   "execution_count": 5,
   "metadata": {},
   "outputs": [],
   "source": [
    "\n",
    "date_of_debut = results_with_dob_date.groupby('driverId')['date'].min().to_frame()\n",
    "date_of_debut = date_of_debut.merge(drivers, on = 'driverId', how = 'left').rename(columns={'date':'date_of_debut'})\n",
    "date_of_debut = date_of_debut[['driverId','date_of_debut']]\n",
    "date_of_debut['date_of_debut']\n",
    "df = results_with_dob_date.merge(date_of_debut, on = 'driverId', how = 'left')\n",
    "df['ageAtDebut'] = df['date_of_debut'] - df['dob']\n",
    "df['yearsExperience'] = df['date'] - df['date_of_debut']"
   ]
  },
  {
   "cell_type": "markdown",
   "metadata": {},
   "source": [
    "**Drop and rename columns**"
   ]
  },
  {
   "cell_type": "code",
   "execution_count": 6,
   "metadata": {},
   "outputs": [],
   "source": [
    "df = df.drop(columns=['number_y', 'number_x', 'code', 'forename', 'surname', 'dob', 'url_x', 'time_y', 'url_y'])\n",
    "df = df.rename(columns={\"grid\": \"gridStart\", \"name\": \"circuitName\", \"date_of_debut\" : \"dateOfDebut\", \"points\": \"pointsGained\"})"
   ]
  },
  {
   "cell_type": "markdown",
   "metadata": {},
   "source": [
    "**Add is racing in home country feature**"
   ]
  },
  {
   "cell_type": "code",
   "execution_count": 7,
   "metadata": {},
   "outputs": [],
   "source": [
    "df['racingAtHome'] = df.apply(lambda row: row.nationality in row.circuitName, axis=1)"
   ]
  },
  {
   "cell_type": "markdown",
   "metadata": {},
   "source": [
    "**Convert ages from days to years**"
   ]
  },
  {
   "cell_type": "code",
   "execution_count": 8,
   "metadata": {},
   "outputs": [],
   "source": [
    "df['ageAtRace'] = df.apply(lambda row: int(row.ageAtRace / pd.Timedelta('365 days')), axis=1)\n",
    "df['ageAtDebut'] = df.apply(lambda row: int(row.ageAtDebut / pd.Timedelta('365 days')), axis=1)\n",
    "df['yearsExperience'] = df.apply(lambda row: int(row.yearsExperience / pd.Timedelta('365 days')), axis=1)"
   ]
  },
  {
   "cell_type": "markdown",
   "metadata": {},
   "source": [
    "**Merge with driver standings**"
   ]
  },
  {
   "cell_type": "code",
   "execution_count": 9,
   "metadata": {},
   "outputs": [],
   "source": [
    "driver_standings = driver_standings.rename(columns={\"points\": \"driverStandingsPoints\", \"position\": \"driverStandingsPosition\", \"wins\" : \"driverStandingsWins\"})\n",
    "driver_standings = driver_standings.drop(columns=['positionText'])\n",
    "df = df.merge(driver_standings, on = ['raceId','driverId'], how = 'left')"
   ]
  },
  {
   "cell_type": "markdown",
   "metadata": {},
   "source": [
    "**Get driver standings information before race**"
   ]
  },
  {
   "cell_type": "code",
   "execution_count": 10,
   "metadata": {},
   "outputs": [],
   "source": [
    "df['driverStandingsPoints'] = df.groupby(['year','driverId'])['driverStandingsPoints'].shift(fill_value=0)\n",
    "df['driverStandingsPosition'] = df.groupby(['year','driverId'])['driverStandingsPosition'].shift(fill_value=0)\n",
    "df['driverStandingsWins'] = df.groupby(['year','driverId'])['driverStandingsWins'].shift(fill_value=0)\n",
    "df['lastRaceRank'] = df.groupby(['year','driverId'])['rank'].shift()"
   ]
  },
  {
   "cell_type": "markdown",
   "metadata": {},
   "source": [
    "**Merge with constructor standings**"
   ]
  },
  {
   "cell_type": "code",
   "execution_count": 11,
   "metadata": {},
   "outputs": [],
   "source": [
    "constructor_standings = constructor_standings.rename(columns={\"points\": \"constructorStandingsPoints\", \"position\": \"constructorStandingsPosition\", \"wins\" : \"constructorStandingsWins\"})\n",
    "constructor_standings = constructor_standings.drop(columns=['positionText'])\n",
    "df = df.merge(constructor_standings, on = ['raceId','constructorId'], how = 'left')"
   ]
  },
  {
   "cell_type": "markdown",
   "metadata": {},
   "source": [
    "**Get constructor standings information before race**"
   ]
  },
  {
   "cell_type": "code",
   "execution_count": 12,
   "metadata": {},
   "outputs": [],
   "source": [
    "df['constructorStandingsPoints'] = df.groupby(['year','driverId'])['constructorStandingsPoints'].shift(fill_value=0)\n",
    "df['constructorStandingsPosition'] = df.groupby(['year','driverId'])['constructorStandingsPosition'].shift(fill_value=0)\n",
    "df['constructorStandingsWins'] = df.groupby(['year','driverId'])['constructorStandingsWins'].shift(fill_value=0)"
   ]
  },
  {
   "cell_type": "markdown",
   "metadata": {},
   "source": [
    "**Get previous race grid and final race positions**"
   ]
  },
  {
   "cell_type": "code",
   "execution_count": 13,
   "metadata": {},
   "outputs": [],
   "source": [
    "df['previousRaceGridStart'] = df.groupby(['year','driverId'])['gridStart'].shift()\n",
    "df['previousRacePosition'] = df.groupby(['year','driverId'])['positionOrder'].shift()"
   ]
  },
  {
   "cell_type": "markdown",
   "metadata": {},
   "source": [
    "**Add status for each row**"
   ]
  },
  {
   "cell_type": "code",
   "execution_count": 14,
   "metadata": {},
   "outputs": [],
   "source": [
    "df = df.merge(status, on = ['statusId'], how = 'left')"
   ]
  },
  {
   "cell_type": "markdown",
   "metadata": {},
   "source": [
    "**Get all historic features up until current row date**"
   ]
  },
  {
   "cell_type": "code",
   "execution_count": 15,
   "metadata": {},
   "outputs": [
    {
     "name": "stderr",
     "output_type": "stream",
     "text": [
      "100%|██████████| 1057/1057 [02:56<00:00,  5.99it/s]\n"
     ]
    }
   ],
   "source": [
    "for date in tqdm(df.date.unique()):\n",
    "    #Races won by driver\n",
    "    races_won_by_driver = df[df.date < date].groupby('driverId')['positionText'].apply(lambda x: (x=='1').sum()).reset_index(name='racesWon')\n",
    "    races_won_by_driver['date'] = date\n",
    "    dfaux = df[df['date'] == date].copy()\n",
    "    dfaux['racesWon'] = 'to_delete'\n",
    "    dfaux = dfaux.drop('racesWon', axis = 1)\n",
    "    df.loc[df['date'] == date, 'racesWon'] = dfaux.merge(races_won_by_driver, on=['date','driverId'], how='left')['racesWon'].values\n",
    "    \n",
    "    #Number of races retired\n",
    "    races_retired_by_driver = df[df.date < date].groupby('driverId')['positionText'].apply(lambda x: (x=='R').sum()).reset_index(name='racesRetired')\n",
    "    races_retired_by_driver['date'] = date\n",
    "    dfaux = df[df['date'] == date].copy()\n",
    "    dfaux['racesRetired'] = 'to_delete'\n",
    "    dfaux = dfaux.drop('racesRetired', axis = 1)\n",
    "    df.loc[df['date'] == date, 'racesRetired'] = dfaux.merge(races_retired_by_driver, on=['date','driverId'], how='left')['racesRetired'].values\n",
    "\n",
    "    #Number of races finished\n",
    "    races_finished_by_driver = df[df.date < date].groupby('driverId')['position'].apply(lambda x: (x!='\\\\N').sum()).reset_index(name='racesFinished')\n",
    "    races_finished_by_driver['date'] = date\n",
    "    dfaux = df[df['date'] == date].copy()\n",
    "    dfaux['racesFinished'] = 'to_delete'\n",
    "    dfaux = dfaux.drop('racesFinished', axis = 1)\n",
    "    df.loc[df['date'] == date, 'racesFinished'] = dfaux.merge(races_finished_by_driver, on=['date','driverId'], how='left')['racesFinished'].values\n",
    "\n",
    "    #Number of pole positions\n",
    "    pole_positions_by_driver = df[df.date < date].groupby('driverId')['gridStart'].apply(lambda x: (x==1).sum()).reset_index(name='polePositions')\n",
    "    pole_positions_by_driver['date'] = date\n",
    "    dfaux = df[df['date'] == date].copy()\n",
    "    dfaux['polePositions'] = 'to_delete'\n",
    "    dfaux = dfaux.drop('polePositions', axis = 1)\n",
    "    df.loc[df['date'] == date, 'polePositions'] = dfaux.merge(pole_positions_by_driver, on=['date','driverId'], how='left')['polePositions'].values\n",
    "\n",
    "    #Constructors races won\n",
    "    races_won_by_constructor = df[df.date < date].groupby('constructorId')['positionText'].apply(lambda x: (x=='1').sum()).reset_index(name='racesWonByConstructor')\n",
    "    races_won_by_constructor['date'] = date\n",
    "    dfaux = df[df['date'] == date].copy()\n",
    "    dfaux['racesWonByConstructor'] = 'to_delete'\n",
    "    dfaux = dfaux.drop('racesWonByConstructor', axis = 1)\n",
    "    df.loc[df['date'] == date, 'racesWonByConstructor'] = dfaux.merge(races_won_by_constructor, on=['date','constructorId'], how='left')['racesWonByConstructor'].values\n",
    "\n",
    "    #Constructor times retired\n",
    "    races_retired_by_constructor = df[df.date < date].groupby('constructorId')['positionText'].apply(lambda x: (x=='R').sum()).reset_index(name='racesRetiredByConstructor')\n",
    "    races_retired_by_constructor['date'] = date\n",
    "    dfaux = df[df['date'] == date].copy()\n",
    "    dfaux['racesRetiredByConstructor'] = 'to_delete'\n",
    "    dfaux = dfaux.drop('racesRetiredByConstructor', axis = 1)\n",
    "    df.loc[df['date'] == date, 'racesRetiredByConstructor'] = dfaux.merge(races_retired_by_constructor, on=['date','constructorId'], how='left')['racesRetiredByConstructor'].values"
   ]
  },
  {
   "cell_type": "code",
   "execution_count": 16,
   "metadata": {},
   "outputs": [],
   "source": [
    "origin = datetime.strptime('1900/01/01 00:00:00.000','%Y/%m/%d %H:%M:%S.%f')\n",
    "\n",
    "def convertToMilliseconds(time):\n",
    "    try:\n",
    "        origin = datetime.strptime('1900/01/01 00:00:00.000','%Y/%m/%d %H:%M:%S.%f')\n",
    "        date_time = datetime.strptime(time,'%M:%S.%f')\n",
    "        delta = date_time - origin\n",
    "        return delta.seconds*1000 + delta.microseconds/1000\n",
    "    except:\n",
    "        return pd.NaT\n",
    "\n",
    "# print(convertToMilliseconds('1:26.164'))"
   ]
  },
  {
   "cell_type": "markdown",
   "metadata": {},
   "source": [
    "**Format qualifying times**"
   ]
  },
  {
   "cell_type": "code",
   "execution_count": 17,
   "metadata": {},
   "outputs": [],
   "source": [
    "# qualifying['q1'] = qualifying['q1'].str.replace('.',':', regex=False)\n",
    "# qualifying['q2'] = qualifying['q2'].str.replace('.',':', regex=False)\n",
    "# qualifying['q3'] = qualifying['q3'].str.replace('.',':', regex=False)\n",
    "qualifying[['q1', 'q2', 'q3']] = qualifying[['q1', 'q2', 'q3']].applymap(lambda x: convertToMilliseconds(x))\n",
    "qualifying['bestLap'] = qualifying[['q1','q2','q3']].min(axis=1)"
   ]
  },
  {
   "cell_type": "code",
   "execution_count": 18,
   "metadata": {},
   "outputs": [
    {
     "data": {
      "text/html": [
       "<div>\n",
       "<style scoped>\n",
       "    .dataframe tbody tr th:only-of-type {\n",
       "        vertical-align: middle;\n",
       "    }\n",
       "\n",
       "    .dataframe tbody tr th {\n",
       "        vertical-align: top;\n",
       "    }\n",
       "\n",
       "    .dataframe thead th {\n",
       "        text-align: right;\n",
       "    }\n",
       "</style>\n",
       "<table border=\"1\" class=\"dataframe\">\n",
       "  <thead>\n",
       "    <tr style=\"text-align: right;\">\n",
       "      <th></th>\n",
       "      <th>qualifyId</th>\n",
       "      <th>raceId</th>\n",
       "      <th>driverId</th>\n",
       "      <th>constructorId</th>\n",
       "      <th>number</th>\n",
       "      <th>position</th>\n",
       "      <th>q1</th>\n",
       "      <th>q2</th>\n",
       "      <th>q3</th>\n",
       "      <th>bestLap</th>\n",
       "    </tr>\n",
       "  </thead>\n",
       "  <tbody>\n",
       "    <tr>\n",
       "      <th>8694</th>\n",
       "      <td>8735</td>\n",
       "      <td>1052</td>\n",
       "      <td>830</td>\n",
       "      <td>9</td>\n",
       "      <td>33</td>\n",
       "      <td>1</td>\n",
       "      <td>90499.0</td>\n",
       "      <td>90318.0</td>\n",
       "      <td>88997.0</td>\n",
       "      <td>88997.0</td>\n",
       "    </tr>\n",
       "    <tr>\n",
       "      <th>8695</th>\n",
       "      <td>8736</td>\n",
       "      <td>1052</td>\n",
       "      <td>1</td>\n",
       "      <td>131</td>\n",
       "      <td>44</td>\n",
       "      <td>2</td>\n",
       "      <td>90617.0</td>\n",
       "      <td>90085.0</td>\n",
       "      <td>89385.0</td>\n",
       "      <td>89385.0</td>\n",
       "    </tr>\n",
       "    <tr>\n",
       "      <th>8696</th>\n",
       "      <td>8737</td>\n",
       "      <td>1052</td>\n",
       "      <td>822</td>\n",
       "      <td>131</td>\n",
       "      <td>77</td>\n",
       "      <td>3</td>\n",
       "      <td>91200.0</td>\n",
       "      <td>90186.0</td>\n",
       "      <td>89586.0</td>\n",
       "      <td>89586.0</td>\n",
       "    </tr>\n",
       "    <tr>\n",
       "      <th>8697</th>\n",
       "      <td>8738</td>\n",
       "      <td>1052</td>\n",
       "      <td>844</td>\n",
       "      <td>6</td>\n",
       "      <td>16</td>\n",
       "      <td>4</td>\n",
       "      <td>90691.0</td>\n",
       "      <td>90010.0</td>\n",
       "      <td>89678.0</td>\n",
       "      <td>89678.0</td>\n",
       "    </tr>\n",
       "    <tr>\n",
       "      <th>8698</th>\n",
       "      <td>8739</td>\n",
       "      <td>1052</td>\n",
       "      <td>842</td>\n",
       "      <td>213</td>\n",
       "      <td>10</td>\n",
       "      <td>5</td>\n",
       "      <td>90848.0</td>\n",
       "      <td>90513.0</td>\n",
       "      <td>89809.0</td>\n",
       "      <td>89809.0</td>\n",
       "    </tr>\n",
       "    <tr>\n",
       "      <th>8699</th>\n",
       "      <td>8740</td>\n",
       "      <td>1052</td>\n",
       "      <td>817</td>\n",
       "      <td>1</td>\n",
       "      <td>3</td>\n",
       "      <td>6</td>\n",
       "      <td>90795.0</td>\n",
       "      <td>90222.0</td>\n",
       "      <td>89927.0</td>\n",
       "      <td>89927.0</td>\n",
       "    </tr>\n",
       "    <tr>\n",
       "      <th>8700</th>\n",
       "      <td>8741</td>\n",
       "      <td>1052</td>\n",
       "      <td>846</td>\n",
       "      <td>1</td>\n",
       "      <td>4</td>\n",
       "      <td>7</td>\n",
       "      <td>90902.0</td>\n",
       "      <td>90099.0</td>\n",
       "      <td>89974.0</td>\n",
       "      <td>89974.0</td>\n",
       "    </tr>\n",
       "    <tr>\n",
       "      <th>8701</th>\n",
       "      <td>8742</td>\n",
       "      <td>1052</td>\n",
       "      <td>832</td>\n",
       "      <td>6</td>\n",
       "      <td>55</td>\n",
       "      <td>8</td>\n",
       "      <td>91653.0</td>\n",
       "      <td>90009.0</td>\n",
       "      <td>90215.0</td>\n",
       "      <td>90009.0</td>\n",
       "    </tr>\n",
       "    <tr>\n",
       "      <th>8702</th>\n",
       "      <td>8743</td>\n",
       "      <td>1052</td>\n",
       "      <td>4</td>\n",
       "      <td>214</td>\n",
       "      <td>14</td>\n",
       "      <td>9</td>\n",
       "      <td>90863.0</td>\n",
       "      <td>90595.0</td>\n",
       "      <td>90249.0</td>\n",
       "      <td>90249.0</td>\n",
       "    </tr>\n",
       "    <tr>\n",
       "      <th>8703</th>\n",
       "      <td>8744</td>\n",
       "      <td>1052</td>\n",
       "      <td>840</td>\n",
       "      <td>117</td>\n",
       "      <td>18</td>\n",
       "      <td>10</td>\n",
       "      <td>91261.0</td>\n",
       "      <td>90624.0</td>\n",
       "      <td>90601.0</td>\n",
       "      <td>90601.0</td>\n",
       "    </tr>\n",
       "    <tr>\n",
       "      <th>8704</th>\n",
       "      <td>8745</td>\n",
       "      <td>1052</td>\n",
       "      <td>815</td>\n",
       "      <td>9</td>\n",
       "      <td>11</td>\n",
       "      <td>11</td>\n",
       "      <td>91165.0</td>\n",
       "      <td>90659.0</td>\n",
       "      <td>NaT</td>\n",
       "      <td>90659.0</td>\n",
       "    </tr>\n",
       "    <tr>\n",
       "      <th>8705</th>\n",
       "      <td>8746</td>\n",
       "      <td>1052</td>\n",
       "      <td>841</td>\n",
       "      <td>51</td>\n",
       "      <td>99</td>\n",
       "      <td>12</td>\n",
       "      <td>90998.0</td>\n",
       "      <td>90708.0</td>\n",
       "      <td>NaT</td>\n",
       "      <td>90708.0</td>\n",
       "    </tr>\n",
       "    <tr>\n",
       "      <th>8706</th>\n",
       "      <td>8747</td>\n",
       "      <td>1052</td>\n",
       "      <td>852</td>\n",
       "      <td>213</td>\n",
       "      <td>22</td>\n",
       "      <td>13</td>\n",
       "      <td>90607.0</td>\n",
       "      <td>91203.0</td>\n",
       "      <td>NaT</td>\n",
       "      <td>90607.0</td>\n",
       "    </tr>\n",
       "    <tr>\n",
       "      <th>8707</th>\n",
       "      <td>8748</td>\n",
       "      <td>1052</td>\n",
       "      <td>8</td>\n",
       "      <td>51</td>\n",
       "      <td>7</td>\n",
       "      <td>14</td>\n",
       "      <td>91547.0</td>\n",
       "      <td>91238.0</td>\n",
       "      <td>NaT</td>\n",
       "      <td>91238.0</td>\n",
       "    </tr>\n",
       "    <tr>\n",
       "      <th>8708</th>\n",
       "      <td>8749</td>\n",
       "      <td>1052</td>\n",
       "      <td>847</td>\n",
       "      <td>3</td>\n",
       "      <td>63</td>\n",
       "      <td>15</td>\n",
       "      <td>91316.0</td>\n",
       "      <td>93430.0</td>\n",
       "      <td>NaT</td>\n",
       "      <td>91316.0</td>\n",
       "    </tr>\n",
       "    <tr>\n",
       "      <th>8709</th>\n",
       "      <td>8750</td>\n",
       "      <td>1052</td>\n",
       "      <td>839</td>\n",
       "      <td>214</td>\n",
       "      <td>31</td>\n",
       "      <td>16</td>\n",
       "      <td>91724.0</td>\n",
       "      <td>NaT</td>\n",
       "      <td>NaT</td>\n",
       "      <td>91724.0</td>\n",
       "    </tr>\n",
       "    <tr>\n",
       "      <th>8710</th>\n",
       "      <td>8751</td>\n",
       "      <td>1052</td>\n",
       "      <td>849</td>\n",
       "      <td>3</td>\n",
       "      <td>6</td>\n",
       "      <td>17</td>\n",
       "      <td>91936.0</td>\n",
       "      <td>NaT</td>\n",
       "      <td>NaT</td>\n",
       "      <td>91936.0</td>\n",
       "    </tr>\n",
       "    <tr>\n",
       "      <th>8711</th>\n",
       "      <td>8752</td>\n",
       "      <td>1052</td>\n",
       "      <td>20</td>\n",
       "      <td>117</td>\n",
       "      <td>5</td>\n",
       "      <td>18</td>\n",
       "      <td>92056.0</td>\n",
       "      <td>NaT</td>\n",
       "      <td>NaT</td>\n",
       "      <td>92056.0</td>\n",
       "    </tr>\n",
       "    <tr>\n",
       "      <th>8712</th>\n",
       "      <td>8753</td>\n",
       "      <td>1052</td>\n",
       "      <td>854</td>\n",
       "      <td>210</td>\n",
       "      <td>47</td>\n",
       "      <td>19</td>\n",
       "      <td>92449.0</td>\n",
       "      <td>NaT</td>\n",
       "      <td>NaT</td>\n",
       "      <td>92449.0</td>\n",
       "    </tr>\n",
       "    <tr>\n",
       "      <th>8713</th>\n",
       "      <td>8754</td>\n",
       "      <td>1052</td>\n",
       "      <td>853</td>\n",
       "      <td>210</td>\n",
       "      <td>9</td>\n",
       "      <td>20</td>\n",
       "      <td>93273.0</td>\n",
       "      <td>NaT</td>\n",
       "      <td>NaT</td>\n",
       "      <td>93273.0</td>\n",
       "    </tr>\n",
       "  </tbody>\n",
       "</table>\n",
       "</div>"
      ],
      "text/plain": [
       "      qualifyId  raceId  driverId  constructorId  number  position       q1  \\\n",
       "8694       8735    1052       830              9      33         1  90499.0   \n",
       "8695       8736    1052         1            131      44         2  90617.0   \n",
       "8696       8737    1052       822            131      77         3  91200.0   \n",
       "8697       8738    1052       844              6      16         4  90691.0   \n",
       "8698       8739    1052       842            213      10         5  90848.0   \n",
       "8699       8740    1052       817              1       3         6  90795.0   \n",
       "8700       8741    1052       846              1       4         7  90902.0   \n",
       "8701       8742    1052       832              6      55         8  91653.0   \n",
       "8702       8743    1052         4            214      14         9  90863.0   \n",
       "8703       8744    1052       840            117      18        10  91261.0   \n",
       "8704       8745    1052       815              9      11        11  91165.0   \n",
       "8705       8746    1052       841             51      99        12  90998.0   \n",
       "8706       8747    1052       852            213      22        13  90607.0   \n",
       "8707       8748    1052         8             51       7        14  91547.0   \n",
       "8708       8749    1052       847              3      63        15  91316.0   \n",
       "8709       8750    1052       839            214      31        16  91724.0   \n",
       "8710       8751    1052       849              3       6        17  91936.0   \n",
       "8711       8752    1052        20            117       5        18  92056.0   \n",
       "8712       8753    1052       854            210      47        19  92449.0   \n",
       "8713       8754    1052       853            210       9        20  93273.0   \n",
       "\n",
       "           q2       q3  bestLap  \n",
       "8694  90318.0  88997.0  88997.0  \n",
       "8695  90085.0  89385.0  89385.0  \n",
       "8696  90186.0  89586.0  89586.0  \n",
       "8697  90010.0  89678.0  89678.0  \n",
       "8698  90513.0  89809.0  89809.0  \n",
       "8699  90222.0  89927.0  89927.0  \n",
       "8700  90099.0  89974.0  89974.0  \n",
       "8701  90009.0  90215.0  90009.0  \n",
       "8702  90595.0  90249.0  90249.0  \n",
       "8703  90624.0  90601.0  90601.0  \n",
       "8704  90659.0      NaT  90659.0  \n",
       "8705  90708.0      NaT  90708.0  \n",
       "8706  91203.0      NaT  90607.0  \n",
       "8707  91238.0      NaT  91238.0  \n",
       "8708  93430.0      NaT  91316.0  \n",
       "8709      NaT      NaT  91724.0  \n",
       "8710      NaT      NaT  91936.0  \n",
       "8711      NaT      NaT  92056.0  \n",
       "8712      NaT      NaT  92449.0  \n",
       "8713      NaT      NaT  93273.0  "
      ]
     },
     "execution_count": 18,
     "metadata": {},
     "output_type": "execute_result"
    }
   ],
   "source": [
    "qualifying.loc[qualifying['raceId'] == 1052]"
   ]
  },
  {
   "cell_type": "markdown",
   "metadata": {},
   "source": [
    "**Calculate percent diference between drivers qualifying time and best time**"
   ]
  },
  {
   "cell_type": "code",
   "execution_count": 19,
   "metadata": {},
   "outputs": [],
   "source": [
    "quali_aux = pd.merge(df[['raceId','driverId']], qualifying[['bestLap','raceId','driverId']], on = ['raceId','driverId'], how = 'left')\n",
    "quali_aux_best = quali_aux.groupby(['raceId'], as_index=False)['bestLap'].min()\n",
    "df = df.merge(quali_aux, on = ['raceId','driverId'], how = 'left')\n",
    "df = df.merge(quali_aux_best, on = ['raceId'], how = 'left')\n",
    "df['percentageOfBestQuali'] = (df['bestLap_x'] / df['bestLap_y'])*100\n",
    "df = df.drop(columns=['bestLap_x', 'bestLap_y'])"
   ]
  },
  {
   "cell_type": "code",
   "execution_count": 20,
   "metadata": {},
   "outputs": [
    {
     "data": {
      "text/html": [
       "<div>\n",
       "<style scoped>\n",
       "    .dataframe tbody tr th:only-of-type {\n",
       "        vertical-align: middle;\n",
       "    }\n",
       "\n",
       "    .dataframe tbody tr th {\n",
       "        vertical-align: top;\n",
       "    }\n",
       "\n",
       "    .dataframe thead th {\n",
       "        text-align: right;\n",
       "    }\n",
       "</style>\n",
       "<table border=\"1\" class=\"dataframe\">\n",
       "  <thead>\n",
       "    <tr style=\"text-align: right;\">\n",
       "      <th></th>\n",
       "      <th>raceId</th>\n",
       "      <th>driverId</th>\n",
       "      <th>bestLap</th>\n",
       "    </tr>\n",
       "  </thead>\n",
       "  <tbody>\n",
       "    <tr>\n",
       "      <th>266</th>\n",
       "      <td>1052</td>\n",
       "      <td>1</td>\n",
       "      <td>89385.0</td>\n",
       "    </tr>\n",
       "    <tr>\n",
       "      <th>992</th>\n",
       "      <td>1052</td>\n",
       "      <td>4</td>\n",
       "      <td>90249.0</td>\n",
       "    </tr>\n",
       "    <tr>\n",
       "      <th>1521</th>\n",
       "      <td>1052</td>\n",
       "      <td>8</td>\n",
       "      <td>91238.0</td>\n",
       "    </tr>\n",
       "    <tr>\n",
       "      <th>3564</th>\n",
       "      <td>1052</td>\n",
       "      <td>20</td>\n",
       "      <td>92056.0</td>\n",
       "    </tr>\n",
       "    <tr>\n",
       "      <th>23196</th>\n",
       "      <td>1052</td>\n",
       "      <td>815</td>\n",
       "      <td>90659.0</td>\n",
       "    </tr>\n",
       "    <tr>\n",
       "      <th>23406</th>\n",
       "      <td>1052</td>\n",
       "      <td>817</td>\n",
       "      <td>89927.0</td>\n",
       "    </tr>\n",
       "    <tr>\n",
       "      <th>23741</th>\n",
       "      <td>1052</td>\n",
       "      <td>822</td>\n",
       "      <td>89586.0</td>\n",
       "    </tr>\n",
       "    <tr>\n",
       "      <th>24359</th>\n",
       "      <td>1052</td>\n",
       "      <td>832</td>\n",
       "      <td>90009.0</td>\n",
       "    </tr>\n",
       "    <tr>\n",
       "      <th>24500</th>\n",
       "      <td>1052</td>\n",
       "      <td>830</td>\n",
       "      <td>88997.0</td>\n",
       "    </tr>\n",
       "    <tr>\n",
       "      <th>24737</th>\n",
       "      <td>1052</td>\n",
       "      <td>839</td>\n",
       "      <td>91724.0</td>\n",
       "    </tr>\n",
       "    <tr>\n",
       "      <th>24799</th>\n",
       "      <td>1052</td>\n",
       "      <td>841</td>\n",
       "      <td>90708.0</td>\n",
       "    </tr>\n",
       "    <tr>\n",
       "      <th>24899</th>\n",
       "      <td>1052</td>\n",
       "      <td>840</td>\n",
       "      <td>90601.0</td>\n",
       "    </tr>\n",
       "    <tr>\n",
       "      <th>24985</th>\n",
       "      <td>1052</td>\n",
       "      <td>842</td>\n",
       "      <td>89809.0</td>\n",
       "    </tr>\n",
       "    <tr>\n",
       "      <th>25091</th>\n",
       "      <td>1052</td>\n",
       "      <td>844</td>\n",
       "      <td>89678.0</td>\n",
       "    </tr>\n",
       "    <tr>\n",
       "      <th>25172</th>\n",
       "      <td>1052</td>\n",
       "      <td>846</td>\n",
       "      <td>89974.0</td>\n",
       "    </tr>\n",
       "    <tr>\n",
       "      <th>25270</th>\n",
       "      <td>1052</td>\n",
       "      <td>847</td>\n",
       "      <td>91316.0</td>\n",
       "    </tr>\n",
       "    <tr>\n",
       "      <th>25309</th>\n",
       "      <td>1052</td>\n",
       "      <td>849</td>\n",
       "      <td>91936.0</td>\n",
       "    </tr>\n",
       "    <tr>\n",
       "      <th>25334</th>\n",
       "      <td>1052</td>\n",
       "      <td>852</td>\n",
       "      <td>90607.0</td>\n",
       "    </tr>\n",
       "    <tr>\n",
       "      <th>25356</th>\n",
       "      <td>1052</td>\n",
       "      <td>854</td>\n",
       "      <td>92449.0</td>\n",
       "    </tr>\n",
       "    <tr>\n",
       "      <th>25378</th>\n",
       "      <td>1052</td>\n",
       "      <td>853</td>\n",
       "      <td>93273.0</td>\n",
       "    </tr>\n",
       "  </tbody>\n",
       "</table>\n",
       "</div>"
      ],
      "text/plain": [
       "       raceId  driverId  bestLap\n",
       "266      1052         1  89385.0\n",
       "992      1052         4  90249.0\n",
       "1521     1052         8  91238.0\n",
       "3564     1052        20  92056.0\n",
       "23196    1052       815  90659.0\n",
       "23406    1052       817  89927.0\n",
       "23741    1052       822  89586.0\n",
       "24359    1052       832  90009.0\n",
       "24500    1052       830  88997.0\n",
       "24737    1052       839  91724.0\n",
       "24799    1052       841  90708.0\n",
       "24899    1052       840  90601.0\n",
       "24985    1052       842  89809.0\n",
       "25091    1052       844  89678.0\n",
       "25172    1052       846  89974.0\n",
       "25270    1052       847  91316.0\n",
       "25309    1052       849  91936.0\n",
       "25334    1052       852  90607.0\n",
       "25356    1052       854  92449.0\n",
       "25378    1052       853  93273.0"
      ]
     },
     "execution_count": 20,
     "metadata": {},
     "output_type": "execute_result"
    }
   ],
   "source": [
    "quali_aux.loc[quali_aux['raceId'] == 1052]"
   ]
  },
  {
   "cell_type": "markdown",
   "metadata": {},
   "source": [
    "**Save final dataframe**"
   ]
  },
  {
   "cell_type": "code",
   "execution_count": 21,
   "metadata": {},
   "outputs": [],
   "source": [
    "df.to_csv('../data/processed/0.1-initial-exploration.csv')"
   ]
  },
  {
   "cell_type": "code",
   "execution_count": 22,
   "metadata": {},
   "outputs": [
    {
     "data": {
      "text/plain": [
       "array(['Australian Grand Prix', 'Malaysian Grand Prix',\n",
       "       'Chinese Grand Prix', 'Bahrain Grand Prix', 'Spanish Grand Prix',\n",
       "       'Monaco Grand Prix', 'Turkish Grand Prix', 'British Grand Prix',\n",
       "       'German Grand Prix', 'Hungarian Grand Prix', 'European Grand Prix',\n",
       "       'Belgian Grand Prix', 'Italian Grand Prix', 'Singapore Grand Prix',\n",
       "       'Japanese Grand Prix', 'Brazilian Grand Prix',\n",
       "       'Abu Dhabi Grand Prix', 'Canadian Grand Prix', 'French Grand Prix',\n",
       "       'United States Grand Prix', 'San Marino Grand Prix',\n",
       "       'Austrian Grand Prix', 'Argentine Grand Prix',\n",
       "       'Luxembourg Grand Prix', 'Portuguese Grand Prix',\n",
       "       'Pacific Grand Prix', 'South African Grand Prix',\n",
       "       'Mexican Grand Prix', 'Korean Grand Prix', 'Detroit Grand Prix',\n",
       "       'Dutch Grand Prix', 'Dallas Grand Prix',\n",
       "       'United States Grand Prix West', 'Swiss Grand Prix',\n",
       "       'Caesars Palace Grand Prix', 'Swedish Grand Prix',\n",
       "       'Indianapolis 500', 'Moroccan Grand Prix', 'Pescara Grand Prix',\n",
       "       'Indian Grand Prix', 'Russian Grand Prix', 'Azerbaijan Grand Prix',\n",
       "       'Styrian Grand Prix', '70th Anniversary Grand Prix',\n",
       "       'Tuscan Grand Prix', 'Eifel Grand Prix',\n",
       "       'Emilia Romagna Grand Prix', 'Sakhir Grand Prix',\n",
       "       'Qatar Grand Prix', 'Mexico City Grand Prix',\n",
       "       'São Paulo Grand Prix', 'Saudi Arabian Grand Prix'], dtype=object)"
      ]
     },
     "execution_count": 22,
     "metadata": {},
     "output_type": "execute_result"
    }
   ],
   "source": [
    "races['name'].unique()"
   ]
  },
  {
   "cell_type": "code",
   "execution_count": 23,
   "metadata": {},
   "outputs": [
    {
     "data": {
      "text/plain": [
       "array(['British', 'German', 'Spanish', 'Finnish', 'Japanese', 'French',\n",
       "       'Polish', 'Brazilian', 'Italian', 'Australian', 'Austrian',\n",
       "       'American', 'Dutch', 'Colombian', 'Portuguese', 'Canadian',\n",
       "       'Indian', 'Hungarian', 'Irish', 'Danish', 'Argentine', 'Czech',\n",
       "       'Malaysian', 'Swiss', 'Belgian', 'Monegasque', 'Swedish',\n",
       "       'Venezuelan', 'New Zealander', 'Chilean', 'Mexican',\n",
       "       'South African', 'Liechtensteiner', 'Rhodesian',\n",
       "       'American-Italian', 'Uruguayan', 'Argentine-Italian', 'Thai',\n",
       "       'East German', 'Russian', 'Indonesian'], dtype=object)"
      ]
     },
     "execution_count": 23,
     "metadata": {},
     "output_type": "execute_result"
    }
   ],
   "source": [
    "drivers['nationality'].unique()"
   ]
  },
  {
   "cell_type": "code",
   "execution_count": 24,
   "metadata": {},
   "outputs": [
    {
     "data": {
      "text/plain": [
       "Index(['resultId', 'raceId', 'driverId', 'constructorId', 'gridStart',\n",
       "       'position', 'positionText', 'positionOrder', 'pointsGained', 'laps',\n",
       "       'time_x', 'milliseconds', 'fastestLap', 'rank', 'fastestLapTime',\n",
       "       'fastestLapSpeed', 'statusId', 'driverRef', 'nationality', 'year',\n",
       "       'round', 'circuitId', 'circuitName', 'date', 'ageAtRace', 'dateOfDebut',\n",
       "       'ageAtDebut', 'yearsExperience', 'racingAtHome', 'driverStandingsId',\n",
       "       'driverStandingsPoints', 'driverStandingsPosition',\n",
       "       'driverStandingsWins', 'lastRaceRank', 'constructorStandingsId',\n",
       "       'constructorStandingsPoints', 'constructorStandingsPosition',\n",
       "       'constructorStandingsWins', 'previousRaceGridStart',\n",
       "       'previousRacePosition', 'status', 'racesWon', 'racesRetired',\n",
       "       'racesFinished', 'polePositions', 'racesWonByConstructor',\n",
       "       'racesRetiredByConstructor', 'percentageOfBestQuali'],\n",
       "      dtype='object')"
      ]
     },
     "execution_count": 24,
     "metadata": {},
     "output_type": "execute_result"
    }
   ],
   "source": [
    "df.columns"
   ]
  }
 ],
 "metadata": {
  "interpreter": {
   "hash": "5675cb18eb1443b8369002c5f545df601e18a8d4e2c974b1cb42f0d4601b5184"
  },
  "kernelspec": {
   "display_name": "Python 3.9.7 64-bit ('machine-learning': conda)",
   "language": "python",
   "name": "python3"
  },
  "language_info": {
   "codemirror_mode": {
    "name": "ipython",
    "version": 3
   },
   "file_extension": ".py",
   "mimetype": "text/x-python",
   "name": "python",
   "nbconvert_exporter": "python",
   "pygments_lexer": "ipython3",
   "version": "3.9.7"
  },
  "orig_nbformat": 4
 },
 "nbformat": 4,
 "nbformat_minor": 2
}
