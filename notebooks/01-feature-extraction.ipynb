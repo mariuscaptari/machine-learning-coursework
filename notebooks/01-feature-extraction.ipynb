{
 "cells": [
  {
   "cell_type": "code",
   "execution_count": 1,
   "metadata": {},
   "outputs": [],
   "source": [
    "import pandas as pd\n",
    "from tqdm import tqdm"
   ]
  },
  {
   "cell_type": "markdown",
   "metadata": {},
   "source": [
    "**Import all csvs and store into seppareta dataframes**"
   ]
  },
  {
   "cell_type": "code",
   "execution_count": 2,
   "metadata": {},
   "outputs": [],
   "source": [
    "circuits = pd.read_csv('../data/raw/circuits.csv')\n",
    "constructor_results = pd.read_csv('../data/raw/constructor_results.csv')\n",
    "constructor_standings = pd.read_csv('../data/raw/constructor_standings.csv')\n",
    "constructors = pd.read_csv('../data/raw/constructors.csv')\n",
    "driver_standings = pd.read_csv('../data/raw/driver_standings.csv')\n",
    "drivers = pd.read_csv('../data/raw/drivers.csv', parse_dates=[6])\n",
    "lap_times = pd.read_csv('../data/raw/lap_times.csv')\n",
    "pit_stops = pd.read_csv('../data/raw/pit_stops.csv')\n",
    "qualifying = pd.read_csv('../data/raw/qualifying.csv')\n",
    "races = pd.read_csv('../data/raw/races.csv', parse_dates=[5])\n",
    "results = pd.read_csv('../data/raw/results.csv')\n",
    "seasons = pd.read_csv('../data/raw/seasons.csv')\n",
    "status = pd.read_csv('../data/raw/status.csv')"
   ]
  },
  {
   "cell_type": "markdown",
   "metadata": {},
   "source": [
    "**Merge results with drivers**"
   ]
  },
  {
   "cell_type": "code",
   "execution_count": 3,
   "metadata": {},
   "outputs": [
    {
     "data": {
      "text/plain": [
       "0       1985-01-07\n",
       "1       1985-01-07\n",
       "2       1985-01-07\n",
       "3       1985-01-07\n",
       "4       1985-01-07\n",
       "           ...    \n",
       "25355   1999-03-02\n",
       "25356   1999-03-02\n",
       "25357   1999-03-02\n",
       "25358   1999-03-02\n",
       "25359   1999-03-02\n",
       "Name: dob, Length: 25360, dtype: datetime64[ns]"
      ]
     },
     "execution_count": 3,
     "metadata": {},
     "output_type": "execute_result"
    }
   ],
   "source": [
    "result_with_dob = results.merge(drivers, left_on='driverId', right_on='driverId')\n",
    "results_with_dob_date = result_with_dob.merge(races, on = 'raceId', how = 'left')\n",
    "pd.to_datetime(results_with_dob_date['date'])\n",
    "pd.to_datetime(results_with_dob_date['dob'])"
   ]
  },
  {
   "cell_type": "markdown",
   "metadata": {},
   "source": [
    "**Calculate age at race in days (timedelta)**"
   ]
  },
  {
   "cell_type": "code",
   "execution_count": 4,
   "metadata": {},
   "outputs": [],
   "source": [
    "results_with_dob_date['ageAtRace'] = results_with_dob_date['date'] - results_with_dob_date['dob']"
   ]
  },
  {
   "cell_type": "markdown",
   "metadata": {},
   "source": [
    "**Calculate how many days in f1 in days (timedelta)**"
   ]
  },
  {
   "cell_type": "code",
   "execution_count": 5,
   "metadata": {},
   "outputs": [],
   "source": [
    "\n",
    "date_of_debut = results_with_dob_date.groupby('driverId')['date'].min().to_frame()\n",
    "date_of_debut = date_of_debut.merge(drivers, on = 'driverId', how = 'left').rename(columns={'date':'date_of_debut'})\n",
    "date_of_debut = date_of_debut[['driverId','date_of_debut']]\n",
    "date_of_debut['date_of_debut']\n",
    "df = results_with_dob_date.merge(date_of_debut, on = 'driverId', how = 'left')\n",
    "df['ageAtDebut'] = df['date_of_debut'] - df['dob']\n",
    "df['yearsExperience'] = df['date'] - df['date_of_debut']"
   ]
  },
  {
   "cell_type": "markdown",
   "metadata": {},
   "source": [
    "**Drop and rename columns**"
   ]
  },
  {
   "cell_type": "code",
   "execution_count": 6,
   "metadata": {},
   "outputs": [],
   "source": [
    "df = df.drop(columns=['number_y', 'number_x', 'code', 'forename', 'surname', 'dob', 'url_x', 'time_y', 'url_y'])\n",
    "df = df.rename(columns={\"grid\": \"gridStart\", \"name\": \"circuitName\", \"date_of_debut\" : \"dateOfDebut\", \"points\": \"pointsGained\"})"
   ]
  },
  {
   "cell_type": "markdown",
   "metadata": {},
   "source": [
    "**Add is racing in home country feature**"
   ]
  },
  {
   "cell_type": "code",
   "execution_count": 7,
   "metadata": {},
   "outputs": [],
   "source": [
    "df['racingAtHome'] = df.apply(lambda row: row.nationality in row.circuitName, axis=1)"
   ]
  },
  {
   "cell_type": "markdown",
   "metadata": {},
   "source": [
    "**Convert ages from days to years**"
   ]
  },
  {
   "cell_type": "code",
   "execution_count": 8,
   "metadata": {},
   "outputs": [],
   "source": [
    "df['ageAtRace'] = df.apply(lambda row: int(row.ageAtRace / pd.Timedelta('365 days')), axis=1)\n",
    "df['ageAtDebut'] = df.apply(lambda row: int(row.ageAtDebut / pd.Timedelta('365 days')), axis=1)\n",
    "df['yearsExperience'] = df.apply(lambda row: int(row.yearsExperience / pd.Timedelta('365 days')), axis=1)"
   ]
  },
  {
   "cell_type": "markdown",
   "metadata": {},
   "source": [
    "**Merge with driver standings**"
   ]
  },
  {
   "cell_type": "code",
   "execution_count": 9,
   "metadata": {},
   "outputs": [],
   "source": [
    "driver_standings = driver_standings.rename(columns={\"points\": \"driverStandingsPoints\", \"position\": \"driverStandingsPosition\", \"wins\" : \"driverStandingsWins\"})\n",
    "driver_standings = driver_standings.drop(columns=['positionText'])\n",
    "df = df.merge(driver_standings, on = ['raceId','driverId'], how = 'left')"
   ]
  },
  {
   "cell_type": "markdown",
   "metadata": {},
   "source": [
    "**Get driver standings information before race**"
   ]
  },
  {
   "cell_type": "code",
   "execution_count": 10,
   "metadata": {},
   "outputs": [],
   "source": [
    "df['driverStandingsPoints'] = df.groupby(['year','driverId'])['driverStandingsPoints'].shift(fill_value=0)\n",
    "df['driverStandingsPosition'] = df.groupby(['year','driverId'])['driverStandingsPosition'].shift(fill_value=0)\n",
    "df['driverStandingsWins'] = df.groupby(['year','driverId'])['driverStandingsWins'].shift(fill_value=0)\n",
    "df['lastRaceRank'] = df.groupby(['year','driverId'])['rank'].shift()"
   ]
  },
  {
   "cell_type": "markdown",
   "metadata": {},
   "source": [
    "**Merge with constructor standings**"
   ]
  },
  {
   "cell_type": "code",
   "execution_count": 11,
   "metadata": {},
   "outputs": [],
   "source": [
    "constructor_standings = constructor_standings.rename(columns={\"points\": \"constructorStandingsPoints\", \"position\": \"constructorStandingsPosition\", \"wins\" : \"constructorStandingsWins\"})\n",
    "constructor_standings = constructor_standings.drop(columns=['positionText'])\n",
    "df = df.merge(constructor_standings, on = ['raceId','constructorId'], how = 'left')"
   ]
  },
  {
   "cell_type": "markdown",
   "metadata": {},
   "source": [
    "**Get constructor standings information before race**"
   ]
  },
  {
   "cell_type": "code",
   "execution_count": 12,
   "metadata": {},
   "outputs": [],
   "source": [
    "df['constructorStandingsPoints'] = df.groupby(['year','driverId'])['constructorStandingsPoints'].shift(fill_value=0)\n",
    "df['constructorStandingsPosition'] = df.groupby(['year','driverId'])['constructorStandingsPosition'].shift(fill_value=0)\n",
    "df['constructorStandingsWins'] = df.groupby(['year','driverId'])['constructorStandingsWins'].shift(fill_value=0)"
   ]
  },
  {
   "cell_type": "markdown",
   "metadata": {},
   "source": [
    "**Get previous race grid and final race positions**"
   ]
  },
  {
   "cell_type": "code",
   "execution_count": 13,
   "metadata": {},
   "outputs": [],
   "source": [
    "df['previousRaceGridStart'] = df.groupby(['year','driverId'])['gridStart'].shift()\n",
    "df['previousRacePosition'] = df.groupby(['year','driverId'])['positionOrder'].shift()"
   ]
  },
  {
   "cell_type": "markdown",
   "metadata": {},
   "source": [
    "**Add status for each row**"
   ]
  },
  {
   "cell_type": "code",
   "execution_count": 14,
   "metadata": {},
   "outputs": [],
   "source": [
    "df = df.merge(status, on = ['statusId'], how = 'left')"
   ]
  },
  {
   "cell_type": "markdown",
   "metadata": {},
   "source": [
    "**Get all historic features up until current row date**"
   ]
  },
  {
   "cell_type": "code",
   "execution_count": 15,
   "metadata": {},
   "outputs": [
    {
     "name": "stderr",
     "output_type": "stream",
     "text": [
      "100%|██████████| 1055/1055 [03:17<00:00,  5.35it/s]\n"
     ]
    }
   ],
   "source": [
    "for date in tqdm(df.date.unique()):\n",
    "    #Races won by driver\n",
    "    races_won_by_driver = df[df.date < date].groupby('driverId')['positionText'].apply(lambda x: (x=='1').sum()).reset_index(name='racesWon')\n",
    "    races_won_by_driver['date'] = date\n",
    "    dfaux = df[df['date'] == date].copy()\n",
    "    dfaux['racesWon'] = 'to_delete'\n",
    "    dfaux = dfaux.drop('racesWon', axis = 1)\n",
    "    df.loc[df['date'] == date, 'racesWon'] = dfaux.merge(races_won_by_driver, on=['date','driverId'], how='left')['racesWon'].values\n",
    "    \n",
    "    #Number of races retired\n",
    "    races_retired_by_driver = df[df.date < date].groupby('driverId')['positionText'].apply(lambda x: (x=='R').sum()).reset_index(name='racesRetired')\n",
    "    races_retired_by_driver['date'] = date\n",
    "    dfaux = df[df['date'] == date].copy()\n",
    "    dfaux['racesRetired'] = 'to_delete'\n",
    "    dfaux = dfaux.drop('racesRetired', axis = 1)\n",
    "    df.loc[df['date'] == date, 'racesRetired'] = dfaux.merge(races_retired_by_driver, on=['date','driverId'], how='left')['racesRetired'].values\n",
    "\n",
    "    #Number of races finished\n",
    "    races_finished_by_driver = df[df.date < date].groupby('driverId')['status'].apply(lambda x: ((x=='Finished') | (\"+\" in x)).sum()).reset_index(name='racesFinished')\n",
    "    races_finished_by_driver['date'] = date\n",
    "    dfaux = df[df['date'] == date].copy()\n",
    "    dfaux['racesFinished'] = 'to_delete'\n",
    "    dfaux = dfaux.drop('racesFinished', axis = 1)\n",
    "    df.loc[df['date'] == date, 'racesFinished'] = dfaux.merge(races_finished_by_driver, on=['date','driverId'], how='left')['racesFinished'].values\n",
    "\n",
    "    #Number of pole positions\n",
    "    pole_positions_by_driver = df[df.date < date].groupby('driverId')['gridStart'].apply(lambda x: (x==1).sum()).reset_index(name='polePositions')\n",
    "    pole_positions_by_driver['date'] = date\n",
    "    dfaux = df[df['date'] == date].copy()\n",
    "    dfaux['polePositions'] = 'to_delete'\n",
    "    dfaux = dfaux.drop('polePositions', axis = 1)\n",
    "    df.loc[df['date'] == date, 'polePositions'] = dfaux.merge(pole_positions_by_driver, on=['date','driverId'], how='left')['polePositions'].values\n",
    "\n",
    "    #Constructors races won\n",
    "    races_won_by_constructor = df[df.date < date].groupby('constructorId')['positionText'].apply(lambda x: (x=='1').sum()).reset_index(name='racesWonByConstructor')\n",
    "    races_won_by_constructor['date'] = date\n",
    "    dfaux = df[df['date'] == date].copy()\n",
    "    dfaux['racesWonByConstructor'] = 'to_delete'\n",
    "    dfaux = dfaux.drop('racesWonByConstructor', axis = 1)\n",
    "    df.loc[df['date'] == date, 'racesWonByConstructor'] = dfaux.merge(races_won_by_constructor, on=['date','constructorId'], how='left')['racesWonByConstructor'].values\n",
    "\n",
    "    #Constructor times retired\n",
    "    races_retired_by_constructor = df[df.date < date].groupby('constructorId')['positionText'].apply(lambda x: (x=='R').sum()).reset_index(name='racesRetiredByConstructor')\n",
    "    races_retired_by_constructor['date'] = date\n",
    "    dfaux = df[df['date'] == date].copy()\n",
    "    dfaux['racesRetiredByConstructor'] = 'to_delete'\n",
    "    dfaux = dfaux.drop('racesRetiredByConstructor', axis = 1)\n",
    "    df.loc[df['date'] == date, 'racesRetiredByConstructor'] = dfaux.merge(races_retired_by_constructor, on=['date','constructorId'], how='left')['racesRetiredByConstructor'].values"
   ]
  },
  {
   "cell_type": "markdown",
   "metadata": {},
   "source": [
    "**Format qualifying times**"
   ]
  },
  {
   "cell_type": "code",
   "execution_count": 16,
   "metadata": {},
   "outputs": [],
   "source": [
    "qualifying['q1'] = qualifying['q1'].str.replace('.',':')\n",
    "qualifying['q2'] = qualifying['q2'].str.replace('.',':')\n",
    "qualifying['q3'] = qualifying['q3'].str.replace('.',':')\n",
    "qualifying[['q1', 'q2', 'q3']] = qualifying[['q1', 'q2', 'q3']].applymap(lambda x: pd.to_timedelta(x, errors='coerce'))\n",
    "qualifying['bestLap'] = qualifying[['q1','q2','q3']].min(axis=1)"
   ]
  },
  {
   "cell_type": "markdown",
   "metadata": {},
   "source": [
    "**Calculate percent diference between drivers qualifying time and best time**"
   ]
  },
  {
   "cell_type": "code",
   "execution_count": 17,
   "metadata": {},
   "outputs": [],
   "source": [
    "quali_aux = pd.merge(df[['raceId','driverId']], qualifying[['bestLap','raceId','driverId']], on = ['raceId','driverId'], how = 'left')\n",
    "quali_aux_best = quali_aux.groupby(['raceId'], as_index=False)['bestLap'].min()\n",
    "df = df.merge(quali_aux, on = ['raceId','driverId'], how = 'left')\n",
    "df = df.merge(quali_aux_best, on = ['raceId'], how = 'left')\n",
    "df['percentageOfBestQuali'] = (df['bestLap_x'] / df['bestLap_y'])*100\n",
    "df = df.drop(columns=['bestLap_x', 'bestLap_y'])"
   ]
  },
  {
   "cell_type": "markdown",
   "metadata": {},
   "source": [
    "**Save final dataframe**"
   ]
  },
  {
   "cell_type": "code",
   "execution_count": 18,
   "metadata": {},
   "outputs": [],
   "source": [
    "df.to_csv('../data/processed/0.1-initial-exploration.csv')"
   ]
  },
  {
   "cell_type": "code",
   "execution_count": 19,
   "metadata": {},
   "outputs": [
    {
     "data": {
      "text/plain": [
       "array(['Australian Grand Prix', 'Malaysian Grand Prix',\n",
       "       'Chinese Grand Prix', 'Bahrain Grand Prix', 'Spanish Grand Prix',\n",
       "       'Monaco Grand Prix', 'Turkish Grand Prix', 'British Grand Prix',\n",
       "       'German Grand Prix', 'Hungarian Grand Prix', 'European Grand Prix',\n",
       "       'Belgian Grand Prix', 'Italian Grand Prix', 'Singapore Grand Prix',\n",
       "       'Japanese Grand Prix', 'Brazilian Grand Prix',\n",
       "       'Abu Dhabi Grand Prix', 'Canadian Grand Prix', 'French Grand Prix',\n",
       "       'United States Grand Prix', 'San Marino Grand Prix',\n",
       "       'Austrian Grand Prix', 'Argentine Grand Prix',\n",
       "       'Luxembourg Grand Prix', 'Portuguese Grand Prix',\n",
       "       'Pacific Grand Prix', 'South African Grand Prix',\n",
       "       'Mexican Grand Prix', 'Korean Grand Prix', 'Detroit Grand Prix',\n",
       "       'Dutch Grand Prix', 'Dallas Grand Prix',\n",
       "       'United States Grand Prix West', 'Swiss Grand Prix',\n",
       "       'Caesars Palace Grand Prix', 'Swedish Grand Prix',\n",
       "       'Indianapolis 500', 'Moroccan Grand Prix', 'Pescara Grand Prix',\n",
       "       'Indian Grand Prix', 'Russian Grand Prix', 'Azerbaijan Grand Prix',\n",
       "       'Styrian Grand Prix', '70th Anniversary Grand Prix',\n",
       "       'Tuscan Grand Prix', 'Eifel Grand Prix',\n",
       "       'Emilia Romagna Grand Prix', 'Sakhir Grand Prix',\n",
       "       'Qatar Grand Prix', 'Mexico City Grand Prix',\n",
       "       'São Paulo Grand Prix', 'Saudi Arabian Grand Prix'], dtype=object)"
      ]
     },
     "execution_count": 19,
     "metadata": {},
     "output_type": "execute_result"
    }
   ],
   "source": [
    "races['name'].unique()"
   ]
  },
  {
   "cell_type": "code",
   "execution_count": 20,
   "metadata": {},
   "outputs": [
    {
     "data": {
      "text/plain": [
       "array(['British', 'German', 'Spanish', 'Finnish', 'Japanese', 'French',\n",
       "       'Polish', 'Brazilian', 'Italian', 'Australian', 'Austrian',\n",
       "       'American', 'Dutch', 'Colombian', 'Portuguese', 'Canadian',\n",
       "       'Indian', 'Hungarian', 'Irish', 'Danish', 'Argentine', 'Czech',\n",
       "       'Malaysian', 'Swiss', 'Belgian', 'Monegasque', 'Swedish',\n",
       "       'Venezuelan', 'New Zealander', 'Chilean', 'Mexican',\n",
       "       'South African', 'Liechtensteiner', 'Rhodesian',\n",
       "       'American-Italian', 'Uruguayan', 'Argentine-Italian', 'Thai',\n",
       "       'East German', 'Russian', 'Indonesian'], dtype=object)"
      ]
     },
     "execution_count": 20,
     "metadata": {},
     "output_type": "execute_result"
    }
   ],
   "source": [
    "drivers['nationality'].unique()"
   ]
  },
  {
   "cell_type": "code",
   "execution_count": 21,
   "metadata": {},
   "outputs": [
    {
     "data": {
      "text/plain": [
       "Index(['resultId', 'raceId', 'driverId', 'constructorId', 'gridStart',\n",
       "       'position', 'positionText', 'positionOrder', 'pointsGained', 'laps',\n",
       "       'time_x', 'milliseconds', 'fastestLap', 'rank', 'fastestLapTime',\n",
       "       'fastestLapSpeed', 'statusId', 'driverRef', 'nationality', 'year',\n",
       "       'round', 'circuitId', 'circuitName', 'date', 'ageAtRace', 'dateOfDebut',\n",
       "       'ageAtDebut', 'yearsExperience', 'racingAtHome', 'driverStandingsId',\n",
       "       'driverStandingsPoints', 'driverStandingsPosition',\n",
       "       'driverStandingsWins', 'lastRaceRank', 'constructorStandingsId',\n",
       "       'constructorStandingsPoints', 'constructorStandingsPosition',\n",
       "       'constructorStandingsWins', 'previousRaceGridStart',\n",
       "       'previousRacePosition', 'status', 'racesWon', 'racesRetired',\n",
       "       'racesFinished', 'polePositions', 'racesWonByConstructor',\n",
       "       'racesRetiredByConstructor', 'percentageOfBestQuali'],\n",
       "      dtype='object')"
      ]
     },
     "execution_count": 21,
     "metadata": {},
     "output_type": "execute_result"
    }
   ],
   "source": [
    "df.columns"
   ]
  }
 ],
 "metadata": {
  "interpreter": {
   "hash": "5675cb18eb1443b8369002c5f545df601e18a8d4e2c974b1cb42f0d4601b5184"
  },
  "kernelspec": {
   "display_name": "Python 3.9.7 64-bit ('machine-learning': conda)",
   "language": "python",
   "name": "python3"
  },
  "language_info": {
   "codemirror_mode": {
    "name": "ipython",
    "version": 3
   },
   "file_extension": ".py",
   "mimetype": "text/x-python",
   "name": "python",
   "nbconvert_exporter": "python",
   "pygments_lexer": "ipython3",
   "version": "3.9.7"
  },
  "orig_nbformat": 4
 },
 "nbformat": 4,
 "nbformat_minor": 2
}
