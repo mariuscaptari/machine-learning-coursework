{
 "cells": [
  {
   "cell_type": "code",
   "execution_count": 1,
   "id": "83b29dc8",
   "metadata": {},
   "outputs": [],
   "source": [
    "import pandas as pd\n",
    "import numpy as np\n",
    "from matplotlib import pyplot\n",
    "from sklearn.linear_model import Ridge\n",
    "from sklearn.model_selection import cross_val_score\n",
    "from sklearn.model_selection import RepeatedKFold"
   ]
  },
  {
   "cell_type": "code",
   "execution_count": 2,
   "id": "595a831b",
   "metadata": {},
   "outputs": [],
   "source": [
    "df_all = pd.read_csv('../data/processed/0.1-initial-exploration.csv',index_col=False)\n",
    "df_date_filtered = df_all[df_all['year'] > 2005]\n",
    "df = df_date_filtered[['gridStart','year','round','positionOrder']]"
   ]
  },
  {
   "cell_type": "code",
   "execution_count": 3,
   "id": "0351c56e",
   "metadata": {},
   "outputs": [],
   "source": [
    "model = Ridge(alpha=1.0)"
   ]
  },
  {
   "cell_type": "code",
   "execution_count": 4,
   "id": "c12d089a",
   "metadata": {},
   "outputs": [],
   "source": [
    "cv = RepeatedKFold(n_splits=10, n_repeats=3, random_state=1)"
   ]
  },
  {
   "cell_type": "code",
   "execution_count": 6,
   "id": "a64699b3",
   "metadata": {},
   "outputs": [],
   "source": [
    "#X=df[(df['year'] <= 2021) & (df['round']<19)]\n",
    "#y=df[(df['year'] == 2021) & (df['round']==19)]"
   ]
  },
  {
   "cell_type": "code",
   "execution_count": 8,
   "id": "0285555a",
   "metadata": {},
   "outputs": [],
   "source": [
    "data = df.values\n",
    "X, y = data[:, :-1], data[:, -1]"
   ]
  },
  {
   "cell_type": "code",
   "execution_count": null,
   "id": "b5ec360a",
   "metadata": {},
   "outputs": [],
   "source": [
    "reg = LinearRegression().fit(df_train.iloc[:,:-3], df_train.iloc[:,-1:])"
   ]
  },
  {
   "cell_type": "code",
   "execution_count": 9,
   "id": "1e5fe6f6",
   "metadata": {},
   "outputs": [],
   "source": [
    "scores = cross_val_score(model, X, y, scoring='neg_mean_absolute_error', cv=cv, n_jobs=-1)"
   ]
  },
  {
   "cell_type": "code",
   "execution_count": 12,
   "id": "759aeda5",
   "metadata": {},
   "outputs": [
    {
     "name": "stdout",
     "output_type": "stream",
     "text": [
      "Mean MAE: 3.963 (0.109)\n"
     ]
    }
   ],
   "source": [
    "scores = np.absolute(scores)\n",
    "print('Mean MAE: %.3f (%.3f)' % (np.mean(scores), np.std(scores)))"
   ]
  },
  {
   "cell_type": "code",
   "execution_count": null,
   "id": "5827af4c",
   "metadata": {},
   "outputs": [],
   "source": []
  }
 ],
 "metadata": {
  "kernelspec": {
   "display_name": "Python 3 (ipykernel)",
   "language": "python",
   "name": "python3"
  },
  "language_info": {
   "codemirror_mode": {
    "name": "ipython",
    "version": 3
   },
   "file_extension": ".py",
   "mimetype": "text/x-python",
   "name": "python",
   "nbconvert_exporter": "python",
   "pygments_lexer": "ipython3",
   "version": "3.9.7"
  }
 },
 "nbformat": 4,
 "nbformat_minor": 5
}
