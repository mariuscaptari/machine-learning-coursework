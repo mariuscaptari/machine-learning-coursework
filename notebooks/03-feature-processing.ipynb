{
 "cells": [
  {
   "cell_type": "code",
   "execution_count": 1,
   "metadata": {},
   "outputs": [],
   "source": [
    "import pandas as pd\n",
    "import numpy as np"
   ]
  },
  {
   "cell_type": "code",
   "execution_count": 2,
   "metadata": {},
   "outputs": [],
   "source": [
    "df = pd.read_csv('../data/processed/0.1-initial-exploration.csv',index_col=False)\n",
    "df = df.loc[:, ~df.columns.str.contains('^Unnamed')]\n",
    "\n",
    "df.loc[:,'positionOrder'] = pd.to_numeric(df.loc[:, 'positionOrder'], errors='coerce')\n",
    "df.loc[:,'ageAtRace'] = pd.to_numeric(df.loc[:, 'ageAtRace'], errors='coerce')\n",
    "df.loc[:,'ageAtDebut'] = pd.to_numeric(df.loc[:, 'ageAtDebut'], errors='coerce')\n",
    "df.loc[:,'yearsExperience'] = pd.to_numeric(df.loc[:, 'yearsExperience'], errors='coerce')"
   ]
  },
  {
   "cell_type": "markdown",
   "metadata": {},
   "source": [
    "**Sort by year and round**"
   ]
  },
  {
   "cell_type": "code",
   "execution_count": 3,
   "metadata": {},
   "outputs": [],
   "source": [
    "df = df.sort_values(by=['year','round'])"
   ]
  },
  {
   "cell_type": "code",
   "execution_count": 4,
   "metadata": {},
   "outputs": [],
   "source": [
    "df['finished'] = df['position'] != '\\\\N'"
   ]
  },
  {
   "cell_type": "markdown",
   "metadata": {},
   "source": [
    "**Carry forward last Driver Standings statistics**"
   ]
  },
  {
   "cell_type": "code",
   "execution_count": 5,
   "metadata": {},
   "outputs": [],
   "source": [
    "df['driverStandingsPoints'] = df.groupby(['driverId'])['driverStandingsPoints'].transform(lambda x: x.ffill())\n",
    "df['driverStandingsPosition'] = df.groupby(['driverId'])['driverStandingsPosition'].transform(lambda x: x.ffill())\n",
    "df['driverStandingsWins'] = df.groupby(['driverId'])['driverStandingsWins'].transform(lambda x: x.ffill())"
   ]
  },
  {
   "cell_type": "markdown",
   "metadata": {},
   "source": [
    "**Carry forward last Constructor Standings statistics**"
   ]
  },
  {
   "cell_type": "code",
   "execution_count": 6,
   "metadata": {},
   "outputs": [],
   "source": [
    "df['constructorStandingsPoints'] = df.groupby(['constructorId'])['constructorStandingsPoints'].transform(lambda x: x.ffill())\n",
    "df['constructorStandingsPosition'] = df.groupby(['constructorId'])['constructorStandingsPosition'].transform(lambda x: x.ffill())\n",
    "df['constructorStandingsWins'] = df.groupby(['constructorId'])['constructorStandingsWins'].transform(lambda x: x.ffill())"
   ]
  },
  {
   "cell_type": "markdown",
   "metadata": {},
   "source": [
    "**Drop unwanted columns**"
   ]
  },
  {
   "cell_type": "code",
   "execution_count": 7,
   "metadata": {},
   "outputs": [
    {
     "name": "stderr",
     "output_type": "stream",
     "text": [
      "/var/folders/ww/g01k38ln5rx5dm_b_qtwpdkc0000gn/T/ipykernel_12777/4097412004.py:1: FutureWarning: In a future version of pandas all arguments of DataFrame.drop except for the argument 'labels' will be keyword-only\n",
      "  df = df.drop(['resultId','raceId','rank','driverStandingsId','constructorStandingsId','position','positionText','pointsGained',\n"
     ]
    }
   ],
   "source": [
    "df = df.drop(['resultId','raceId','rank','driverStandingsId','constructorStandingsId','position','positionText','pointsGained',\n",
    "'laps','nationality','time_x','milliseconds','fastestLapSpeed','fastestLapTime','fastestLap','statusId'\n",
    ",'circuitName','dateOfDebut','status','driverStandingsId','driverStandingsPoints','constructorStandingsPoints'], 1)"
   ]
  },
  {
   "cell_type": "markdown",
   "metadata": {},
   "source": [
    "**Columns with null values**"
   ]
  },
  {
   "cell_type": "code",
   "execution_count": 8,
   "metadata": {},
   "outputs": [
    {
     "name": "stdout",
     "output_type": "stream",
     "text": [
      "Columns with null values:\n",
      " ['lastRaceRank', 'constructorStandingsPosition', 'constructorStandingsWins', 'previousRaceGridStart', 'previousRacePosition', 'racesWon', 'racesRetired', 'racesFinished', 'polePositions', 'racesWonByConstructor', 'racesRetiredByConstructor', 'percentageOfBestQuali']\n"
     ]
    }
   ],
   "source": [
    "print('Columns with null values:\\n', df.columns[df.isna().any()].tolist())"
   ]
  },
  {
   "cell_type": "markdown",
   "metadata": {},
   "source": [
    "**Replace Nans with 0 or -1 depending on the column**"
   ]
  },
  {
   "cell_type": "code",
   "execution_count": 9,
   "metadata": {},
   "outputs": [],
   "source": [
    "df[['racesWon','racesRetired','racesFinished','polePositions','racesWonByConstructor','racesRetiredByConstructor']] = df[['racesWon','racesRetired','racesFinished','polePositions','racesWonByConstructor','racesRetiredByConstructor']].fillna(value=0)\n",
    "df[['lastRaceRank','previousRaceGridStart','previousRacePosition']] = df[['lastRaceRank','previousRaceGridStart','previousRacePosition']].fillna(value=-1)"
   ]
  },
  {
   "cell_type": "markdown",
   "metadata": {},
   "source": [
    "**Replace missing percentage of best qualifying time**"
   ]
  },
  {
   "cell_type": "code",
   "execution_count": 10,
   "metadata": {},
   "outputs": [],
   "source": [
    "#df['percentageOfBestQuali'] = df.groupby(['driverId','year'])['percentageOfBestQuali'].transform(lambda x: x.fillna(x.mean()))\n",
    "df['percentageOfBestQuali'] = df.groupby(['driverId','year'])['percentageOfBestQuali'].transform(lambda x: x.ffill())\n",
    "df['percentageOfBestQuali'] = df.groupby(['year','round'])['percentageOfBestQuali'].transform(lambda x: x.fillna(x.mean()))\n",
    "df['percentageOfBestQuali'] = df.groupby(['year','round'])['percentageOfBestQuali'].transform(lambda x: x.fillna(100))"
   ]
  },
  {
   "cell_type": "markdown",
   "metadata": {},
   "source": [
    "**Chech which columns still have missing values**"
   ]
  },
  {
   "cell_type": "code",
   "execution_count": 11,
   "metadata": {},
   "outputs": [
    {
     "name": "stdout",
     "output_type": "stream",
     "text": [
      "Columns with null values:\n",
      " ['constructorStandingsPosition', 'constructorStandingsWins']\n"
     ]
    },
    {
     "data": {
      "text/html": [
       "<div>\n",
       "<style scoped>\n",
       "    .dataframe tbody tr th:only-of-type {\n",
       "        vertical-align: middle;\n",
       "    }\n",
       "\n",
       "    .dataframe tbody tr th {\n",
       "        vertical-align: top;\n",
       "    }\n",
       "\n",
       "    .dataframe thead th {\n",
       "        text-align: right;\n",
       "    }\n",
       "</style>\n",
       "<table border=\"1\" class=\"dataframe\">\n",
       "  <thead>\n",
       "    <tr style=\"text-align: right;\">\n",
       "      <th></th>\n",
       "      <th>driverId</th>\n",
       "      <th>constructorId</th>\n",
       "      <th>gridStart</th>\n",
       "      <th>positionOrder</th>\n",
       "      <th>driverRef</th>\n",
       "      <th>year</th>\n",
       "      <th>round</th>\n",
       "      <th>circuitId</th>\n",
       "      <th>date</th>\n",
       "      <th>ageAtRace</th>\n",
       "      <th>...</th>\n",
       "      <th>previousRaceGridStart</th>\n",
       "      <th>previousRacePosition</th>\n",
       "      <th>racesWon</th>\n",
       "      <th>racesRetired</th>\n",
       "      <th>racesFinished</th>\n",
       "      <th>polePositions</th>\n",
       "      <th>racesWonByConstructor</th>\n",
       "      <th>racesRetiredByConstructor</th>\n",
       "      <th>percentageOfBestQuali</th>\n",
       "      <th>finished</th>\n",
       "    </tr>\n",
       "  </thead>\n",
       "  <tbody>\n",
       "    <tr>\n",
       "      <th>21179</th>\n",
       "      <td>529</td>\n",
       "      <td>113</td>\n",
       "      <td>9</td>\n",
       "      <td>5</td>\n",
       "      <td>bettenhausen</td>\n",
       "      <td>1950</td>\n",
       "      <td>3</td>\n",
       "      <td>19</td>\n",
       "      <td>1950-05-30</td>\n",
       "      <td>33</td>\n",
       "      <td>...</td>\n",
       "      <td>8.0</td>\n",
       "      <td>31.0</td>\n",
       "      <td>0.0</td>\n",
       "      <td>0.0</td>\n",
       "      <td>0.0</td>\n",
       "      <td>0.0</td>\n",
       "      <td>0.0</td>\n",
       "      <td>0.0</td>\n",
       "      <td>100.0</td>\n",
       "      <td>True</td>\n",
       "    </tr>\n",
       "    <tr>\n",
       "      <th>21180</th>\n",
       "      <td>529</td>\n",
       "      <td>113</td>\n",
       "      <td>9</td>\n",
       "      <td>5</td>\n",
       "      <td>bettenhausen</td>\n",
       "      <td>1950</td>\n",
       "      <td>3</td>\n",
       "      <td>19</td>\n",
       "      <td>1950-05-30</td>\n",
       "      <td>33</td>\n",
       "      <td>...</td>\n",
       "      <td>8.0</td>\n",
       "      <td>31.0</td>\n",
       "      <td>0.0</td>\n",
       "      <td>0.0</td>\n",
       "      <td>0.0</td>\n",
       "      <td>0.0</td>\n",
       "      <td>0.0</td>\n",
       "      <td>0.0</td>\n",
       "      <td>100.0</td>\n",
       "      <td>True</td>\n",
       "    </tr>\n",
       "    <tr>\n",
       "      <th>22445</th>\n",
       "      <td>697</td>\n",
       "      <td>163</td>\n",
       "      <td>23</td>\n",
       "      <td>27</td>\n",
       "      <td>bonetto</td>\n",
       "      <td>1950</td>\n",
       "      <td>7</td>\n",
       "      <td>14</td>\n",
       "      <td>1950-09-03</td>\n",
       "      <td>47</td>\n",
       "      <td>...</td>\n",
       "      <td>10.0</td>\n",
       "      <td>10.0</td>\n",
       "      <td>0.0</td>\n",
       "      <td>1.0</td>\n",
       "      <td>1.0</td>\n",
       "      <td>0.0</td>\n",
       "      <td>0.0</td>\n",
       "      <td>0.0</td>\n",
       "      <td>100.0</td>\n",
       "      <td>False</td>\n",
       "    </tr>\n",
       "    <tr>\n",
       "      <th>21988</th>\n",
       "      <td>633</td>\n",
       "      <td>132</td>\n",
       "      <td>5</td>\n",
       "      <td>20</td>\n",
       "      <td>villoresi</td>\n",
       "      <td>1954</td>\n",
       "      <td>9</td>\n",
       "      <td>67</td>\n",
       "      <td>1954-10-24</td>\n",
       "      <td>45</td>\n",
       "      <td>...</td>\n",
       "      <td>6.0</td>\n",
       "      <td>13.0</td>\n",
       "      <td>0.0</td>\n",
       "      <td>9.0</td>\n",
       "      <td>15.0</td>\n",
       "      <td>1.0</td>\n",
       "      <td>0.0</td>\n",
       "      <td>0.0</td>\n",
       "      <td>100.0</td>\n",
       "      <td>False</td>\n",
       "    </tr>\n",
       "    <tr>\n",
       "      <th>22146</th>\n",
       "      <td>647</td>\n",
       "      <td>132</td>\n",
       "      <td>1</td>\n",
       "      <td>19</td>\n",
       "      <td>ascari</td>\n",
       "      <td>1954</td>\n",
       "      <td>9</td>\n",
       "      <td>67</td>\n",
       "      <td>1954-10-24</td>\n",
       "      <td>36</td>\n",
       "      <td>...</td>\n",
       "      <td>2.0</td>\n",
       "      <td>12.0</td>\n",
       "      <td>13.0</td>\n",
       "      <td>11.0</td>\n",
       "      <td>22.0</td>\n",
       "      <td>13.0</td>\n",
       "      <td>0.0</td>\n",
       "      <td>0.0</td>\n",
       "      <td>100.0</td>\n",
       "      <td>False</td>\n",
       "    </tr>\n",
       "    <tr>\n",
       "      <th>20242</th>\n",
       "      <td>427</td>\n",
       "      <td>130</td>\n",
       "      <td>18</td>\n",
       "      <td>17</td>\n",
       "      <td>trintignant</td>\n",
       "      <td>1956</td>\n",
       "      <td>5</td>\n",
       "      <td>55</td>\n",
       "      <td>1956-07-01</td>\n",
       "      <td>38</td>\n",
       "      <td>...</td>\n",
       "      <td>7.0</td>\n",
       "      <td>10.0</td>\n",
       "      <td>1.0</td>\n",
       "      <td>21.0</td>\n",
       "      <td>16.0</td>\n",
       "      <td>1.0</td>\n",
       "      <td>0.0</td>\n",
       "      <td>0.0</td>\n",
       "      <td>100.0</td>\n",
       "      <td>False</td>\n",
       "    </tr>\n",
       "  </tbody>\n",
       "</table>\n",
       "<p>6 rows × 28 columns</p>\n",
       "</div>"
      ],
      "text/plain": [
       "       driverId  constructorId  gridStart  positionOrder     driverRef  year  \\\n",
       "21179       529            113          9              5  bettenhausen  1950   \n",
       "21180       529            113          9              5  bettenhausen  1950   \n",
       "22445       697            163         23             27       bonetto  1950   \n",
       "21988       633            132          5             20     villoresi  1954   \n",
       "22146       647            132          1             19        ascari  1954   \n",
       "20242       427            130         18             17   trintignant  1956   \n",
       "\n",
       "       round  circuitId        date  ageAtRace  ...  previousRaceGridStart  \\\n",
       "21179      3         19  1950-05-30         33  ...                    8.0   \n",
       "21180      3         19  1950-05-30         33  ...                    8.0   \n",
       "22445      7         14  1950-09-03         47  ...                   10.0   \n",
       "21988      9         67  1954-10-24         45  ...                    6.0   \n",
       "22146      9         67  1954-10-24         36  ...                    2.0   \n",
       "20242      5         55  1956-07-01         38  ...                    7.0   \n",
       "\n",
       "       previousRacePosition  racesWon  racesRetired  racesFinished  \\\n",
       "21179                  31.0       0.0           0.0            0.0   \n",
       "21180                  31.0       0.0           0.0            0.0   \n",
       "22445                  10.0       0.0           1.0            1.0   \n",
       "21988                  13.0       0.0           9.0           15.0   \n",
       "22146                  12.0      13.0          11.0           22.0   \n",
       "20242                  10.0       1.0          21.0           16.0   \n",
       "\n",
       "      polePositions  racesWonByConstructor  racesRetiredByConstructor  \\\n",
       "21179           0.0                    0.0                        0.0   \n",
       "21180           0.0                    0.0                        0.0   \n",
       "22445           0.0                    0.0                        0.0   \n",
       "21988           1.0                    0.0                        0.0   \n",
       "22146          13.0                    0.0                        0.0   \n",
       "20242           1.0                    0.0                        0.0   \n",
       "\n",
       "       percentageOfBestQuali  finished  \n",
       "21179                  100.0      True  \n",
       "21180                  100.0      True  \n",
       "22445                  100.0     False  \n",
       "21988                  100.0     False  \n",
       "22146                  100.0     False  \n",
       "20242                  100.0     False  \n",
       "\n",
       "[6 rows x 28 columns]"
      ]
     },
     "execution_count": 11,
     "metadata": {},
     "output_type": "execute_result"
    }
   ],
   "source": [
    "print('Columns with null values:\\n', df.columns[df.isna().any()].tolist())\n",
    "df[df.isnull().any(axis=1)].head(20)"
   ]
  },
  {
   "cell_type": "markdown",
   "metadata": {},
   "source": [
    "Only 6 rows have missing constructor standings information now, all of which are from 1956 or before."
   ]
  },
  {
   "cell_type": "markdown",
   "metadata": {},
   "source": [
    "**Fill missing rank (ordering of drivers by previous race fastest lap during race) values with 0**"
   ]
  },
  {
   "cell_type": "code",
   "execution_count": 12,
   "metadata": {},
   "outputs": [],
   "source": [
    "df['lastRaceRank'] = df['lastRaceRank'].replace({'\\\\N': 0})\n",
    "df['lastRaceRank'] = df['lastRaceRank'].astype(str).astype(int)"
   ]
  },
  {
   "cell_type": "markdown",
   "metadata": {},
   "source": [
    "**Replace grid starting position 0 (pit lane start) with the last starting position of that race +1**"
   ]
  },
  {
   "cell_type": "code",
   "execution_count": 13,
   "metadata": {},
   "outputs": [],
   "source": [
    "df['gridStart'] = df.groupby(['year','round'])['gridStart'].transform(lambda x: x.replace(to_replace = 0, value = x.max()+1))"
   ]
  },
  {
   "cell_type": "code",
   "execution_count": 14,
   "metadata": {},
   "outputs": [],
   "source": [
    "df['racingAtHome'] = df[\"racingAtHome\"].astype(int)"
   ]
  },
  {
   "cell_type": "code",
   "execution_count": 15,
   "metadata": {},
   "outputs": [
    {
     "name": "stdout",
     "output_type": "stream",
     "text": [
      "<class 'pandas.core.frame.DataFrame'>\n",
      "Int64Index: 25593 entries, 21554 to 25571\n",
      "Data columns (total 28 columns):\n",
      " #   Column                        Non-Null Count  Dtype  \n",
      "---  ------                        --------------  -----  \n",
      " 0   driverId                      25593 non-null  int64  \n",
      " 1   constructorId                 25593 non-null  int64  \n",
      " 2   gridStart                     25593 non-null  int64  \n",
      " 3   positionOrder                 25593 non-null  int64  \n",
      " 4   driverRef                     25593 non-null  object \n",
      " 5   year                          25593 non-null  int64  \n",
      " 6   round                         25593 non-null  int64  \n",
      " 7   circuitId                     25593 non-null  int64  \n",
      " 8   date                          25593 non-null  object \n",
      " 9   ageAtRace                     25593 non-null  int64  \n",
      " 10  ageAtDebut                    25593 non-null  int64  \n",
      " 11  yearsExperience               25593 non-null  int64  \n",
      " 12  racingAtHome                  25593 non-null  int64  \n",
      " 13  driverStandingsPosition       25593 non-null  float64\n",
      " 14  driverStandingsWins           25593 non-null  float64\n",
      " 15  lastRaceRank                  25593 non-null  int64  \n",
      " 16  constructorStandingsPosition  25587 non-null  float64\n",
      " 17  constructorStandingsWins      25587 non-null  float64\n",
      " 18  previousRaceGridStart         25593 non-null  float64\n",
      " 19  previousRacePosition          25593 non-null  float64\n",
      " 20  racesWon                      25593 non-null  float64\n",
      " 21  racesRetired                  25593 non-null  float64\n",
      " 22  racesFinished                 25593 non-null  float64\n",
      " 23  polePositions                 25593 non-null  float64\n",
      " 24  racesWonByConstructor         25593 non-null  float64\n",
      " 25  racesRetiredByConstructor     25593 non-null  float64\n",
      " 26  percentageOfBestQuali         25593 non-null  float64\n",
      " 27  finished                      25593 non-null  bool   \n",
      "dtypes: bool(1), float64(13), int64(12), object(2)\n",
      "memory usage: 5.5+ MB\n"
     ]
    }
   ],
   "source": [
    "df.info()"
   ]
  },
  {
   "cell_type": "markdown",
   "metadata": {},
   "source": [
    "**Add artificial entry for last race (round 22) of 2021 for Mazepin. He couldnt race because of covid at the time**"
   ]
  },
  {
   "cell_type": "code",
   "execution_count": 16,
   "metadata": {},
   "outputs": [],
   "source": [
    "new_row = {'driverId':853, 'constructorId':210, 'gridStart':20, 'positionOrder':20, 'driverRef': 'mazepin',\n",
    " 'year':2021, 'round':22, 'circuitId':77, 'date':'2021-12-12', 'ageAtRace':22, 'ageAtDebut':22,\n",
    "  'yearsExperience':0, 'racingAtHome':0, 'driverStandingsPosition':20,\n",
    "  'driverStandingsWins':0, 'lastRaceRank':19, 'constructorStandingsPosition':10,\n",
    "  'constructorStandingsWins':0, 'previousRaceGridStart':19, 'previousRacePosition': 18, 'racesWon':0,\n",
    "  'racesRetired':4, 'racesFinished': 17, 'polePositions': 0, 'racesWonByConstructor': 0, 'racesRetiredByConstructor': 46,\n",
    "  'percentageOfBestQuali': 115, 'finished':True}\n",
    "#append row to the dataframe\n",
    "df = df.append(new_row, ignore_index=True)"
   ]
  },
  {
   "cell_type": "code",
   "execution_count": 17,
   "metadata": {},
   "outputs": [],
   "source": [
    "df['percentRetired'] = df['racesRetired'].div(df['racesFinished']).replace(np.inf, 0)\n",
    "df['percentRetired'] = df['percentRetired'].replace({ np.nan :  0})"
   ]
  },
  {
   "cell_type": "code",
   "execution_count": 18,
   "metadata": {},
   "outputs": [],
   "source": [
    "df['posGainedLastRace'] = df['previousRaceGridStart'] - df['previousRacePosition']"
   ]
  },
  {
   "cell_type": "code",
   "execution_count": 19,
   "metadata": {},
   "outputs": [],
   "source": [
    "df = df.drop(['driverId','constructorId'], axis=1)"
   ]
  },
  {
   "cell_type": "code",
   "execution_count": 20,
   "metadata": {},
   "outputs": [],
   "source": [
    "df.reset_index(drop=True)\n",
    "df.to_csv('../data/processed/0.3-feature-processing.csv')"
   ]
  },
  {
   "cell_type": "code",
   "execution_count": 21,
   "metadata": {},
   "outputs": [
    {
     "data": {
      "text/html": [
       "<div>\n",
       "<style scoped>\n",
       "    .dataframe tbody tr th:only-of-type {\n",
       "        vertical-align: middle;\n",
       "    }\n",
       "\n",
       "    .dataframe tbody tr th {\n",
       "        vertical-align: top;\n",
       "    }\n",
       "\n",
       "    .dataframe thead th {\n",
       "        text-align: right;\n",
       "    }\n",
       "</style>\n",
       "<table border=\"1\" class=\"dataframe\">\n",
       "  <thead>\n",
       "    <tr style=\"text-align: right;\">\n",
       "      <th></th>\n",
       "      <th>gridStart</th>\n",
       "      <th>positionOrder</th>\n",
       "      <th>driverRef</th>\n",
       "      <th>year</th>\n",
       "      <th>round</th>\n",
       "      <th>circuitId</th>\n",
       "      <th>date</th>\n",
       "      <th>ageAtRace</th>\n",
       "      <th>ageAtDebut</th>\n",
       "      <th>yearsExperience</th>\n",
       "      <th>...</th>\n",
       "      <th>racesWon</th>\n",
       "      <th>racesRetired</th>\n",
       "      <th>racesFinished</th>\n",
       "      <th>polePositions</th>\n",
       "      <th>racesWonByConstructor</th>\n",
       "      <th>racesRetiredByConstructor</th>\n",
       "      <th>percentageOfBestQuali</th>\n",
       "      <th>finished</th>\n",
       "      <th>percentRetired</th>\n",
       "      <th>posGainedLastRace</th>\n",
       "    </tr>\n",
       "  </thead>\n",
       "  <tbody>\n",
       "    <tr>\n",
       "      <th>25589</th>\n",
       "      <td>17</td>\n",
       "      <td>18</td>\n",
       "      <td>russell</td>\n",
       "      <td>2021</td>\n",
       "      <td>22</td>\n",
       "      <td>24</td>\n",
       "      <td>2021-12-12</td>\n",
       "      <td>23</td>\n",
       "      <td>21</td>\n",
       "      <td>2</td>\n",
       "      <td>...</td>\n",
       "      <td>0.0</td>\n",
       "      <td>10.0</td>\n",
       "      <td>49.0</td>\n",
       "      <td>0.0</td>\n",
       "      <td>114.0</td>\n",
       "      <td>399.0</td>\n",
       "      <td>102.818205</td>\n",
       "      <td>False</td>\n",
       "      <td>0.204082</td>\n",
       "      <td>-5.0</td>\n",
       "    </tr>\n",
       "    <tr>\n",
       "      <th>25590</th>\n",
       "      <td>16</td>\n",
       "      <td>16</td>\n",
       "      <td>latifi</td>\n",
       "      <td>2021</td>\n",
       "      <td>22</td>\n",
       "      <td>24</td>\n",
       "      <td>2021-12-12</td>\n",
       "      <td>26</td>\n",
       "      <td>25</td>\n",
       "      <td>1</td>\n",
       "      <td>...</td>\n",
       "      <td>0.0</td>\n",
       "      <td>5.0</td>\n",
       "      <td>33.0</td>\n",
       "      <td>0.0</td>\n",
       "      <td>114.0</td>\n",
       "      <td>399.0</td>\n",
       "      <td>102.714684</td>\n",
       "      <td>False</td>\n",
       "      <td>0.151515</td>\n",
       "      <td>4.0</td>\n",
       "    </tr>\n",
       "    <tr>\n",
       "      <th>25591</th>\n",
       "      <td>8</td>\n",
       "      <td>4</td>\n",
       "      <td>tsunoda</td>\n",
       "      <td>2021</td>\n",
       "      <td>22</td>\n",
       "      <td>24</td>\n",
       "      <td>2021-12-12</td>\n",
       "      <td>21</td>\n",
       "      <td>20</td>\n",
       "      <td>0</td>\n",
       "      <td>...</td>\n",
       "      <td>0.0</td>\n",
       "      <td>3.0</td>\n",
       "      <td>17.0</td>\n",
       "      <td>0.0</td>\n",
       "      <td>1.0</td>\n",
       "      <td>10.0</td>\n",
       "      <td>101.353079</td>\n",
       "      <td>True</td>\n",
       "      <td>0.176471</td>\n",
       "      <td>-6.0</td>\n",
       "    </tr>\n",
       "    <tr>\n",
       "      <th>25592</th>\n",
       "      <td>19</td>\n",
       "      <td>14</td>\n",
       "      <td>mick_schumacher</td>\n",
       "      <td>2021</td>\n",
       "      <td>22</td>\n",
       "      <td>24</td>\n",
       "      <td>2021-12-12</td>\n",
       "      <td>22</td>\n",
       "      <td>22</td>\n",
       "      <td>0</td>\n",
       "      <td>...</td>\n",
       "      <td>0.0</td>\n",
       "      <td>3.0</td>\n",
       "      <td>18.0</td>\n",
       "      <td>0.0</td>\n",
       "      <td>0.0</td>\n",
       "      <td>48.0</td>\n",
       "      <td>103.406448</td>\n",
       "      <td>True</td>\n",
       "      <td>0.166667</td>\n",
       "      <td>-1.0</td>\n",
       "    </tr>\n",
       "    <tr>\n",
       "      <th>25593</th>\n",
       "      <td>20</td>\n",
       "      <td>20</td>\n",
       "      <td>mazepin</td>\n",
       "      <td>2021</td>\n",
       "      <td>22</td>\n",
       "      <td>77</td>\n",
       "      <td>2021-12-12</td>\n",
       "      <td>22</td>\n",
       "      <td>22</td>\n",
       "      <td>0</td>\n",
       "      <td>...</td>\n",
       "      <td>0.0</td>\n",
       "      <td>4.0</td>\n",
       "      <td>17.0</td>\n",
       "      <td>0.0</td>\n",
       "      <td>0.0</td>\n",
       "      <td>46.0</td>\n",
       "      <td>115.000000</td>\n",
       "      <td>True</td>\n",
       "      <td>0.235294</td>\n",
       "      <td>1.0</td>\n",
       "    </tr>\n",
       "  </tbody>\n",
       "</table>\n",
       "<p>5 rows × 28 columns</p>\n",
       "</div>"
      ],
      "text/plain": [
       "       gridStart  positionOrder        driverRef  year  round  circuitId  \\\n",
       "25589         17             18          russell  2021     22         24   \n",
       "25590         16             16           latifi  2021     22         24   \n",
       "25591          8              4          tsunoda  2021     22         24   \n",
       "25592         19             14  mick_schumacher  2021     22         24   \n",
       "25593         20             20          mazepin  2021     22         77   \n",
       "\n",
       "             date  ageAtRace  ageAtDebut  yearsExperience  ...  racesWon  \\\n",
       "25589  2021-12-12         23          21                2  ...       0.0   \n",
       "25590  2021-12-12         26          25                1  ...       0.0   \n",
       "25591  2021-12-12         21          20                0  ...       0.0   \n",
       "25592  2021-12-12         22          22                0  ...       0.0   \n",
       "25593  2021-12-12         22          22                0  ...       0.0   \n",
       "\n",
       "       racesRetired  racesFinished  polePositions  racesWonByConstructor  \\\n",
       "25589          10.0           49.0            0.0                  114.0   \n",
       "25590           5.0           33.0            0.0                  114.0   \n",
       "25591           3.0           17.0            0.0                    1.0   \n",
       "25592           3.0           18.0            0.0                    0.0   \n",
       "25593           4.0           17.0            0.0                    0.0   \n",
       "\n",
       "       racesRetiredByConstructor  percentageOfBestQuali  finished  \\\n",
       "25589                      399.0             102.818205     False   \n",
       "25590                      399.0             102.714684     False   \n",
       "25591                       10.0             101.353079      True   \n",
       "25592                       48.0             103.406448      True   \n",
       "25593                       46.0             115.000000      True   \n",
       "\n",
       "       percentRetired  posGainedLastRace  \n",
       "25589        0.204082               -5.0  \n",
       "25590        0.151515                4.0  \n",
       "25591        0.176471               -6.0  \n",
       "25592        0.166667               -1.0  \n",
       "25593        0.235294                1.0  \n",
       "\n",
       "[5 rows x 28 columns]"
      ]
     },
     "execution_count": 21,
     "metadata": {},
     "output_type": "execute_result"
    }
   ],
   "source": [
    "df.tail()"
   ]
  }
 ],
 "metadata": {
  "interpreter": {
   "hash": "5675cb18eb1443b8369002c5f545df601e18a8d4e2c974b1cb42f0d4601b5184"
  },
  "kernelspec": {
   "display_name": "Python 3.9.7 64-bit ('machine-learning': conda)",
   "language": "python",
   "name": "python3"
  },
  "language_info": {
   "codemirror_mode": {
    "name": "ipython",
    "version": 3
   },
   "file_extension": ".py",
   "mimetype": "text/x-python",
   "name": "python",
   "nbconvert_exporter": "python",
   "pygments_lexer": "ipython3",
   "version": "3.9.7"
  },
  "orig_nbformat": 4
 },
 "nbformat": 4,
 "nbformat_minor": 2
}
