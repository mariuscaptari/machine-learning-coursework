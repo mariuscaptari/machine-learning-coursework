{
 "cells": [
  {
   "cell_type": "code",
   "execution_count": 1,
   "metadata": {},
   "outputs": [],
   "source": [
    "import pandas as pd"
   ]
  },
  {
   "cell_type": "code",
   "execution_count": 2,
   "metadata": {},
   "outputs": [],
   "source": [
    "df = pd.read_csv('../data/processed/0.1-initial-exploration.csv',index_col=False)\n",
    "df = df.loc[:, ~df.columns.str.contains('^Unnamed')]\n",
    "\n",
    "df.loc[:,'positionOrder'] = pd.to_numeric(df.loc[:, 'positionOrder'], errors='coerce')\n",
    "df.loc[:,'ageAtRace'] = pd.to_numeric(df.loc[:, 'ageAtRace'], errors='coerce')\n",
    "df.loc[:,'ageAtDebut'] = pd.to_numeric(df.loc[:, 'ageAtDebut'], errors='coerce')\n",
    "df.loc[:,'yearsExperience'] = pd.to_numeric(df.loc[:, 'yearsExperience'], errors='coerce')"
   ]
  },
  {
   "cell_type": "markdown",
   "metadata": {},
   "source": [
    "**Sort by year and round**"
   ]
  },
  {
   "cell_type": "code",
   "execution_count": 3,
   "metadata": {},
   "outputs": [],
   "source": [
    "df = df.sort_values(by=['year','round'])"
   ]
  },
  {
   "cell_type": "markdown",
   "metadata": {},
   "source": [
    "**Carry forward last Driver Standings statistics**"
   ]
  },
  {
   "cell_type": "code",
   "execution_count": 4,
   "metadata": {},
   "outputs": [],
   "source": [
    "df['driverStandingsPoints'] = df.groupby(['driverId'])['driverStandingsPoints'].transform(lambda x: x.ffill())\n",
    "df['driverStandingsPosition'] = df.groupby(['driverId'])['driverStandingsPosition'].transform(lambda x: x.ffill())\n",
    "df['driverStandingsWins'] = df.groupby(['driverId'])['driverStandingsWins'].transform(lambda x: x.ffill())"
   ]
  },
  {
   "cell_type": "markdown",
   "metadata": {},
   "source": [
    "**Carry forward last Constructor Standings statistics**"
   ]
  },
  {
   "cell_type": "code",
   "execution_count": 5,
   "metadata": {},
   "outputs": [],
   "source": [
    "df['constructorStandingsPoints'] = df.groupby(['constructorId'])['constructorStandingsPoints'].transform(lambda x: x.ffill())\n",
    "df['constructorStandingsPosition'] = df.groupby(['constructorId'])['constructorStandingsPosition'].transform(lambda x: x.ffill())\n",
    "df['constructorStandingsWins'] = df.groupby(['constructorId'])['constructorStandingsWins'].transform(lambda x: x.ffill())"
   ]
  },
  {
   "cell_type": "markdown",
   "metadata": {},
   "source": [
    "**Drop unwanted columns**"
   ]
  },
  {
   "cell_type": "code",
   "execution_count": 6,
   "metadata": {},
   "outputs": [],
   "source": [
    "df = df.drop(['driverRef','resultId','raceId','rank','driverStandingsId','constructorStandingsId','position','positionText','pointsGained',\n",
    "'laps','nationality','time_x','milliseconds','fastestLapSpeed','fastestLapTime','fastestLap','statusId'\n",
    ",'circuitName','dateOfDebut','status','driverStandingsId'], 1)"
   ]
  },
  {
   "cell_type": "markdown",
   "metadata": {},
   "source": [
    "**Columns with null values**"
   ]
  },
  {
   "cell_type": "code",
   "execution_count": 7,
   "metadata": {},
   "outputs": [
    {
     "name": "stdout",
     "output_type": "stream",
     "text": [
      "Columns with null values:\n",
      " ['lastRaceRank', 'constructorStandingsPoints', 'constructorStandingsPosition', 'constructorStandingsWins', 'previousRaceGridStart', 'previousRacePosition', 'racesWon', 'racesRetired', 'racesFinished', 'polePositions', 'racesWonByConstructor', 'racesRetiredByConstructor', 'percentageOfBestQuali']\n"
     ]
    }
   ],
   "source": [
    "print('Columns with null values:\\n', df.columns[df.isna().any()].tolist())"
   ]
  },
  {
   "cell_type": "markdown",
   "metadata": {},
   "source": [
    "**Replace Nans with 0 or -1 depending on the column**"
   ]
  },
  {
   "cell_type": "code",
   "execution_count": 8,
   "metadata": {},
   "outputs": [],
   "source": [
    "df[['racesWon','racesRetired','racesFinished','polePositions','racesWonByConstructor','racesRetiredByConstructor']] = df[['racesWon','racesRetired','racesFinished','polePositions','racesWonByConstructor','racesRetiredByConstructor']].fillna(value=0)\n",
    "df[['lastRaceRank','previousRaceGridStart','previousRacePosition']] = df[['lastRaceRank','previousRaceGridStart','previousRacePosition']].fillna(value=-1)"
   ]
  },
  {
   "cell_type": "markdown",
   "metadata": {},
   "source": [
    "**Replace missing percentage of best qualifying time**"
   ]
  },
  {
   "cell_type": "code",
   "execution_count": 9,
   "metadata": {},
   "outputs": [],
   "source": [
    "#df['percentageOfBestQuali'] = df.groupby(['driverId','year'])['percentageOfBestQuali'].transform(lambda x: x.fillna(x.mean()))\n",
    "df['percentageOfBestQuali'] = df.groupby(['driverId','year'])['percentageOfBestQuali'].transform(lambda x: x.ffill())\n",
    "df['percentageOfBestQuali'] = df.groupby(['year','round'])['percentageOfBestQuali'].transform(lambda x: x.fillna(x.mean()))\n",
    "df['percentageOfBestQuali'] = df.groupby(['year','round'])['percentageOfBestQuali'].transform(lambda x: x.fillna(100))"
   ]
  },
  {
   "cell_type": "markdown",
   "metadata": {},
   "source": [
    "**Chech which columns still have missing values**"
   ]
  },
  {
   "cell_type": "code",
   "execution_count": 10,
   "metadata": {},
   "outputs": [
    {
     "name": "stdout",
     "output_type": "stream",
     "text": [
      "Columns with null values:\n",
      " ['constructorStandingsPoints', 'constructorStandingsPosition', 'constructorStandingsWins']\n"
     ]
    },
    {
     "data": {
      "text/html": [
       "<div>\n",
       "<style scoped>\n",
       "    .dataframe tbody tr th:only-of-type {\n",
       "        vertical-align: middle;\n",
       "    }\n",
       "\n",
       "    .dataframe tbody tr th {\n",
       "        vertical-align: top;\n",
       "    }\n",
       "\n",
       "    .dataframe thead th {\n",
       "        text-align: right;\n",
       "    }\n",
       "</style>\n",
       "<table border=\"1\" class=\"dataframe\">\n",
       "  <thead>\n",
       "    <tr style=\"text-align: right;\">\n",
       "      <th></th>\n",
       "      <th>driverId</th>\n",
       "      <th>constructorId</th>\n",
       "      <th>gridStart</th>\n",
       "      <th>positionOrder</th>\n",
       "      <th>year</th>\n",
       "      <th>round</th>\n",
       "      <th>circuitId</th>\n",
       "      <th>date</th>\n",
       "      <th>ageAtRace</th>\n",
       "      <th>ageAtDebut</th>\n",
       "      <th>...</th>\n",
       "      <th>constructorStandingsWins</th>\n",
       "      <th>previousRaceGridStart</th>\n",
       "      <th>previousRacePosition</th>\n",
       "      <th>racesWon</th>\n",
       "      <th>racesRetired</th>\n",
       "      <th>racesFinished</th>\n",
       "      <th>polePositions</th>\n",
       "      <th>racesWonByConstructor</th>\n",
       "      <th>racesRetiredByConstructor</th>\n",
       "      <th>percentageOfBestQuali</th>\n",
       "    </tr>\n",
       "  </thead>\n",
       "  <tbody>\n",
       "    <tr>\n",
       "      <th>21179</th>\n",
       "      <td>529</td>\n",
       "      <td>113</td>\n",
       "      <td>9</td>\n",
       "      <td>5</td>\n",
       "      <td>1950</td>\n",
       "      <td>3</td>\n",
       "      <td>19</td>\n",
       "      <td>1950-05-30</td>\n",
       "      <td>33</td>\n",
       "      <td>33</td>\n",
       "      <td>...</td>\n",
       "      <td>NaN</td>\n",
       "      <td>8.0</td>\n",
       "      <td>31.0</td>\n",
       "      <td>0.0</td>\n",
       "      <td>0.0</td>\n",
       "      <td>0.0</td>\n",
       "      <td>0.0</td>\n",
       "      <td>0.0</td>\n",
       "      <td>0.0</td>\n",
       "      <td>100.0</td>\n",
       "    </tr>\n",
       "    <tr>\n",
       "      <th>21180</th>\n",
       "      <td>529</td>\n",
       "      <td>113</td>\n",
       "      <td>9</td>\n",
       "      <td>5</td>\n",
       "      <td>1950</td>\n",
       "      <td>3</td>\n",
       "      <td>19</td>\n",
       "      <td>1950-05-30</td>\n",
       "      <td>33</td>\n",
       "      <td>33</td>\n",
       "      <td>...</td>\n",
       "      <td>NaN</td>\n",
       "      <td>8.0</td>\n",
       "      <td>31.0</td>\n",
       "      <td>0.0</td>\n",
       "      <td>0.0</td>\n",
       "      <td>0.0</td>\n",
       "      <td>0.0</td>\n",
       "      <td>0.0</td>\n",
       "      <td>0.0</td>\n",
       "      <td>100.0</td>\n",
       "    </tr>\n",
       "    <tr>\n",
       "      <th>22445</th>\n",
       "      <td>697</td>\n",
       "      <td>163</td>\n",
       "      <td>23</td>\n",
       "      <td>27</td>\n",
       "      <td>1950</td>\n",
       "      <td>7</td>\n",
       "      <td>14</td>\n",
       "      <td>1950-09-03</td>\n",
       "      <td>47</td>\n",
       "      <td>47</td>\n",
       "      <td>...</td>\n",
       "      <td>NaN</td>\n",
       "      <td>10.0</td>\n",
       "      <td>10.0</td>\n",
       "      <td>0.0</td>\n",
       "      <td>1.0</td>\n",
       "      <td>0.0</td>\n",
       "      <td>0.0</td>\n",
       "      <td>0.0</td>\n",
       "      <td>0.0</td>\n",
       "      <td>100.0</td>\n",
       "    </tr>\n",
       "    <tr>\n",
       "      <th>21988</th>\n",
       "      <td>633</td>\n",
       "      <td>132</td>\n",
       "      <td>5</td>\n",
       "      <td>20</td>\n",
       "      <td>1954</td>\n",
       "      <td>9</td>\n",
       "      <td>67</td>\n",
       "      <td>1954-10-24</td>\n",
       "      <td>45</td>\n",
       "      <td>41</td>\n",
       "      <td>...</td>\n",
       "      <td>NaN</td>\n",
       "      <td>6.0</td>\n",
       "      <td>13.0</td>\n",
       "      <td>0.0</td>\n",
       "      <td>9.0</td>\n",
       "      <td>6.0</td>\n",
       "      <td>1.0</td>\n",
       "      <td>0.0</td>\n",
       "      <td>0.0</td>\n",
       "      <td>100.0</td>\n",
       "    </tr>\n",
       "    <tr>\n",
       "      <th>22146</th>\n",
       "      <td>647</td>\n",
       "      <td>132</td>\n",
       "      <td>1</td>\n",
       "      <td>19</td>\n",
       "      <td>1954</td>\n",
       "      <td>9</td>\n",
       "      <td>67</td>\n",
       "      <td>1954-10-24</td>\n",
       "      <td>36</td>\n",
       "      <td>31</td>\n",
       "      <td>...</td>\n",
       "      <td>NaN</td>\n",
       "      <td>2.0</td>\n",
       "      <td>12.0</td>\n",
       "      <td>13.0</td>\n",
       "      <td>11.0</td>\n",
       "      <td>17.0</td>\n",
       "      <td>13.0</td>\n",
       "      <td>0.0</td>\n",
       "      <td>0.0</td>\n",
       "      <td>100.0</td>\n",
       "    </tr>\n",
       "    <tr>\n",
       "      <th>20242</th>\n",
       "      <td>427</td>\n",
       "      <td>130</td>\n",
       "      <td>18</td>\n",
       "      <td>17</td>\n",
       "      <td>1956</td>\n",
       "      <td>5</td>\n",
       "      <td>55</td>\n",
       "      <td>1956-07-01</td>\n",
       "      <td>38</td>\n",
       "      <td>32</td>\n",
       "      <td>...</td>\n",
       "      <td>NaN</td>\n",
       "      <td>7.0</td>\n",
       "      <td>10.0</td>\n",
       "      <td>1.0</td>\n",
       "      <td>21.0</td>\n",
       "      <td>4.0</td>\n",
       "      <td>1.0</td>\n",
       "      <td>0.0</td>\n",
       "      <td>0.0</td>\n",
       "      <td>100.0</td>\n",
       "    </tr>\n",
       "  </tbody>\n",
       "</table>\n",
       "<p>6 rows × 28 columns</p>\n",
       "</div>"
      ],
      "text/plain": [
       "       driverId  constructorId  gridStart  positionOrder  year  round  \\\n",
       "21179       529            113          9              5  1950      3   \n",
       "21180       529            113          9              5  1950      3   \n",
       "22445       697            163         23             27  1950      7   \n",
       "21988       633            132          5             20  1954      9   \n",
       "22146       647            132          1             19  1954      9   \n",
       "20242       427            130         18             17  1956      5   \n",
       "\n",
       "       circuitId        date  ageAtRace  ageAtDebut  ...  \\\n",
       "21179         19  1950-05-30         33          33  ...   \n",
       "21180         19  1950-05-30         33          33  ...   \n",
       "22445         14  1950-09-03         47          47  ...   \n",
       "21988         67  1954-10-24         45          41  ...   \n",
       "22146         67  1954-10-24         36          31  ...   \n",
       "20242         55  1956-07-01         38          32  ...   \n",
       "\n",
       "       constructorStandingsWins  previousRaceGridStart  previousRacePosition  \\\n",
       "21179                       NaN                    8.0                  31.0   \n",
       "21180                       NaN                    8.0                  31.0   \n",
       "22445                       NaN                   10.0                  10.0   \n",
       "21988                       NaN                    6.0                  13.0   \n",
       "22146                       NaN                    2.0                  12.0   \n",
       "20242                       NaN                    7.0                  10.0   \n",
       "\n",
       "       racesWon  racesRetired racesFinished  polePositions  \\\n",
       "21179       0.0           0.0           0.0            0.0   \n",
       "21180       0.0           0.0           0.0            0.0   \n",
       "22445       0.0           1.0           0.0            0.0   \n",
       "21988       0.0           9.0           6.0            1.0   \n",
       "22146      13.0          11.0          17.0           13.0   \n",
       "20242       1.0          21.0           4.0            1.0   \n",
       "\n",
       "       racesWonByConstructor  racesRetiredByConstructor  percentageOfBestQuali  \n",
       "21179                    0.0                        0.0                  100.0  \n",
       "21180                    0.0                        0.0                  100.0  \n",
       "22445                    0.0                        0.0                  100.0  \n",
       "21988                    0.0                        0.0                  100.0  \n",
       "22146                    0.0                        0.0                  100.0  \n",
       "20242                    0.0                        0.0                  100.0  \n",
       "\n",
       "[6 rows x 28 columns]"
      ]
     },
     "execution_count": 10,
     "metadata": {},
     "output_type": "execute_result"
    }
   ],
   "source": [
    "print('Columns with null values:\\n', df.columns[df.isna().any()].tolist())\n",
    "df[df.isnull().any(axis=1)].head(20)"
   ]
  },
  {
   "cell_type": "markdown",
   "metadata": {},
   "source": [
    "Only 6 rows have missing constructor standings information now, all of which are from 1956 or before."
   ]
  },
  {
   "cell_type": "markdown",
   "metadata": {},
   "source": [
    "**Fill missing rank (ordering of drivers by previous race fastest lap during race) values with 0**"
   ]
  },
  {
   "cell_type": "code",
   "execution_count": 11,
   "metadata": {},
   "outputs": [],
   "source": [
    "df['lastRaceRank'] = df['lastRaceRank'].replace({'\\\\N': 0})\n",
    "df['lastRaceRank'] = df['lastRaceRank'].astype(str).astype(int)"
   ]
  },
  {
   "cell_type": "markdown",
   "metadata": {},
   "source": [
    "**Replace grid starting position 0 (pit lane start) with the last starting position of that race +1**"
   ]
  },
  {
   "cell_type": "code",
   "execution_count": 12,
   "metadata": {},
   "outputs": [],
   "source": [
    "df['gridStart'] = df.groupby(['year','round'])['gridStart'].transform(lambda x: x.replace(to_replace = 0, value = x.max()+1))"
   ]
  },
  {
   "cell_type": "code",
   "execution_count": 13,
   "metadata": {},
   "outputs": [],
   "source": [
    "df['racingAtHome'] = df[\"racingAtHome\"].astype(int)"
   ]
  },
  {
   "cell_type": "code",
   "execution_count": 14,
   "metadata": {},
   "outputs": [
    {
     "name": "stdout",
     "output_type": "stream",
     "text": [
      "<class 'pandas.core.frame.DataFrame'>\n",
      "Int64Index: 25593 entries, 21554 to 25571\n",
      "Data columns (total 28 columns):\n",
      " #   Column                        Non-Null Count  Dtype  \n",
      "---  ------                        --------------  -----  \n",
      " 0   driverId                      25593 non-null  int64  \n",
      " 1   constructorId                 25593 non-null  int64  \n",
      " 2   gridStart                     25593 non-null  int64  \n",
      " 3   positionOrder                 25593 non-null  int64  \n",
      " 4   year                          25593 non-null  int64  \n",
      " 5   round                         25593 non-null  int64  \n",
      " 6   circuitId                     25593 non-null  int64  \n",
      " 7   date                          25593 non-null  object \n",
      " 8   ageAtRace                     25593 non-null  int64  \n",
      " 9   ageAtDebut                    25593 non-null  int64  \n",
      " 10  yearsExperience               25593 non-null  int64  \n",
      " 11  racingAtHome                  25593 non-null  int64  \n",
      " 12  driverStandingsPoints         25593 non-null  float64\n",
      " 13  driverStandingsPosition       25593 non-null  float64\n",
      " 14  driverStandingsWins           25593 non-null  float64\n",
      " 15  lastRaceRank                  25593 non-null  int64  \n",
      " 16  constructorStandingsPoints    25587 non-null  float64\n",
      " 17  constructorStandingsPosition  25587 non-null  float64\n",
      " 18  constructorStandingsWins      25587 non-null  float64\n",
      " 19  previousRaceGridStart         25593 non-null  float64\n",
      " 20  previousRacePosition          25593 non-null  float64\n",
      " 21  racesWon                      25593 non-null  float64\n",
      " 22  racesRetired                  25593 non-null  float64\n",
      " 23  racesFinished                 25593 non-null  float64\n",
      " 24  polePositions                 25593 non-null  float64\n",
      " 25  racesWonByConstructor         25593 non-null  float64\n",
      " 26  racesRetiredByConstructor     25593 non-null  float64\n",
      " 27  percentageOfBestQuali         25593 non-null  float64\n",
      "dtypes: float64(15), int64(12), object(1)\n",
      "memory usage: 5.7+ MB\n"
     ]
    }
   ],
   "source": [
    "df.info()"
   ]
  },
  {
   "cell_type": "code",
   "execution_count": 15,
   "metadata": {},
   "outputs": [],
   "source": [
    "df.reset_index(drop=True)\n",
    "df.to_csv('../data/processed/0.3-feature-processing.csv')"
   ]
  }
 ],
 "metadata": {
  "interpreter": {
   "hash": "5675cb18eb1443b8369002c5f545df601e18a8d4e2c974b1cb42f0d4601b5184"
  },
  "kernelspec": {
   "display_name": "Python 3.9.7 64-bit ('machine-learning': conda)",
   "language": "python",
   "name": "python3"
  },
  "language_info": {
   "codemirror_mode": {
    "name": "ipython",
    "version": 3
   },
   "file_extension": ".py",
   "mimetype": "text/x-python",
   "name": "python",
   "nbconvert_exporter": "python",
   "pygments_lexer": "ipython3",
   "version": "3.9.7"
  },
  "orig_nbformat": 4
 },
 "nbformat": 4,
 "nbformat_minor": 2
}
