{
 "cells": [
  {
   "cell_type": "code",
   "execution_count": 1,
   "metadata": {},
   "outputs": [],
   "source": [
    "import pandas as pd\n",
    "import numpy as np\n",
    "import warnings\n",
    "import statistics\n",
    "\n",
    "from datetime import datetime\n",
    "\n",
    "from sklearn.pipeline import Pipeline\n",
    "from sklearn.compose import ColumnTransformer\n",
    "from sklearn.preprocessing import StandardScaler, OneHotEncoder\n",
    "from sklearn.model_selection import TimeSeriesSplit, GridSearchCV\n",
    "from sklearn.decomposition import PCA\n",
    "from sklearn.linear_model import Ridge\n",
    "from sklearn.ensemble import RandomForestRegressor\n",
    "from sklearn.metrics import mean_squared_error, make_scorer\n",
    "\n",
    "from sklearn import set_config\n",
    "\n",
    "from sklearn.ensemble import GradientBoostingRegressor\n",
    "\n",
    "import matplotlib.pyplot as plt\n",
    "\n",
    "plt.rcParams.update({\n",
    "    \"text.usetex\": True,\n",
    "    \"font.family\": \"sans-serif\",\n",
    "    \"font.sans-serif\": [\"Helvetica\"]})\n",
    "\n",
    "%matplotlib inline\n",
    "\n",
    "set_config(display='diagram')"
   ]
  },
  {
   "cell_type": "code",
   "execution_count": 2,
   "metadata": {},
   "outputs": [],
   "source": [
    "df_all = pd.read_csv('../data/processed/0.3-feature-processing.csv', parse_dates=['date'], index_col=0)\n",
    "df = df_all[df_all['year'] > 1959]\n",
    "df = df.sort_values(by=['date']).reset_index(drop=True)\n",
    "df = df.set_index('driverRef', append=True)\n",
    "df = df.set_index('finished', append=True)"
   ]
  },
  {
   "cell_type": "code",
   "execution_count": 3,
   "metadata": {},
   "outputs": [],
   "source": [
    "#The dates of the last 5 races of Season 2021\n",
    "race_rounds_dates = {\n",
    "    18: datetime(2021,11,7),\n",
    "    19: datetime(2021,11,14),\n",
    "    20: datetime(2021,11,21),\n",
    "    21: datetime(2021,12,5),\n",
    "    22: datetime(2021,12,12),\n",
    "}\n",
    "\n",
    "#Return Train/test split based on a race date (exclusive)\n",
    "def splitByRaceDate(race_date):\n",
    "    df_train = df.loc[df['date'] < race_date]\n",
    "    df_test = df.loc[df['date'] >= race_date]\n",
    "\n",
    "    X_train = df_train[df_train.columns.difference(['positionOrder', 'date', 'round', 'year'])]\n",
    "    X_test = df_test[df_test.columns.difference(['positionOrder'])]\n",
    "\n",
    "    y_train = df_train['positionOrder']\n",
    "    y_test = df_test[['positionOrder','round']]\n",
    "\n",
    "    return X_train, X_test, y_train, y_test"
   ]
  },
  {
   "cell_type": "code",
   "execution_count": 4,
   "metadata": {},
   "outputs": [],
   "source": [
    "X_train, X_test, y_train, y_test = splitByRaceDate(race_rounds_dates[18])"
   ]
  },
  {
   "cell_type": "code",
   "execution_count": 5,
   "metadata": {},
   "outputs": [
    {
     "data": {
      "text/plain": [
       "23305"
      ]
     },
     "execution_count": 5,
     "metadata": {},
     "output_type": "execute_result"
    }
   ],
   "source": [
    "len(X_train)"
   ]
  },
  {
   "cell_type": "markdown",
   "metadata": {},
   "source": [
    "As ridge regression is used no need to drop first column of one-hot encoding"
   ]
  },
  {
   "cell_type": "code",
   "execution_count": 6,
   "metadata": {},
   "outputs": [],
   "source": [
    "one_hot_encoder = ColumnTransformer([\n",
    "    ('one_hot', OneHotEncoder(drop=None, handle_unknown='ignore'), ['circuitId'])], remainder='passthrough')"
   ]
  },
  {
   "cell_type": "markdown",
   "metadata": {},
   "source": [
    "**Make costume scoring function**"
   ]
  },
  {
   "cell_type": "code",
   "execution_count": 7,
   "metadata": {},
   "outputs": [],
   "source": [
    "def mseScorer(y_true, y_pred):\n",
    "    y_rank = pd.DataFrame(y_pred).rank(method='first')\n",
    "    return mean_squared_error(y_true=y_true, y_pred=y_rank)\n",
    "    \n",
    "mse_scorer = make_scorer(mseScorer, greater_is_better=False)"
   ]
  },
  {
   "cell_type": "code",
   "execution_count": 8,
   "metadata": {},
   "outputs": [],
   "source": [
    "def noRetirementsScorer(y_true, y_pred):\n",
    "    y_true = y_true.reset_index()\n",
    "    y_rank = pd.DataFrame(y_pred).rank(method='first')\n",
    "    y_concat = pd.concat([y_true, y_rank], axis=1)\n",
    "    #print(y_concat.head(20))\n",
    "    y_concat = y_concat[y_concat['finished'] == True]\n",
    "    y_final = y_concat.iloc[:,-2:]\n",
    "    y_final['rank_pred'] = y_final[y_final.columns[1]].rank(method='first')\n",
    "    return mean_squared_error(y_true=y_final['positionOrder'], y_pred=y_final['rank_pred'])\n",
    "\n",
    "no_retirements_scorer = make_scorer(noRetirementsScorer, greater_is_better=False)"
   ]
  },
  {
   "cell_type": "code",
   "execution_count": 9,
   "metadata": {},
   "outputs": [],
   "source": [
    "def gridstartScorer(y_true, y_pred):\n",
    "    y_concat = pd.concat([y_pred, y_true], axis=1, ignore_index=True)\n",
    "    y_concat = y_concat.rename(columns={0:'y_pred',1:'y_true'})\n",
    "    y_concat = y_concat.reset_index(level='finished')\n",
    "    y_concat = y_concat[y_concat.finished == True]\n",
    "    y_concat['pred_rank'] = y_concat['y_pred'].rank(method='first')\n",
    "    return mean_squared_error(y_true=y_concat['y_true'],y_pred=y_concat['pred_rank'])"
   ]
  },
  {
   "cell_type": "code",
   "execution_count": 10,
   "metadata": {},
   "outputs": [],
   "source": [
    "tscv = TimeSeriesSplit(n_splits=55, test_size=20)"
   ]
  },
  {
   "cell_type": "code",
   "execution_count": 11,
   "metadata": {},
   "outputs": [],
   "source": [
    "def calculateGridstartScore(tscv):\n",
    "    mse_scores = []\n",
    "    for _, test_index in tscv.split(X_train):\n",
    "        X_test_cv = X_train.iloc[test_index]\n",
    "        y_test_cv = y_train.iloc[test_index]\n",
    "        score = gridstartScorer(y_test_cv, X_test_cv['gridStart'])\n",
    "        mse_scores.append(score)\n",
    "\n",
    "    return (statistics.mean(mse_scores), mse_scores)"
   ]
  },
  {
   "cell_type": "code",
   "execution_count": 12,
   "metadata": {},
   "outputs": [
    {
     "name": "stdout",
     "output_type": "stream",
     "text": [
      "Gridstart baseline score:  12.421248816542935\n"
     ]
    }
   ],
   "source": [
    "mean_mse_scores, mse_scores = calculateGridstartScore(tscv)\n",
    "print('Gridstart baseline score: ', mean_mse_scores)"
   ]
  },
  {
   "cell_type": "code",
   "execution_count": 13,
   "metadata": {},
   "outputs": [],
   "source": [
    "def gridSearchCV_results(X_train, y_train, cv, scorer, pipeline, param_grid, output):\n",
    "    model = GridSearchCV(\n",
    "        estimator = pipeline,\n",
    "        param_grid = param_grid,\n",
    "        cv=cv,\n",
    "        n_jobs=-1,\n",
    "        scoring=scorer,\n",
    "        verbose=1\n",
    "    )\n",
    "    model.fit(X_train,y_train)\n",
    "    if output:\n",
    "        print('Best parameters:\\n', model.best_params_)\n",
    "        print('Best mean accuracy score in cross-validation:\\n', abs(model.best_score_))\n",
    "    return model.best_estimator_, model.cv_results_"
   ]
  },
  {
   "cell_type": "markdown",
   "metadata": {},
   "source": [
    "### Ridge regression"
   ]
  },
  {
   "cell_type": "code",
   "execution_count": 14,
   "metadata": {},
   "outputs": [],
   "source": [
    "ridge_pipeline = Pipeline([\n",
    "    ('one_hot', one_hot_encoder),\n",
    "    ('model', Ridge(random_state=42))\n",
    "])\n",
    "ridge_param_grid = {\n",
    "    'model__alpha':[0.001, 0.005, 0.01, 0.02, 0.03, 0.05, 0.1, 0.15, 0.2, 0.3, 0.5, 1],\n",
    "}\n",
    "#pipeline.get_params()"
   ]
  },
  {
   "cell_type": "code",
   "execution_count": 15,
   "metadata": {},
   "outputs": [
    {
     "name": "stdout",
     "output_type": "stream",
     "text": [
      "Fitting 55 folds for each of 12 candidates, totalling 660 fits\n",
      "Best parameters:\n",
      " {'model__alpha': 0.01}\n",
      "Best mean accuracy score in cross-validation:\n",
      " 11.385342303035804\n"
     ]
    }
   ],
   "source": [
    "ridgeRegression_model, ridge_cv_results = gridSearchCV_results(X_train, y_train, tscv, no_retirements_scorer, ridge_pipeline, ridge_param_grid, output=True)"
   ]
  },
  {
   "cell_type": "code",
   "execution_count": 16,
   "metadata": {},
   "outputs": [],
   "source": [
    "ridge_cv_results_df = pd.DataFrame(ridge_cv_results)\n",
    "best_score_cv = ridge_cv_results_df.loc[ridge_cv_results_df['rank_test_score'] == 1]\n",
    "\n",
    "best_score_cv_array = best_score_cv.iloc[:,6:-3].values"
   ]
  },
  {
   "cell_type": "code",
   "execution_count": 17,
   "metadata": {},
   "outputs": [
    {
     "data": {
      "text/html": [
       "<div>\n",
       "<style scoped>\n",
       "    .dataframe tbody tr th:only-of-type {\n",
       "        vertical-align: middle;\n",
       "    }\n",
       "\n",
       "    .dataframe tbody tr th {\n",
       "        vertical-align: top;\n",
       "    }\n",
       "\n",
       "    .dataframe thead th {\n",
       "        text-align: right;\n",
       "    }\n",
       "</style>\n",
       "<table border=\"1\" class=\"dataframe\">\n",
       "  <thead>\n",
       "    <tr style=\"text-align: right;\">\n",
       "      <th></th>\n",
       "      <th>mean_fit_time</th>\n",
       "      <th>std_fit_time</th>\n",
       "      <th>mean_score_time</th>\n",
       "      <th>std_score_time</th>\n",
       "      <th>param_model__alpha</th>\n",
       "      <th>params</th>\n",
       "      <th>split0_test_score</th>\n",
       "      <th>split1_test_score</th>\n",
       "      <th>split2_test_score</th>\n",
       "      <th>split3_test_score</th>\n",
       "      <th>...</th>\n",
       "      <th>split48_test_score</th>\n",
       "      <th>split49_test_score</th>\n",
       "      <th>split50_test_score</th>\n",
       "      <th>split51_test_score</th>\n",
       "      <th>split52_test_score</th>\n",
       "      <th>split53_test_score</th>\n",
       "      <th>split54_test_score</th>\n",
       "      <th>mean_test_score</th>\n",
       "      <th>std_test_score</th>\n",
       "      <th>rank_test_score</th>\n",
       "    </tr>\n",
       "  </thead>\n",
       "  <tbody>\n",
       "    <tr>\n",
       "      <th>2</th>\n",
       "      <td>0.049415</td>\n",
       "      <td>0.008996</td>\n",
       "      <td>0.006185</td>\n",
       "      <td>0.003025</td>\n",
       "      <td>0.01</td>\n",
       "      <td>{'model__alpha': 0.01}</td>\n",
       "      <td>-6.823529</td>\n",
       "      <td>-5.125</td>\n",
       "      <td>-7.333333</td>\n",
       "      <td>-2.5</td>\n",
       "      <td>...</td>\n",
       "      <td>-13.846154</td>\n",
       "      <td>-4.6</td>\n",
       "      <td>-6.888889</td>\n",
       "      <td>-8.4</td>\n",
       "      <td>-16.421053</td>\n",
       "      <td>-18.7</td>\n",
       "      <td>-2.941176</td>\n",
       "      <td>-11.385342</td>\n",
       "      <td>7.873358</td>\n",
       "      <td>1</td>\n",
       "    </tr>\n",
       "  </tbody>\n",
       "</table>\n",
       "<p>1 rows × 64 columns</p>\n",
       "</div>"
      ],
      "text/plain": [
       "   mean_fit_time  std_fit_time  mean_score_time  std_score_time  \\\n",
       "2       0.049415      0.008996         0.006185        0.003025   \n",
       "\n",
       "  param_model__alpha                  params  split0_test_score  \\\n",
       "2               0.01  {'model__alpha': 0.01}          -6.823529   \n",
       "\n",
       "   split1_test_score  split2_test_score  split3_test_score  ...  \\\n",
       "2             -5.125          -7.333333               -2.5  ...   \n",
       "\n",
       "   split48_test_score  split49_test_score  split50_test_score  \\\n",
       "2          -13.846154                -4.6           -6.888889   \n",
       "\n",
       "   split51_test_score  split52_test_score  split53_test_score  \\\n",
       "2                -8.4          -16.421053               -18.7   \n",
       "\n",
       "   split54_test_score  mean_test_score  std_test_score  rank_test_score  \n",
       "2           -2.941176       -11.385342        7.873358                1  \n",
       "\n",
       "[1 rows x 64 columns]"
      ]
     },
     "execution_count": 17,
     "metadata": {},
     "output_type": "execute_result"
    }
   ],
   "source": [
    "best_score_cv"
   ]
  },
  {
   "cell_type": "code",
   "execution_count": 18,
   "metadata": {},
   "outputs": [],
   "source": [
    "x = np.absolute(best_score_cv_array)\n",
    "y = list(x.flatten())"
   ]
  },
  {
   "cell_type": "code",
   "execution_count": 19,
   "metadata": {},
   "outputs": [
    {
     "name": "stdout",
     "output_type": "stream",
     "text": [
      "Model cv mean:  11.385342303035804\n",
      "Model cv std:  7.8733575811381575\n",
      "Baseline cv mean:  12.421248816542935\n",
      "Baseline cv std:  9.01221419084654\n"
     ]
    }
   ],
   "source": [
    "print('Model cv mean: ', np.mean(y))\n",
    "print('Model cv std: ', np.std(y))\n",
    "\n",
    "print('Baseline cv mean: ', np.mean(mse_scores))\n",
    "print('Baseline cv std: ', np.std(mse_scores))"
   ]
  },
  {
   "cell_type": "code",
   "execution_count": 20,
   "metadata": {},
   "outputs": [
    {
     "data": {
      "text/plain": [
       "<matplotlib.legend.Legend at 0x155275610>"
      ]
     },
     "execution_count": 20,
     "metadata": {},
     "output_type": "execute_result"
    },
    {
     "data": {
      "image/png": "[encoded data removed]",
      "text/plain": [
       "<Figure size 1332x756 with 1 Axes>"
      ]
     },
     "metadata": {
      "needs_background": "light"
     },
     "output_type": "display_data"
    }
   ],
   "source": [
    "fig, ax = plt.subplots()\n",
    "\n",
    "fig.set_size_inches(18.5, 10.5)\n",
    "\n",
    "ax.plot(y, label='Model prediction')\n",
    "ax.plot(mse_scores, label='Qualifying prediction')\n",
    "\n",
    "ax.hlines(np.mean(y), xmin = 0, xmax= 55, colors='tab:blue', linestyles='dashed', label='Model average')\n",
    "ax.hlines(np.mean(mse_scores), xmin = 0, xmax= 55, colors='tab:orange', linestyles='dashed', label='Baseline average')\n",
    "\n",
    "plt.xlabel('Fold number')\n",
    "plt.ylabel('Error value')\n",
    "\n",
    "plt.legend(loc=\"upper right\")"
   ]
  },
  {
   "cell_type": "markdown",
   "metadata": {},
   "source": [
    "### Random Forest regressor"
   ]
  },
  {
   "cell_type": "code",
   "execution_count": 21,
   "metadata": {},
   "outputs": [],
   "source": [
    "# random_forest_pipeline = Pipeline([\n",
    "#     ('one_hot', one_hot_encoder),\n",
    "#     ('scaler', StandardScaler()),\n",
    "#     ('model', RandomForestRegressor(random_state=42))\n",
    "# ])\n",
    "\n",
    "# random_forest_param_grid = {\n",
    "#     'scaler':['passthrough', StandardScaler(with_mean=False)],\n",
    "#     'model__max_depth':[5,8,10,None],\n",
    "#     'model__min_samples_split':[2,3,4],\n",
    "#     'model__min_samples_leaf': [2,3,4],\n",
    "#     'model__n_estimators':[200],\n",
    "#     'model__max_features':['auto'],\n",
    "# },\n",
    "\n",
    "# random_forest_model = gridSearchCV_results(X_train, y_train, tscv, no_retirements_scorer, random_forest_pipeline, random_forest_param_grid, output=True)"
   ]
  },
  {
   "cell_type": "markdown",
   "metadata": {},
   "source": [
    "## Test on 5 last races of 2021 season"
   ]
  },
  {
   "cell_type": "code",
   "execution_count": 22,
   "metadata": {},
   "outputs": [],
   "source": [
    "def createResultsTable(X_test, y_pred, y_test, round):\n",
    "    X_test = X_test.reset_index()\n",
    "    # X_test = X_test.reset_index(level=['finished'])\n",
    "    #X_test = X_test.reset_index(drop=True)\n",
    "\n",
    "    df_results = pd.concat([X_test[['driverRef','finished','gridStart']], pd.DataFrame(y_pred, columns=['y_pred'])], axis=1)\n",
    "\n",
    "    df_results['rank_pred'] = df_results['y_pred'].rank(method='first').astype(int)\n",
    "    df_results = df_results.drop('y_pred', axis=1)\n",
    "\n",
    "    y_test = y_test.reset_index(level=['driverRef'])\n",
    "\n",
    "    final_result = pd.merge(df_results, y_test[['driverRef','positionOrder']], on=['driverRef'])\n",
    "    final_result = final_result.rename(columns={'positionOrder':'rank_true'})\n",
    "    #final_result['y_pred'] = final_result['y_pred'].round(2)\n",
    "\n",
    "    final_result = final_result.sort_values(by=['gridStart'])\n",
    "    final_result['round'] = round\n",
    "    return final_result"
   ]
  },
  {
   "cell_type": "code",
   "execution_count": 23,
   "metadata": {},
   "outputs": [],
   "source": [
    "df_every_round_results = pd.DataFrame()\n",
    "mse_results = []\n",
    "\n",
    "model = ridgeRegression_model\n",
    "\n",
    "for round, date in race_rounds_dates.items():\n",
    "    X_train, X_test, y_train, y_test = splitByRaceDate(date)\n",
    "    model.fit(X_train, y_train)\n",
    "    \n",
    "    X_test_current_round = X_test.loc[X_test['round'] == round]\n",
    "    y_pred_current_round = model.predict(X_test_current_round)\n",
    "    y_test_current_round = y_test.loc[y_test['round'] == round]\n",
    "\n",
    "    df_results = createResultsTable(X_test_current_round, y_pred_current_round, y_test_current_round, round)\n",
    "    df_every_round_results = df_every_round_results.append(df_results)\n",
    "\n",
    "    model_mse = noRetirementsScorer(y_true=y_test_current_round.iloc[:,:-1], y_pred=y_pred_current_round)\n",
    "    grid_start_mse = noRetirementsScorer(y_true=y_test_current_round.iloc[:,:-1], y_pred=X_test_current_round['gridStart'].to_numpy())\n",
    "    #model_mse =  noRetirementsScorer(y_true=df_results['rank_true'], y_pred=df_results['rank_pred'])\n",
    "    #grid_start_mse = noRetirementsScorer(y_true=df_results['rank_true'], y_pred=df_results['gridStart'])\n",
    "\n",
    "    mse_results.append([round, model_mse, grid_start_mse])\n",
    "\n",
    "mse_results = pd.DataFrame(mse_results, columns=['round', 'model_mse', 'grid_start_mse'])"
   ]
  },
  {
   "cell_type": "code",
   "execution_count": 24,
   "metadata": {},
   "outputs": [
    {
     "data": {
      "text/html": [
       "<div>\n",
       "<style scoped>\n",
       "    .dataframe tbody tr th:only-of-type {\n",
       "        vertical-align: middle;\n",
       "    }\n",
       "\n",
       "    .dataframe tbody tr th {\n",
       "        vertical-align: top;\n",
       "    }\n",
       "\n",
       "    .dataframe thead th {\n",
       "        text-align: right;\n",
       "    }\n",
       "</style>\n",
       "<table border=\"1\" class=\"dataframe\">\n",
       "  <thead>\n",
       "    <tr style=\"text-align: right;\">\n",
       "      <th></th>\n",
       "      <th>round</th>\n",
       "      <th>model_mse</th>\n",
       "      <th>grid_start_mse</th>\n",
       "    </tr>\n",
       "  </thead>\n",
       "  <tbody>\n",
       "    <tr>\n",
       "      <th>0</th>\n",
       "      <td>18</td>\n",
       "      <td>21.000000</td>\n",
       "      <td>19.666667</td>\n",
       "    </tr>\n",
       "    <tr>\n",
       "      <th>1</th>\n",
       "      <td>19</td>\n",
       "      <td>6.111111</td>\n",
       "      <td>10.222222</td>\n",
       "    </tr>\n",
       "    <tr>\n",
       "      <th>2</th>\n",
       "      <td>20</td>\n",
       "      <td>10.000000</td>\n",
       "      <td>14.555556</td>\n",
       "    </tr>\n",
       "    <tr>\n",
       "      <th>3</th>\n",
       "      <td>21</td>\n",
       "      <td>9.600000</td>\n",
       "      <td>12.000000</td>\n",
       "    </tr>\n",
       "    <tr>\n",
       "      <th>4</th>\n",
       "      <td>22</td>\n",
       "      <td>20.500000</td>\n",
       "      <td>15.875000</td>\n",
       "    </tr>\n",
       "  </tbody>\n",
       "</table>\n",
       "</div>"
      ],
      "text/plain": [
       "   round  model_mse  grid_start_mse\n",
       "0     18  21.000000       19.666667\n",
       "1     19   6.111111       10.222222\n",
       "2     20  10.000000       14.555556\n",
       "3     21   9.600000       12.000000\n",
       "4     22  20.500000       15.875000"
      ]
     },
     "execution_count": 24,
     "metadata": {},
     "output_type": "execute_result"
    }
   ],
   "source": [
    "mse_results"
   ]
  },
  {
   "cell_type": "code",
   "execution_count": 25,
   "metadata": {},
   "outputs": [
    {
     "data": {
      "text/html": [
       "<div>\n",
       "<style scoped>\n",
       "    .dataframe tbody tr th:only-of-type {\n",
       "        vertical-align: middle;\n",
       "    }\n",
       "\n",
       "    .dataframe tbody tr th {\n",
       "        vertical-align: top;\n",
       "    }\n",
       "\n",
       "    .dataframe thead th {\n",
       "        text-align: right;\n",
       "    }\n",
       "</style>\n",
       "<table border=\"1\" class=\"dataframe\">\n",
       "  <thead>\n",
       "    <tr style=\"text-align: right;\">\n",
       "      <th></th>\n",
       "      <th>driverRef</th>\n",
       "      <th>finished</th>\n",
       "      <th>gridStart</th>\n",
       "      <th>rank_pred</th>\n",
       "      <th>rank_true</th>\n",
       "      <th>round</th>\n",
       "    </tr>\n",
       "  </thead>\n",
       "  <tbody>\n",
       "    <tr>\n",
       "      <th>0</th>\n",
       "      <td>bottas</td>\n",
       "      <td>True</td>\n",
       "      <td>1</td>\n",
       "      <td>2</td>\n",
       "      <td>15</td>\n",
       "      <td>18</td>\n",
       "    </tr>\n",
       "    <tr>\n",
       "      <th>1</th>\n",
       "      <td>hamilton</td>\n",
       "      <td>True</td>\n",
       "      <td>2</td>\n",
       "      <td>1</td>\n",
       "      <td>2</td>\n",
       "      <td>18</td>\n",
       "    </tr>\n",
       "    <tr>\n",
       "      <th>2</th>\n",
       "      <td>max_verstappen</td>\n",
       "      <td>True</td>\n",
       "      <td>3</td>\n",
       "      <td>3</td>\n",
       "      <td>1</td>\n",
       "      <td>18</td>\n",
       "    </tr>\n",
       "    <tr>\n",
       "      <th>3</th>\n",
       "      <td>perez</td>\n",
       "      <td>True</td>\n",
       "      <td>4</td>\n",
       "      <td>4</td>\n",
       "      <td>3</td>\n",
       "      <td>18</td>\n",
       "    </tr>\n",
       "    <tr>\n",
       "      <th>4</th>\n",
       "      <td>gasly</td>\n",
       "      <td>True</td>\n",
       "      <td>5</td>\n",
       "      <td>11</td>\n",
       "      <td>4</td>\n",
       "      <td>18</td>\n",
       "    </tr>\n",
       "    <tr>\n",
       "      <th>...</th>\n",
       "      <td>...</td>\n",
       "      <td>...</td>\n",
       "      <td>...</td>\n",
       "      <td>...</td>\n",
       "      <td>...</td>\n",
       "      <td>...</td>\n",
       "    </tr>\n",
       "    <tr>\n",
       "      <th>95</th>\n",
       "      <td>latifi</td>\n",
       "      <td>False</td>\n",
       "      <td>16</td>\n",
       "      <td>17</td>\n",
       "      <td>16</td>\n",
       "      <td>22</td>\n",
       "    </tr>\n",
       "    <tr>\n",
       "      <th>96</th>\n",
       "      <td>russell</td>\n",
       "      <td>False</td>\n",
       "      <td>17</td>\n",
       "      <td>18</td>\n",
       "      <td>18</td>\n",
       "      <td>22</td>\n",
       "    </tr>\n",
       "    <tr>\n",
       "      <th>97</th>\n",
       "      <td>raikkonen</td>\n",
       "      <td>False</td>\n",
       "      <td>18</td>\n",
       "      <td>15</td>\n",
       "      <td>19</td>\n",
       "      <td>22</td>\n",
       "    </tr>\n",
       "    <tr>\n",
       "      <th>98</th>\n",
       "      <td>mick_schumacher</td>\n",
       "      <td>True</td>\n",
       "      <td>19</td>\n",
       "      <td>19</td>\n",
       "      <td>14</td>\n",
       "      <td>22</td>\n",
       "    </tr>\n",
       "    <tr>\n",
       "      <th>99</th>\n",
       "      <td>mazepin</td>\n",
       "      <td>True</td>\n",
       "      <td>20</td>\n",
       "      <td>20</td>\n",
       "      <td>20</td>\n",
       "      <td>22</td>\n",
       "    </tr>\n",
       "  </tbody>\n",
       "</table>\n",
       "<p>100 rows × 6 columns</p>\n",
       "</div>"
      ],
      "text/plain": [
       "          driverRef  finished  gridStart  rank_pred  rank_true  round\n",
       "0            bottas      True          1          2         15     18\n",
       "1          hamilton      True          2          1          2     18\n",
       "2    max_verstappen      True          3          3          1     18\n",
       "3             perez      True          4          4          3     18\n",
       "4             gasly      True          5         11          4     18\n",
       "..              ...       ...        ...        ...        ...    ...\n",
       "95           latifi     False         16         17         16     22\n",
       "96          russell     False         17         18         18     22\n",
       "97        raikkonen     False         18         15         19     22\n",
       "98  mick_schumacher      True         19         19         14     22\n",
       "99          mazepin      True         20         20         20     22\n",
       "\n",
       "[100 rows x 6 columns]"
      ]
     },
     "execution_count": 25,
     "metadata": {},
     "output_type": "execute_result"
    }
   ],
   "source": [
    "df_every_round_results.reset_index(drop=True)"
   ]
  },
  {
   "cell_type": "code",
   "execution_count": 26,
   "metadata": {},
   "outputs": [],
   "source": [
    "df_every_round_results.to_csv('../data/processed/0.4-test_results.csv', index=False)"
   ]
  }
 ],
 "metadata": {
  "interpreter": {
   "hash": "5675cb18eb1443b8369002c5f545df601e18a8d4e2c974b1cb42f0d4601b5184"
  },
  "kernelspec": {
   "display_name": "Python 3.9.7 64-bit ('machine-learning': conda)",
   "language": "python",
   "name": "python3"
  },
  "language_info": {
   "codemirror_mode": {
    "name": "ipython",
    "version": 3
   },
   "file_extension": ".py",
   "mimetype": "text/x-python",
   "name": "python",
   "nbconvert_exporter": "python",
   "pygments_lexer": "ipython3",
   "version": "3.9.7"
  },
  "orig_nbformat": 4
 },
 "nbformat": 4,
 "nbformat_minor": 2
}
