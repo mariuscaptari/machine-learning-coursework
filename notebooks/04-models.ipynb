{
 "cells": [
  {
   "cell_type": "code",
   "execution_count": 1,
   "metadata": {},
   "outputs": [],
   "source": [
    "import pandas as pd\n",
    "import numpy as np\n",
    "import statistics\n",
    "\n",
    "from datetime import datetime\n",
    "\n",
    "from sklearn.pipeline import Pipeline\n",
    "from sklearn.compose import ColumnTransformer\n",
    "from sklearn.preprocessing import OneHotEncoder\n",
    "from sklearn.model_selection import TimeSeriesSplit, GridSearchCV\n",
    "from sklearn.linear_model import Ridge\n",
    "from sklearn.ensemble import RandomForestRegressor\n",
    "from sklearn.metrics import mean_squared_error, make_scorer\n",
    "\n",
    "from sklearn.feature_selection import SelectKBest, f_regression\n",
    "\n",
    "from sklearn import set_config\n",
    "\n",
    "import matplotlib.pyplot as plt\n",
    "\n",
    "# plt.rcParams.update({\n",
    "#     \"text.usetex\": True,\n",
    "#     \"font.family\": \"sans-serif\",\n",
    "#     \"font.sans-serif\": [\"Helvetica\"]})\n",
    "\n",
    "plt.rcParams['font.family'] = 'serif'\n",
    "plt.rcParams.update({'font.size': 14})\n",
    "\n",
    "%matplotlib inline\n",
    "\n",
    "set_config(display='diagram')"
   ]
  },
  {
   "cell_type": "code",
   "execution_count": 2,
   "metadata": {},
   "outputs": [],
   "source": [
    "df_all = pd.read_csv('../data/processed/0.3-feature-processing.csv', parse_dates=['date'], index_col=0)\n",
    "df = df_all[df_all['year'] > 1959]\n",
    "df = df.sort_values(by=['date']).reset_index(drop=True)\n",
    "df = df.set_index('driverRef', append=True)\n",
    "df = df.set_index('finished', append=True)"
   ]
  },
  {
   "cell_type": "code",
   "execution_count": 3,
   "metadata": {},
   "outputs": [],
   "source": [
    "#The dates of the last 5 races of Season 2021\n",
    "race_rounds_dates = {\n",
    "    18: datetime(2021,11,7),\n",
    "    19: datetime(2021,11,14),\n",
    "    20: datetime(2021,11,21),\n",
    "    21: datetime(2021,12,5),\n",
    "    22: datetime(2021,12,12),\n",
    "}\n",
    "\n",
    "#Return Train/test split based on a race date (exclusive)\n",
    "def splitByRaceDate(race_date):\n",
    "    df_train = df.loc[df['date'] < race_date]\n",
    "    df_test = df.loc[df['date'] >= race_date]\n",
    "\n",
    "    X_train = df_train[df_train.columns.difference(['positionOrder', 'date', 'round', 'year'])]\n",
    "    X_test = df_test[df_test.columns.difference(['positionOrder'])]\n",
    "\n",
    "    y_train = df_train['positionOrder']\n",
    "    y_test = df_test[['positionOrder','round']]\n",
    "\n",
    "    return X_train, X_test, y_train, y_test"
   ]
  },
  {
   "cell_type": "markdown",
   "metadata": {},
   "source": [
    "**Split train and test data for cross-validation**"
   ]
  },
  {
   "cell_type": "code",
   "execution_count": 4,
   "metadata": {},
   "outputs": [],
   "source": [
    "X_train, X_test, y_train, y_test = splitByRaceDate(race_rounds_dates[18])"
   ]
  },
  {
   "cell_type": "code",
   "execution_count": 5,
   "metadata": {},
   "outputs": [],
   "source": [
    "num_cols = len(X_train.columns) -1"
   ]
  },
  {
   "cell_type": "code",
   "execution_count": 6,
   "metadata": {},
   "outputs": [],
   "source": [
    "numerics = ['int16', 'int32', 'int64', 'float16', 'float32', 'float64']\n",
    "numeric_features_df = X_train.select_dtypes(include=numerics)"
   ]
  },
  {
   "cell_type": "code",
   "execution_count": 7,
   "metadata": {},
   "outputs": [],
   "source": [
    "numeric_features = list(numeric_features_df.columns)"
   ]
  },
  {
   "cell_type": "markdown",
   "metadata": {},
   "source": [
    "**Make costume scoring function**"
   ]
  },
  {
   "cell_type": "code",
   "execution_count": 8,
   "metadata": {},
   "outputs": [],
   "source": [
    "def mseScorer(y_true, y_pred):\n",
    "    y_rank = pd.DataFrame(y_pred).rank(method='first')\n",
    "    return mean_squared_error(y_true=y_true, y_pred=y_rank)\n",
    "    \n",
    "mse_scorer = make_scorer(mseScorer, greater_is_better=False)"
   ]
  },
  {
   "cell_type": "code",
   "execution_count": 9,
   "metadata": {},
   "outputs": [],
   "source": [
    "def noRetirementsScorer(y_true, y_pred):\n",
    "    y_true = y_true.reset_index()\n",
    "    y_rank = pd.DataFrame(y_pred).rank(method='first')\n",
    "    y_concat = pd.concat([y_true, y_rank], axis=1)\n",
    "    #print(y_concat.head(20))\n",
    "    y_concat = y_concat[y_concat['finished'] == True]\n",
    "    y_final = y_concat.iloc[:,-2:]\n",
    "    y_final['rank_pred'] = y_final[y_final.columns[1]].rank(method='first')\n",
    "    return mean_squared_error(y_true=y_final['positionOrder'], y_pred=y_final['rank_pred'])\n",
    "\n",
    "no_retirements_scorer = make_scorer(noRetirementsScorer, greater_is_better=False)"
   ]
  },
  {
   "cell_type": "code",
   "execution_count": 10,
   "metadata": {},
   "outputs": [],
   "source": [
    "def gridstartScorer(y_true, y_pred):\n",
    "    y_concat = pd.concat([y_pred, y_true], axis=1, ignore_index=True)\n",
    "    y_concat = y_concat.rename(columns={0:'y_pred',1:'y_true'})\n",
    "    y_concat = y_concat.reset_index(level='finished')\n",
    "    y_concat = y_concat[y_concat.finished == True]\n",
    "    y_concat['pred_rank'] = y_concat['y_pred'].rank(method='first')\n",
    "    return mean_squared_error(y_true=y_concat['y_true'],y_pred=y_concat['pred_rank'])"
   ]
  },
  {
   "cell_type": "markdown",
   "metadata": {},
   "source": [
    "**Make timeseries cross-validation split, where each split consists of 20 drivers = 1 race**"
   ]
  },
  {
   "cell_type": "code",
   "execution_count": 11,
   "metadata": {},
   "outputs": [],
   "source": [
    "tscv = TimeSeriesSplit(n_splits=55, test_size=20)"
   ]
  },
  {
   "cell_type": "code",
   "execution_count": 12,
   "metadata": {},
   "outputs": [],
   "source": [
    "def calculateGridstartScore(tscv):\n",
    "    mse_scores = []\n",
    "    for _, test_index in tscv.split(X_train):\n",
    "        X_test_cv = X_train.iloc[test_index]\n",
    "        y_test_cv = y_train.iloc[test_index]\n",
    "        score = gridstartScorer(y_test_cv, X_test_cv['gridStart'])\n",
    "        mse_scores.append(score)\n",
    "\n",
    "    return (statistics.mean(mse_scores), mse_scores)"
   ]
  },
  {
   "cell_type": "markdown",
   "metadata": {},
   "source": [
    "**Calculate the score for the baseline model over the cross-validation races**"
   ]
  },
  {
   "cell_type": "code",
   "execution_count": 13,
   "metadata": {},
   "outputs": [
    {
     "name": "stdout",
     "output_type": "stream",
     "text": [
      "Gridstart baseline score:  12.421248816542935\n"
     ]
    }
   ],
   "source": [
    "mean_mse_scores, mse_scores = calculateGridstartScore(tscv)\n",
    "print('Gridstart baseline score: ', mean_mse_scores)"
   ]
  },
  {
   "cell_type": "code",
   "execution_count": 14,
   "metadata": {},
   "outputs": [],
   "source": [
    "def gridSearchCV_results(X_train, y_train, cv, scorer, pipeline, param_grid, output):\n",
    "    model = GridSearchCV(\n",
    "        estimator = pipeline,\n",
    "        param_grid = param_grid,\n",
    "        cv=cv,\n",
    "        n_jobs=-1,\n",
    "        scoring=scorer,\n",
    "        verbose=1\n",
    "    )\n",
    "    model.fit(X_train,y_train)\n",
    "    if output:\n",
    "        print('Best parameters:\\n', model.best_params_)\n",
    "        print('Best mean accuracy score in cross-validation:\\n', abs(model.best_score_))\n",
    "    return model.best_estimator_, model.cv_results_"
   ]
  },
  {
   "cell_type": "markdown",
   "metadata": {},
   "source": [
    "**Ridge regression**"
   ]
  },
  {
   "cell_type": "code",
   "execution_count": 15,
   "metadata": {},
   "outputs": [],
   "source": [
    "trans = ColumnTransformer(\n",
    "    [('one_hot', OneHotEncoder(drop=None, handle_unknown='ignore'), ['circuitName']),\n",
    "    ('k_best',  SelectKBest(f_regression), numeric_features)]\n",
    "    )"
   ]
  },
  {
   "cell_type": "code",
   "execution_count": 16,
   "metadata": {},
   "outputs": [],
   "source": [
    "num_cols = len(X_train.columns) -1\n",
    "ridge_pipeline = Pipeline([\n",
    "    ('col_trans', trans),\n",
    "    ('model', Ridge(random_state=42))\n",
    "])\n",
    "ridge_param_grid = {\n",
    "    'col_trans__k_best__k': range(1,num_cols,2),\n",
    "    'model__alpha':[0.001, 0.005, 0.01, 0.02, 0.03, 0.05, 0.1, 0.15, 0.2, 0.3, 0.5, 1],\n",
    "}\n",
    "#pipeline.get_params()"
   ]
  },
  {
   "cell_type": "code",
   "execution_count": 17,
   "metadata": {},
   "outputs": [
    {
     "name": "stdout",
     "output_type": "stream",
     "text": [
      "Fitting 55 folds for each of 120 candidates, totalling 6600 fits\n",
      "Best parameters:\n",
      " {'col_trans__k_best__k': 13, 'model__alpha': 0.001}\n",
      "Best mean accuracy score in cross-validation:\n",
      " 11.269621324667762\n"
     ]
    }
   ],
   "source": [
    "ridgeRegression_model, ridge_cv_results = gridSearchCV_results(X_train, y_train, tscv, no_retirements_scorer, ridge_pipeline, ridge_param_grid, output=True)"
   ]
  },
  {
   "cell_type": "code",
   "execution_count": 18,
   "metadata": {},
   "outputs": [],
   "source": [
    "ridge_cv_results_df = pd.DataFrame(ridge_cv_results)\n",
    "best_score_cv = ridge_cv_results_df.loc[ridge_cv_results_df['rank_test_score'] == 1]\n",
    "\n",
    "best_score_cv = best_score_cv.head(1)\n",
    "\n",
    "best_score_cv_array = best_score_cv.iloc[:,7:-3].values"
   ]
  },
  {
   "cell_type": "code",
   "execution_count": 19,
   "metadata": {},
   "outputs": [],
   "source": [
    "# ridge_cv_results_df.loc[ridge_cv_results_df['rank_test_score'] == 1]"
   ]
  },
  {
   "cell_type": "code",
   "execution_count": 20,
   "metadata": {},
   "outputs": [
    {
     "name": "stdout",
     "output_type": "stream",
     "text": [
      "All features:\n",
      "['ageAtDebut' 'ageAtRace' 'constructorStandingsPosition'\n",
      " 'constructorStandingsWins' 'driverStandingsPosition'\n",
      " 'driverStandingsWins' 'gridStart' 'lastRaceRank' 'percentRetired'\n",
      " 'percentageOfBestQuali' 'polePositions' 'posGainedLastRace'\n",
      " 'previousRaceGridStart' 'previousRacePosition' 'racesFinished'\n",
      " 'racesRetired' 'racesRetiredByConstructor' 'racesWon'\n",
      " 'racesWonByConstructor' 'racingAtHome' 'yearsExperience']\n",
      "Selected best 13:\n",
      "['ageAtDebut' 'constructorStandingsPosition' 'constructorStandingsWins'\n",
      " 'driverStandingsPosition' 'driverStandingsWins' 'gridStart'\n",
      " 'polePositions' 'previousRacePosition' 'racesFinished'\n",
      " 'racesRetiredByConstructor' 'racesWon' 'racesWonByConstructor'\n",
      " 'yearsExperience']\n"
     ]
    }
   ],
   "source": [
    "number_k_best_features = int(best_score_cv['param_col_trans__k_best__k'])\n",
    "select = SelectKBest(f_regression, k = number_k_best_features)\n",
    "z = select.fit_transform(X_train[numeric_features], y_train)\n",
    "\n",
    "filter = select.get_support()\n",
    "features = np.array(X_train[numeric_features].columns)\n",
    " \n",
    "print(\"All features:\")\n",
    "print(features)\n",
    " \n",
    "print(\"Selected best \" + str(number_k_best_features) + \":\")\n",
    "print(features[filter])"
   ]
  },
  {
   "cell_type": "code",
   "execution_count": 21,
   "metadata": {},
   "outputs": [],
   "source": [
    "x = np.absolute(best_score_cv_array)\n",
    "y = list(x.flatten())"
   ]
  },
  {
   "cell_type": "markdown",
   "metadata": {},
   "source": [
    "**Get statistics for validation set for best model and baseline**"
   ]
  },
  {
   "cell_type": "code",
   "execution_count": 22,
   "metadata": {},
   "outputs": [
    {
     "name": "stdout",
     "output_type": "stream",
     "text": [
      "Model cv mean:  11.27\n",
      "Model cv std:  7.98\n",
      "Baseline cv mean:  12.42\n",
      "Baseline cv std:  9.01\n"
     ]
    }
   ],
   "source": [
    "print('Model cv mean: ', round(np.mean(y),2))\n",
    "print('Model cv std: ', round(np.std(y),2))\n",
    "\n",
    "print('Baseline cv mean: ', round(np.mean(mse_scores),2))\n",
    "print('Baseline cv std: ', round(np.std(mse_scores),2))"
   ]
  },
  {
   "cell_type": "markdown",
   "metadata": {},
   "source": [
    "**Plot model and baseline error across races in the validation set**"
   ]
  },
  {
   "cell_type": "code",
   "execution_count": 23,
   "metadata": {},
   "outputs": [
    {
     "name": "stderr",
     "output_type": "stream",
     "text": [
      "The PostScript backend does not support transparency; partially transparent artists will be rendered opaque.\n"
     ]
    },
    {
     "data": {
      "image/png": "[encoded data removed]",
      "text/plain": [
       "<Figure size 720x576 with 1 Axes>"
      ]
     },
     "metadata": {
      "needs_background": "light"
     },
     "output_type": "display_data"
    }
   ],
   "source": [
    "fig, ax = plt.subplots()\n",
    "\n",
    "fig.set_size_inches(10, 8)\n",
    "\n",
    "ax.plot(y, label='Model prediction')\n",
    "ax.plot(mse_scores, label='Qualifying prediction')\n",
    "\n",
    "ax.hlines(np.mean(y), xmin = 0, xmax= 55, colors='tab:blue', linestyles='dashed', label='Model average')\n",
    "ax.hlines(np.mean(mse_scores), xmin = 0, xmax= 55, colors='tab:orange', linestyles='dashed', label='Baseline average')\n",
    "\n",
    "plt.xlabel('Fold number', fontsize=20)\n",
    "plt.ylabel('Error value', fontsize=20)\n",
    "\n",
    "plt.legend(loc=\"upper right\", prop={'size': 15})\n",
    "\n",
    "\n",
    "plt.savefig(\"../reports/figures/cv_results\" + \".eps\")"
   ]
  },
  {
   "cell_type": "markdown",
   "metadata": {},
   "source": [
    "### Random Forest regressor"
   ]
  },
  {
   "cell_type": "code",
   "execution_count": 24,
   "metadata": {},
   "outputs": [],
   "source": [
    "# random_forest_pipeline = Pipeline([\n",
    "#     ('one_hot', one_hot_encoder),\n",
    "#     ('scaler', StandardScaler()),\n",
    "#     ('model', RandomForestRegressor(random_state=42))\n",
    "# ])\n",
    "\n",
    "# random_forest_param_grid = {\n",
    "#     'scaler':['passthrough', StandardScaler(with_mean=False)],\n",
    "#     'model__max_depth':[5,8,10,None],\n",
    "#     'model__min_samples_split':[2,3,4],\n",
    "#     'model__min_samples_leaf': [2,3,4],\n",
    "#     'model__n_estimators':[200],\n",
    "#     'model__max_features':['auto'],\n",
    "# },\n",
    "\n",
    "# random_forest_model = gridSearchCV_results(X_train, y_train, tscv, no_retirements_scorer, random_forest_pipeline, random_forest_param_grid, output=True)"
   ]
  },
  {
   "cell_type": "markdown",
   "metadata": {},
   "source": [
    "**Test on 5 last races of 2021 season**"
   ]
  },
  {
   "cell_type": "code",
   "execution_count": 25,
   "metadata": {},
   "outputs": [],
   "source": [
    "def createResultsTable(X_test, y_pred, y_test, round):\n",
    "    X_test = X_test.reset_index()\n",
    "    # X_test = X_test.reset_index(level=['finished'])\n",
    "    #X_test = X_test.reset_index(drop=True)\n",
    "\n",
    "    df_results = pd.concat([X_test[['driverRef','finished','gridStart']], pd.DataFrame(y_pred, columns=['y_pred'])], axis=1)\n",
    "\n",
    "    df_results['rank_pred'] = df_results['y_pred'].rank(method='first').astype(int)\n",
    "    df_results = df_results.drop('y_pred', axis=1)\n",
    "\n",
    "    y_test = y_test.reset_index(level=['driverRef'])\n",
    "\n",
    "    final_result = pd.merge(df_results, y_test[['driverRef','positionOrder']], on=['driverRef'])\n",
    "    final_result = final_result.rename(columns={'positionOrder':'rank_true'})\n",
    "    #final_result['y_pred'] = final_result['y_pred'].round(2)\n",
    "\n",
    "    final_result = final_result.sort_values(by=['gridStart'])\n",
    "    final_result['round'] = round\n",
    "    return final_result"
   ]
  },
  {
   "cell_type": "code",
   "execution_count": 26,
   "metadata": {},
   "outputs": [],
   "source": [
    "df_every_round_results = pd.DataFrame()\n",
    "test_results = []\n",
    "\n",
    "model = ridgeRegression_model\n",
    "\n",
    "for round, date in race_rounds_dates.items():\n",
    "    X_train, X_test, y_train, y_test = splitByRaceDate(date)\n",
    "    model.fit(X_train, y_train)\n",
    "    \n",
    "    X_test_current_round = X_test.loc[X_test['round'] == round]\n",
    "    y_pred_current_round = model.predict(X_test_current_round)\n",
    "    y_test_current_round = y_test.loc[y_test['round'] == round]\n",
    "\n",
    "    df_results = createResultsTable(X_test_current_round, y_pred_current_round, y_test_current_round, round)\n",
    "    df_every_round_results = df_every_round_results.append(df_results)\n",
    "\n",
    "    model_mse = noRetirementsScorer(y_true=y_test_current_round.iloc[:,:-1], y_pred=y_pred_current_round)\n",
    "    grid_start_mse = noRetirementsScorer(y_true=y_test_current_round.iloc[:,:-1], y_pred=X_test_current_round['gridStart'].to_numpy())\n",
    "    #model_mse =  noRetirementsScorer(y_true=df_results['rank_true'], y_pred=df_results['rank_pred'])\n",
    "    #grid_start_mse = noRetirementsScorer(y_true=df_results['rank_true'], y_pred=df_results['gridStart'])\n",
    "\n",
    "    test_results.append([round, model_mse, grid_start_mse])\n",
    "\n",
    "test_results = pd.DataFrame(test_results, columns=['round', 'model_error', 'baseline_error'])"
   ]
  },
  {
   "cell_type": "code",
   "execution_count": 27,
   "metadata": {},
   "outputs": [
    {
     "data": {
      "text/html": [
       "<div>\n",
       "<style scoped>\n",
       "    .dataframe tbody tr th:only-of-type {\n",
       "        vertical-align: middle;\n",
       "    }\n",
       "\n",
       "    .dataframe tbody tr th {\n",
       "        vertical-align: top;\n",
       "    }\n",
       "\n",
       "    .dataframe thead th {\n",
       "        text-align: right;\n",
       "    }\n",
       "</style>\n",
       "<table border=\"1\" class=\"dataframe\">\n",
       "  <thead>\n",
       "    <tr style=\"text-align: right;\">\n",
       "      <th></th>\n",
       "      <th>round</th>\n",
       "      <th>model_error</th>\n",
       "      <th>baseline_error</th>\n",
       "    </tr>\n",
       "  </thead>\n",
       "  <tbody>\n",
       "    <tr>\n",
       "      <th>0</th>\n",
       "      <td>18</td>\n",
       "      <td>17.111111</td>\n",
       "      <td>19.666667</td>\n",
       "    </tr>\n",
       "    <tr>\n",
       "      <th>1</th>\n",
       "      <td>19</td>\n",
       "      <td>4.444444</td>\n",
       "      <td>10.222222</td>\n",
       "    </tr>\n",
       "    <tr>\n",
       "      <th>2</th>\n",
       "      <td>20</td>\n",
       "      <td>10.111111</td>\n",
       "      <td>14.555556</td>\n",
       "    </tr>\n",
       "    <tr>\n",
       "      <th>3</th>\n",
       "      <td>21</td>\n",
       "      <td>12.533333</td>\n",
       "      <td>12.000000</td>\n",
       "    </tr>\n",
       "    <tr>\n",
       "      <th>4</th>\n",
       "      <td>22</td>\n",
       "      <td>19.375000</td>\n",
       "      <td>15.875000</td>\n",
       "    </tr>\n",
       "  </tbody>\n",
       "</table>\n",
       "</div>"
      ],
      "text/plain": [
       "   round  model_error  baseline_error\n",
       "0     18    17.111111       19.666667\n",
       "1     19     4.444444       10.222222\n",
       "2     20    10.111111       14.555556\n",
       "3     21    12.533333       12.000000\n",
       "4     22    19.375000       15.875000"
      ]
     },
     "execution_count": 27,
     "metadata": {},
     "output_type": "execute_result"
    }
   ],
   "source": [
    "test_results"
   ]
  },
  {
   "cell_type": "code",
   "execution_count": 28,
   "metadata": {},
   "outputs": [
    {
     "data": {
      "text/html": [
       "<div>\n",
       "<style scoped>\n",
       "    .dataframe tbody tr th:only-of-type {\n",
       "        vertical-align: middle;\n",
       "    }\n",
       "\n",
       "    .dataframe tbody tr th {\n",
       "        vertical-align: top;\n",
       "    }\n",
       "\n",
       "    .dataframe thead th {\n",
       "        text-align: right;\n",
       "    }\n",
       "</style>\n",
       "<table border=\"1\" class=\"dataframe\">\n",
       "  <thead>\n",
       "    <tr style=\"text-align: right;\">\n",
       "      <th></th>\n",
       "      <th>driverRef</th>\n",
       "      <th>finished</th>\n",
       "      <th>gridStart</th>\n",
       "      <th>rank_pred</th>\n",
       "      <th>rank_true</th>\n",
       "      <th>round</th>\n",
       "    </tr>\n",
       "  </thead>\n",
       "  <tbody>\n",
       "    <tr>\n",
       "      <th>0</th>\n",
       "      <td>bottas</td>\n",
       "      <td>True</td>\n",
       "      <td>1</td>\n",
       "      <td>3</td>\n",
       "      <td>15</td>\n",
       "      <td>18</td>\n",
       "    </tr>\n",
       "    <tr>\n",
       "      <th>1</th>\n",
       "      <td>hamilton</td>\n",
       "      <td>True</td>\n",
       "      <td>2</td>\n",
       "      <td>1</td>\n",
       "      <td>2</td>\n",
       "      <td>18</td>\n",
       "    </tr>\n",
       "    <tr>\n",
       "      <th>2</th>\n",
       "      <td>max_verstappen</td>\n",
       "      <td>True</td>\n",
       "      <td>3</td>\n",
       "      <td>2</td>\n",
       "      <td>1</td>\n",
       "      <td>18</td>\n",
       "    </tr>\n",
       "    <tr>\n",
       "      <th>3</th>\n",
       "      <td>perez</td>\n",
       "      <td>True</td>\n",
       "      <td>4</td>\n",
       "      <td>4</td>\n",
       "      <td>3</td>\n",
       "      <td>18</td>\n",
       "    </tr>\n",
       "    <tr>\n",
       "      <th>4</th>\n",
       "      <td>gasly</td>\n",
       "      <td>True</td>\n",
       "      <td>5</td>\n",
       "      <td>9</td>\n",
       "      <td>4</td>\n",
       "      <td>18</td>\n",
       "    </tr>\n",
       "    <tr>\n",
       "      <th>...</th>\n",
       "      <td>...</td>\n",
       "      <td>...</td>\n",
       "      <td>...</td>\n",
       "      <td>...</td>\n",
       "      <td>...</td>\n",
       "      <td>...</td>\n",
       "    </tr>\n",
       "    <tr>\n",
       "      <th>95</th>\n",
       "      <td>latifi</td>\n",
       "      <td>False</td>\n",
       "      <td>16</td>\n",
       "      <td>17</td>\n",
       "      <td>16</td>\n",
       "      <td>22</td>\n",
       "    </tr>\n",
       "    <tr>\n",
       "      <th>96</th>\n",
       "      <td>russell</td>\n",
       "      <td>False</td>\n",
       "      <td>17</td>\n",
       "      <td>18</td>\n",
       "      <td>18</td>\n",
       "      <td>22</td>\n",
       "    </tr>\n",
       "    <tr>\n",
       "      <th>97</th>\n",
       "      <td>raikkonen</td>\n",
       "      <td>False</td>\n",
       "      <td>18</td>\n",
       "      <td>15</td>\n",
       "      <td>19</td>\n",
       "      <td>22</td>\n",
       "    </tr>\n",
       "    <tr>\n",
       "      <th>98</th>\n",
       "      <td>mick_schumacher</td>\n",
       "      <td>True</td>\n",
       "      <td>19</td>\n",
       "      <td>19</td>\n",
       "      <td>14</td>\n",
       "      <td>22</td>\n",
       "    </tr>\n",
       "    <tr>\n",
       "      <th>99</th>\n",
       "      <td>mazepin</td>\n",
       "      <td>True</td>\n",
       "      <td>20</td>\n",
       "      <td>20</td>\n",
       "      <td>20</td>\n",
       "      <td>22</td>\n",
       "    </tr>\n",
       "  </tbody>\n",
       "</table>\n",
       "<p>100 rows × 6 columns</p>\n",
       "</div>"
      ],
      "text/plain": [
       "          driverRef  finished  gridStart  rank_pred  rank_true  round\n",
       "0            bottas      True          1          3         15     18\n",
       "1          hamilton      True          2          1          2     18\n",
       "2    max_verstappen      True          3          2          1     18\n",
       "3             perez      True          4          4          3     18\n",
       "4             gasly      True          5          9          4     18\n",
       "..              ...       ...        ...        ...        ...    ...\n",
       "95           latifi     False         16         17         16     22\n",
       "96          russell     False         17         18         18     22\n",
       "97        raikkonen     False         18         15         19     22\n",
       "98  mick_schumacher      True         19         19         14     22\n",
       "99          mazepin      True         20         20         20     22\n",
       "\n",
       "[100 rows x 6 columns]"
      ]
     },
     "execution_count": 28,
     "metadata": {},
     "output_type": "execute_result"
    }
   ],
   "source": [
    "df_every_round_results.reset_index(drop=True)"
   ]
  },
  {
   "cell_type": "code",
   "execution_count": 29,
   "metadata": {},
   "outputs": [],
   "source": [
    "df_every_round_results.to_csv('../data/processed/0.4-test_results.csv', index=False)"
   ]
  }
 ],
 "metadata": {
  "interpreter": {
   "hash": "5675cb18eb1443b8369002c5f545df601e18a8d4e2c974b1cb42f0d4601b5184"
  },
  "kernelspec": {
   "display_name": "Python 3.9.7 64-bit ('machine-learning': conda)",
   "language": "python",
   "name": "python3"
  },
  "language_info": {
   "codemirror_mode": {
    "name": "ipython",
    "version": 3
   },
   "file_extension": ".py",
   "mimetype": "text/x-python",
   "name": "python",
   "nbconvert_exporter": "python",
   "pygments_lexer": "ipython3",
   "version": "3.9.7"
  },
  "orig_nbformat": 4
 },
 "nbformat": 4,
 "nbformat_minor": 2
}
