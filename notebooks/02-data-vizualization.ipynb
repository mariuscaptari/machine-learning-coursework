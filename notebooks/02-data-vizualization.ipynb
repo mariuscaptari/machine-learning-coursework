{
 "cells": [
  {
   "cell_type": "code",
   "execution_count": 1,
   "metadata": {},
   "outputs": [],
   "source": [
    "import pandas as pd\n",
    "import matplotlib.pyplot as plt\n",
    "import seaborn as sb\n",
    "from pandas_profiling import ProfileReport\n",
    "\n",
    "%matplotlib inline"
   ]
  },
  {
   "cell_type": "code",
   "execution_count": 2,
   "metadata": {},
   "outputs": [],
   "source": [
    "circuits = pd.read_csv('../data/raw/circuits.csv')\n",
    "constructor_results = pd.read_csv('../data/raw/constructor_results.csv')\n",
    "constructor_standings = pd.read_csv('../data/raw/constructor_standings.csv')\n",
    "constructors = pd.read_csv('../data/raw/constructors.csv')\n",
    "driver_standings = pd.read_csv('../data/raw/driver_standings.csv')\n",
    "drivers = pd.read_csv('../data/raw/drivers.csv', parse_dates=[6])\n",
    "lap_times = pd.read_csv('../data/raw/lap_times.csv')\n",
    "pit_stops = pd.read_csv('../data/raw/pit_stops.csv')\n",
    "qualifying = pd.read_csv('../data/raw/qualifying.csv')\n",
    "races = pd.read_csv('../data/raw/races.csv', parse_dates=[5])\n",
    "results = pd.read_csv('../data/raw/results.csv')\n",
    "seasons = pd.read_csv('../data/raw/seasons.csv')\n",
    "status = pd.read_csv('../data/raw/status.csv')"
   ]
  },
  {
   "cell_type": "code",
   "execution_count": null,
   "metadata": {},
   "outputs": [],
   "source": [
    "df = pd.merge(results,races[['raceId','year', 'name','round']],on='raceId', how='left')\n",
    "df = pd.merge(df,drivers[['driverId','driverRef', 'nationality']],on='driverId', how='left')\n",
    "df = pd.merge(df,constructors[['constructorId', 'name','nationality']],on='constructorId', how='left')"
   ]
  },
  {
   "cell_type": "code",
   "execution_count": null,
   "metadata": {},
   "outputs": [],
   "source": [
    "df.rename(columns={'rank': 'fastest_lap_rank', 'name_x': 'gp_name', 'nationality_x': 'driver_nationality', 'name_y': 'constructor_name', 'nationality_y': 'constructor_nationality', 'driver_ref': 'driver'}, inplace=True)\n",
    "df = df.sort_values(by=['year', 'round','positionOrder'], ascending = [False, True, True])\n",
    "df.reset_index(drop = True, inplace=True)"
   ]
  },
  {
   "cell_type": "code",
   "execution_count": null,
   "metadata": {},
   "outputs": [],
   "source": [
    "# drivers top 10 most wins\n",
    "driver_racewins_count = df.loc[df['positionOrder'] == 1].groupby('driverRef')['positionOrder'].count().sort_values(ascending=False).to_frame().reset_index()\n",
    "base_color = sb.color_palette()[0]\n",
    "sb.barplot(data = driver_racewins_count.head(10), y = 'driverRef', x = 'positionOrder', color = base_color, alpha = 0.8, linewidth=.8, edgecolor=\"black\")\n",
    "plt.title('Most GP winners in F1 history')\n",
    "plt.ylabel('Driver')\n",
    "plt.xlabel('Number of GP wins');"
   ]
  },
  {
   "cell_type": "code",
   "execution_count": null,
   "metadata": {},
   "outputs": [],
   "source": [
    "# constructor teams top 10 most wins\n",
    "driver_racewins_count = df.loc[df['positionOrder'] == 1].groupby('constructor_name')['positionOrder'].count().sort_values(ascending=False).to_frame().reset_index()\n",
    "base_color = sb.color_palette()[0]\n",
    "sb.barplot(data = driver_racewins_count.head(10), y = 'constructor_name', x = 'positionOrder', color = base_color, alpha = 0.8, linewidth=.8, edgecolor=\"black\")\n",
    "plt.title('Most GP winners in F1 history')\n",
    "plt.ylabel('Team')\n",
    "plt.xlabel('Number of GP wins');"
   ]
  },
  {
   "cell_type": "code",
   "execution_count": null,
   "metadata": {},
   "outputs": [],
   "source": [
    "current_drivers = df.loc[df['year'] == 2021].driverRef.drop_duplicates()\n",
    "driver_positions_count = df.loc[df['driverRef'].isin(current_drivers) & (df['year'] == 2021)].sort_values(by=['constructor_name'])\n",
    "positions = [5,2,3,4,1,6,7,8,9,10,11,12,13,14,15,16,17,18,19,20,21]\n",
    "boxplot = driver_positions_count.boxplot(by='driverRef', column=['positionOrder'], rot=90, figsize=(15,8), grid=False, patch_artist = True)"
   ]
  },
  {
   "cell_type": "code",
   "execution_count": null,
   "metadata": {},
   "outputs": [],
   "source": [
    "df_processed = pd.read_csv('../data/processed/0.1-initial-exploration.csv',index_col=False)\n",
    "df_processed = df_processed.loc[:, ~df_processed.columns.str.contains('^Unnamed')]\n",
    "\n",
    "df_processed.loc[:, 'positionOrder'] = pd.to_numeric(df_processed.loc[:, 'positionOrder'], errors='coerce')\n",
    "df_processed.loc[:, 'ageAtRace'] = pd.to_numeric(df_processed.loc[:, 'ageAtRace'], errors='coerce')\n",
    "df_processed.loc[:, 'ageAtDebut'] = pd.to_numeric(df_processed.loc[:, 'ageAtDebut'], errors='coerce')\n",
    "df_processed.loc[:, 'yearsExperience'] = pd.to_numeric(df_processed.loc[:, 'yearsExperience'], errors='coerce')\n",
    "\n",
    "df_processed = df_processed.drop(['resultId','raceId','constructorId','position','positionText','pointsGained',\n",
    "'laps','time_x','milliseconds','fastestLapSpeed','fastestLapTime','fastestLap','statusId'\n",
    ",'circuitName','date','dateOfDebut','status','driverStandingsId'], 1)\n"
   ]
  },
  {
   "cell_type": "code",
   "execution_count": null,
   "metadata": {},
   "outputs": [],
   "source": [
    "profile = ProfileReport(df_processed, minimal=False, title=\"Exploratory Formula 1 Report\")\n",
    "profile.to_file('../reports/output.html')"
   ]
  }
 ],
 "metadata": {
  "interpreter": {
   "hash": "5675cb18eb1443b8369002c5f545df601e18a8d4e2c974b1cb42f0d4601b5184"
  },
  "kernelspec": {
   "display_name": "Python 3.9.7 64-bit ('machine-learning': conda)",
   "language": "python",
   "name": "python3"
  },
  "language_info": {
   "codemirror_mode": {
    "name": "ipython",
    "version": 3
   },
   "file_extension": ".py",
   "mimetype": "text/x-python",
   "name": "python",
   "nbconvert_exporter": "python",
   "pygments_lexer": "ipython3",
   "version": "3.9.7"
  },
  "orig_nbformat": 4
 },
 "nbformat": 4,
 "nbformat_minor": 2
}
